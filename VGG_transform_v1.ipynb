{
 "cells": [
  {
   "cell_type": "code",
   "execution_count": 13,
   "metadata": {},
   "outputs": [],
   "source": [
    "import pandas as pd\n",
    "import cv2\n",
    "import numpy as np\n",
    "from datetime import datetime\n",
    "import tensorflow as tf\n",
    "from tensorflow.keras.models import Model\n",
    "from tensorflow.keras.layers import (\n",
    "    Input, LSTM, Dense, Dropout, Flatten, Concatenate, TimeDistributed,\n",
    "    Conv2D, MaxPooling2D, GlobalAveragePooling2D, BatchNormalization\n",
    ")\n",
    "from tensorflow.keras.applications import VGG16\n",
    "from sklearn.preprocessing import MinMaxScaler\n",
    "import optuna\n",
    "import os\n",
    "import matplotlib.pyplot as plt"
   ]
  },
  {
   "cell_type": "code",
   "execution_count": 2,
   "metadata": {},
   "outputs": [],
   "source": [
    "\n",
    "# Funciones\n",
    "# Función para convertir el formato de timestamp del DataFrame al formato de los nombres de las imágenes\n",
    "def get_closest_image_path(timestamp, image_folder):\n",
    "    base_image_name = f'OR_ABI-L2-ACMF-M6_G16_s{timestamp.strftime(\"%Y%m%d%H%M\")}'\n",
    "    for second in range(60):\n",
    "        image_name = f\"{base_image_name}{second:02d}.png\"\n",
    "        image_path = os.path.join(image_folder, image_name)\n",
    "        if os.path.exists(image_path):\n",
    "            return image_path\n",
    "    return None\n",
    "\n",
    "\n",
    "\n",
    "def calculate_fourier_features(series, n_components=5):\n",
    "    fft = np.fft.fft(series)\n",
    "    fft_magnitudes = np.abs(fft)[:len(fft) // 2]  # Usar solo frecuencias positivas\n",
    "    top_frequencies = np.argsort(fft_magnitudes)[-n_components:]  # Seleccionar las más importantes\n",
    "    top_magnitudes = fft_magnitudes[top_frequencies]\n",
    "    \n",
    "    # Asegurarse de que `top_magnitudes` siempre tenga longitud `n_components`\n",
    "    if len(top_magnitudes) < n_components:\n",
    "        # Si hay menos componentes, rellenar con ceros\n",
    "        padding = np.zeros(n_components - len(top_magnitudes))\n",
    "        top_magnitudes = np.concatenate([top_magnitudes, padding])\n",
    "    \n",
    "    return top_magnitudes\n",
    "\n",
    "\n",
    "def load_images_and_ghi(df_filtrado, image_folder, n_fourier=5):\n",
    "    images = []\n",
    "    ghi_values = []\n",
    "    doy_sin = []\n",
    "    doy_cos = []\n",
    "    hour_sin = []\n",
    "    hour_cos = []\n",
    "    fourier_features = []\n",
    "\n",
    "    # Inicializar la última imagen válida con una imagen de ceros por si es la primera vez\n",
    "    last_valid_image = np.zeros((64, 64, 3), dtype=np.uint8)\n",
    "\n",
    "    for idx, row in df_filtrado.iterrows():\n",
    "        timestamp = row['Timestamp']\n",
    "        ghi_value = row['GHI']\n",
    "        doy_sin_value = row['DoY Sin']\n",
    "        doy_cos_value = row['DoY Cos']\n",
    "\n",
    "        # Calcular seno y coseno de la hora del día\n",
    "        hour_fraction = timestamp.hour + timestamp.minute / 60.0\n",
    "        hour_sin_value = np.sin(2 * np.pi * hour_fraction / 24)\n",
    "        hour_cos_value = np.cos(2 * np.pi * hour_fraction / 24)\n",
    "\n",
    "        image_path = get_closest_image_path(timestamp, image_folder)\n",
    "        img = cv2.imread(image_path)\n",
    "\n",
    "        if img is not None:\n",
    "            # Procesar la imagen si está disponible\n",
    "            img_resized = cv2.resize(img, (64, 64))\n",
    "            img_preprocessed = tf.keras.applications.vgg16.preprocess_input(img_resized)\n",
    "            last_valid_image = img_preprocessed  # Actualizar la última imagen válida\n",
    "        else:\n",
    "            # Usar la última imagen válida (Forward Fill)\n",
    "            img_preprocessed = last_valid_image\n",
    "            print(f\"Imagen no encontrada: {image_path}, usando la última imagen válida.\")\n",
    "\n",
    "        # Agregar valores a las listas\n",
    "        images.append(img_preprocessed)\n",
    "        ghi_values.append(ghi_value)\n",
    "        doy_sin.append(doy_sin_value)\n",
    "        doy_cos.append(doy_cos_value)\n",
    "        hour_sin.append(hour_sin_value)\n",
    "        hour_cos.append(hour_cos_value)\n",
    "\n",
    "        # Calcular componentes de Fourier para GHI\n",
    "        if len(ghi_values) >= n_fourier:\n",
    "            fourier_comp = calculate_fourier_features(ghi_values[-n_fourier:], n_components=n_fourier)\n",
    "        else:\n",
    "            fourier_comp = np.zeros(n_fourier)  # Rellenar con ceros si no hay suficientes datos\n",
    "\n",
    "        fourier_features.append(fourier_comp)\n",
    "\n",
    "    # Convertir a numpy arrays, asegurando consistencia en las dimensiones\n",
    "    ghi_values = np.array(ghi_values).reshape(-1, 1)\n",
    "    scaler = MinMaxScaler()\n",
    "    ghi_values_scaled = scaler.fit_transform(ghi_values)\n",
    "\n",
    "    doy_sin = np.array(doy_sin).reshape(-1, 1)\n",
    "    doy_cos = np.array(doy_cos).reshape(-1, 1)\n",
    "    hour_sin = np.array(hour_sin).reshape(-1, 1)\n",
    "    hour_cos = np.array(hour_cos).reshape(-1, 1)\n",
    "\n",
    "    print(f\"doy_sin_train shape: {doy_sin.shape}\")\n",
    "    print(f\"doy_cos_train shape: {doy_cos.shape}\")\n",
    "    print(f\"hour_sin_train shape: {hour_sin.shape}\")\n",
    "    print(f\"hour_cos_train shape: {hour_cos.shape}\")\n",
    "    print(f\"fourier_features_train shape: {len(fourier_features)}\")\n",
    "    # Convertir fourier_features en numpy array de forma consistente\n",
    "    fourier_features = np.array(fourier_features)\n",
    "\n",
    "    return np.array(images), ghi_values_scaled, scaler, doy_sin, doy_cos, hour_sin, hour_cos, fourier_features\n",
    "\n",
    "\n",
    "# Preparar secuencias para la LSTM\n",
    "def create_sequences(images, aux_features, ghi_values, time_steps):\n",
    "    X_images_seq = []\n",
    "    X_aux_seq = []\n",
    "    y_seq = []\n",
    "\n",
    "    for i in range(len(images) - time_steps):\n",
    "        # Crear secuencia de imágenes de longitud `time_steps`\n",
    "        X_images_seq.append(images[i:i + time_steps])\n",
    "        \n",
    "        # Crear secuencia de características auxiliares de longitud `time_steps`\n",
    "        X_aux_seq.append(aux_features[i:i + time_steps])\n",
    "        \n",
    "        # La variable objetivo es una secuencia de `n_steps` valores GHI después del último paso de la secuencia\n",
    "        y_seq.append(ghi_values[i + time_steps])\n",
    "\n",
    "    return np.array(X_images_seq), np.array(X_aux_seq), np.array(y_seq)\n",
    "\n"
   ]
  },
  {
   "cell_type": "code",
   "execution_count": null,
   "metadata": {},
   "outputs": [
    {
     "name": "stderr",
     "output_type": "stream",
     "text": [
      "[I 2024-11-29 08:29:50,606] A new study created in memory with name: no-name-c93c496e-a5bc-4c7d-b183-aac84341eb90\n"
     ]
    },
    {
     "name": "stdout",
     "output_type": "stream",
     "text": [
      "Imagen no encontrada: None, usando la última imagen válida.\n"
     ]
    },
    {
     "name": "stderr",
     "output_type": "stream",
     "text": [
      "[ WARN:0@8.565] global loadsave.cpp:241 findDecoder imread_(''): can't open/read file: check file path/integrity\n"
     ]
    },
    {
     "name": "stdout",
     "output_type": "stream",
     "text": [
      "Imagen no encontrada: None, usando la última imagen válida.\n"
     ]
    },
    {
     "name": "stderr",
     "output_type": "stream",
     "text": [
      "[ WARN:0@11.464] global loadsave.cpp:241 findDecoder imread_(''): can't open/read file: check file path/integrity\n"
     ]
    },
    {
     "name": "stdout",
     "output_type": "stream",
     "text": [
      "Imagen no encontrada: None, usando la última imagen válida.\n",
      "Imagen no encontrada: None, usando la última imagen válida.\n"
     ]
    },
    {
     "name": "stderr",
     "output_type": "stream",
     "text": [
      "[ WARN:0@14.797] global loadsave.cpp:241 findDecoder imread_(''): can't open/read file: check file path/integrity\n",
      "[ WARN:0@14.866] global loadsave.cpp:241 findDecoder imread_(''): can't open/read file: check file path/integrity\n"
     ]
    },
    {
     "name": "stdout",
     "output_type": "stream",
     "text": [
      "Imagen no encontrada: None, usando la última imagen válida.\n"
     ]
    },
    {
     "name": "stderr",
     "output_type": "stream",
     "text": [
      "[ WARN:0@16.040] global loadsave.cpp:241 findDecoder imread_(''): can't open/read file: check file path/integrity\n"
     ]
    },
    {
     "name": "stdout",
     "output_type": "stream",
     "text": [
      "Imagen no encontrada: None, usando la última imagen válida.\n",
      "Imagen no encontrada: None, usando la última imagen válida.\n"
     ]
    },
    {
     "name": "stderr",
     "output_type": "stream",
     "text": [
      "[ WARN:0@18.415] global loadsave.cpp:241 findDecoder imread_(''): can't open/read file: check file path/integrity\n",
      "[ WARN:0@18.484] global loadsave.cpp:241 findDecoder imread_(''): can't open/read file: check file path/integrity\n"
     ]
    },
    {
     "name": "stdout",
     "output_type": "stream",
     "text": [
      "doy_sin_train shape: (4838, 1)\n",
      "doy_cos_train shape: (4838, 1)\n",
      "hour_sin_train shape: (4838, 1)\n",
      "hour_cos_train shape: (4838, 1)\n",
      "fourier_features_train shape: 4838\n"
     ]
    },
    {
     "name": "stderr",
     "output_type": "stream",
     "text": [
      "WARNING: All log messages before absl::InitializeLog() is called are written to STDERR\n",
      "I0000 00:00:1732887005.951455 1725829 cuda_executor.cc:1015] successful NUMA node read from SysFS had negative value (-1), but there must be at least one NUMA node, so returning NUMA node zero. See more at https://github.com/torvalds/linux/blob/v6.0/Documentation/ABI/testing/sysfs-bus-pci#L344-L355\n",
      "2024-11-29 08:30:05.951714: W tensorflow/core/common_runtime/gpu/gpu_device.cc:2343] Cannot dlopen some GPU libraries. Please make sure the missing libraries mentioned above are installed properly if you would like to use GPU. Follow the guide at https://www.tensorflow.org/install/gpu for how to download and setup the required libraries for your platform.\n",
      "Skipping registering GPU devices...\n",
      "/home/aia-workstation/anaconda3/lib/python3.12/site-packages/keras/src/models/functional.py:225: UserWarning: The structure of `inputs` doesn't match the expected structure: ['keras_tensor_24', 'keras_tensor_29']. Received: the structure of inputs=('*', '*')\n",
      "  warnings.warn(\n",
      "[I 2024-11-29 08:43:39,764] Trial 0 finished with value: 0.008741602301597595 and parameters: {'lstm_units_cnn': 192, 'lstm_units_aux': 128, 'dense_units': 192, 'dropout_rate': 0.2}. Best is trial 0 with value: 0.008741602301597595.\n"
     ]
    },
    {
     "name": "stdout",
     "output_type": "stream",
     "text": [
      "Imagen no encontrada: None, usando la última imagen válida.\n"
     ]
    },
    {
     "name": "stderr",
     "output_type": "stream",
     "text": [
      "[ WARN:0@836.434] global loadsave.cpp:241 findDecoder imread_(''): can't open/read file: check file path/integrity\n"
     ]
    },
    {
     "name": "stdout",
     "output_type": "stream",
     "text": [
      "Imagen no encontrada: None, usando la última imagen válida.\n"
     ]
    },
    {
     "name": "stderr",
     "output_type": "stream",
     "text": [
      "[ WARN:0@839.047] global loadsave.cpp:241 findDecoder imread_(''): can't open/read file: check file path/integrity\n"
     ]
    },
    {
     "name": "stdout",
     "output_type": "stream",
     "text": [
      "Imagen no encontrada: None, usando la última imagen válida.\n",
      "Imagen no encontrada: None, usando la última imagen válida.\n"
     ]
    },
    {
     "name": "stderr",
     "output_type": "stream",
     "text": [
      "[ WARN:0@841.831] global loadsave.cpp:241 findDecoder imread_(''): can't open/read file: check file path/integrity\n",
      "[ WARN:0@841.893] global loadsave.cpp:241 findDecoder imread_(''): can't open/read file: check file path/integrity\n"
     ]
    },
    {
     "name": "stdout",
     "output_type": "stream",
     "text": [
      "Imagen no encontrada: None, usando la última imagen válida.\n"
     ]
    },
    {
     "name": "stderr",
     "output_type": "stream",
     "text": [
      "[ WARN:0@842.792] global loadsave.cpp:241 findDecoder imread_(''): can't open/read file: check file path/integrity\n"
     ]
    },
    {
     "name": "stdout",
     "output_type": "stream",
     "text": [
      "Imagen no encontrada: None, usando la última imagen válida.\n",
      "Imagen no encontrada: None, usando la última imagen válida.\n"
     ]
    },
    {
     "name": "stderr",
     "output_type": "stream",
     "text": [
      "[ WARN:0@844.625] global loadsave.cpp:241 findDecoder imread_(''): can't open/read file: check file path/integrity\n",
      "[ WARN:0@844.687] global loadsave.cpp:241 findDecoder imread_(''): can't open/read file: check file path/integrity\n"
     ]
    },
    {
     "name": "stdout",
     "output_type": "stream",
     "text": [
      "doy_sin_train shape: (4838, 1)\n",
      "doy_cos_train shape: (4838, 1)\n",
      "hour_sin_train shape: (4838, 1)\n",
      "hour_cos_train shape: (4838, 1)\n",
      "fourier_features_train shape: 4838\n"
     ]
    },
    {
     "name": "stderr",
     "output_type": "stream",
     "text": [
      "/home/aia-workstation/anaconda3/lib/python3.12/site-packages/keras/src/models/functional.py:225: UserWarning: The structure of `inputs` doesn't match the expected structure: ['keras_tensor_59', 'keras_tensor_64']. Received: the structure of inputs=('*', '*')\n",
      "  warnings.warn(\n",
      "[I 2024-11-29 08:57:19,989] Trial 1 finished with value: 0.004021277651190758 and parameters: {'lstm_units_cnn': 64, 'lstm_units_aux': 64, 'dense_units': 256, 'dropout_rate': 0.4}. Best is trial 1 with value: 0.004021277651190758.\n"
     ]
    },
    {
     "name": "stdout",
     "output_type": "stream",
     "text": [
      "Imagen no encontrada: None, usando la última imagen válida.\n"
     ]
    },
    {
     "name": "stderr",
     "output_type": "stream",
     "text": [
      "[ WARN:0@1656.737] global loadsave.cpp:241 findDecoder imread_(''): can't open/read file: check file path/integrity\n"
     ]
    },
    {
     "name": "stdout",
     "output_type": "stream",
     "text": [
      "Imagen no encontrada: None, usando la última imagen válida.\n"
     ]
    },
    {
     "name": "stderr",
     "output_type": "stream",
     "text": [
      "[ WARN:0@1659.367] global loadsave.cpp:241 findDecoder imread_(''): can't open/read file: check file path/integrity\n"
     ]
    },
    {
     "name": "stdout",
     "output_type": "stream",
     "text": [
      "Imagen no encontrada: None, usando la última imagen válida.\n",
      "Imagen no encontrada: None, usando la última imagen válida.\n"
     ]
    },
    {
     "name": "stderr",
     "output_type": "stream",
     "text": [
      "[ WARN:0@1661.992] global loadsave.cpp:241 findDecoder imread_(''): can't open/read file: check file path/integrity\n",
      "[ WARN:0@1662.054] global loadsave.cpp:241 findDecoder imread_(''): can't open/read file: check file path/integrity\n"
     ]
    },
    {
     "name": "stdout",
     "output_type": "stream",
     "text": [
      "Imagen no encontrada: None, usando la última imagen válida.\n"
     ]
    },
    {
     "name": "stderr",
     "output_type": "stream",
     "text": [
      "[ WARN:0@1662.948] global loadsave.cpp:241 findDecoder imread_(''): can't open/read file: check file path/integrity\n"
     ]
    },
    {
     "name": "stdout",
     "output_type": "stream",
     "text": [
      "Imagen no encontrada: None, usando la última imagen válida.\n",
      "Imagen no encontrada: None, usando la última imagen válida.\n"
     ]
    },
    {
     "name": "stderr",
     "output_type": "stream",
     "text": [
      "[ WARN:0@1664.619] global loadsave.cpp:241 findDecoder imread_(''): can't open/read file: check file path/integrity\n",
      "[ WARN:0@1664.682] global loadsave.cpp:241 findDecoder imread_(''): can't open/read file: check file path/integrity\n"
     ]
    },
    {
     "name": "stdout",
     "output_type": "stream",
     "text": [
      "doy_sin_train shape: (4838, 1)\n",
      "doy_cos_train shape: (4838, 1)\n",
      "hour_sin_train shape: (4838, 1)\n",
      "hour_cos_train shape: (4838, 1)\n",
      "fourier_features_train shape: 4838\n"
     ]
    },
    {
     "name": "stderr",
     "output_type": "stream",
     "text": [
      "/home/aia-workstation/anaconda3/lib/python3.12/site-packages/keras/src/models/functional.py:225: UserWarning: The structure of `inputs` doesn't match the expected structure: ['keras_tensor_94', 'keras_tensor_99']. Received: the structure of inputs=('*', '*')\n",
      "  warnings.warn(\n",
      "[I 2024-11-29 09:11:07,032] Trial 2 finished with value: 0.004935587756335735 and parameters: {'lstm_units_cnn': 256, 'lstm_units_aux': 64, 'dense_units': 192, 'dropout_rate': 0.30000000000000004}. Best is trial 1 with value: 0.004021277651190758.\n"
     ]
    },
    {
     "name": "stdout",
     "output_type": "stream",
     "text": [
      "Imagen no encontrada: None, usando la última imagen válida.\n"
     ]
    },
    {
     "name": "stderr",
     "output_type": "stream",
     "text": [
      "[ WARN:0@2483.765] global loadsave.cpp:241 findDecoder imread_(''): can't open/read file: check file path/integrity\n"
     ]
    },
    {
     "name": "stdout",
     "output_type": "stream",
     "text": [
      "Imagen no encontrada: None, usando la última imagen válida.\n"
     ]
    },
    {
     "name": "stderr",
     "output_type": "stream",
     "text": [
      "[ WARN:0@2486.381] global loadsave.cpp:241 findDecoder imread_(''): can't open/read file: check file path/integrity\n"
     ]
    },
    {
     "name": "stdout",
     "output_type": "stream",
     "text": [
      "Imagen no encontrada: None, usando la última imagen válida.\n",
      "Imagen no encontrada: None, usando la última imagen válida.\n"
     ]
    },
    {
     "name": "stderr",
     "output_type": "stream",
     "text": [
      "[ WARN:0@2489.003] global loadsave.cpp:241 findDecoder imread_(''): can't open/read file: check file path/integrity\n",
      "[ WARN:0@2489.064] global loadsave.cpp:241 findDecoder imread_(''): can't open/read file: check file path/integrity\n"
     ]
    },
    {
     "name": "stdout",
     "output_type": "stream",
     "text": [
      "Imagen no encontrada: None, usando la última imagen válida.\n"
     ]
    },
    {
     "name": "stderr",
     "output_type": "stream",
     "text": [
      "[ WARN:0@2489.953] global loadsave.cpp:241 findDecoder imread_(''): can't open/read file: check file path/integrity\n"
     ]
    },
    {
     "name": "stdout",
     "output_type": "stream",
     "text": [
      "Imagen no encontrada: None, usando la última imagen válida.\n",
      "Imagen no encontrada: None, usando la última imagen válida.\n"
     ]
    },
    {
     "name": "stderr",
     "output_type": "stream",
     "text": [
      "[ WARN:0@2491.618] global loadsave.cpp:241 findDecoder imread_(''): can't open/read file: check file path/integrity\n",
      "[ WARN:0@2491.680] global loadsave.cpp:241 findDecoder imread_(''): can't open/read file: check file path/integrity\n"
     ]
    },
    {
     "name": "stdout",
     "output_type": "stream",
     "text": [
      "doy_sin_train shape: (4838, 1)\n",
      "doy_cos_train shape: (4838, 1)\n",
      "hour_sin_train shape: (4838, 1)\n",
      "hour_cos_train shape: (4838, 1)\n",
      "fourier_features_train shape: 4838\n"
     ]
    },
    {
     "name": "stderr",
     "output_type": "stream",
     "text": [
      "/home/aia-workstation/anaconda3/lib/python3.12/site-packages/keras/src/models/functional.py:225: UserWarning: The structure of `inputs` doesn't match the expected structure: ['keras_tensor_129', 'keras_tensor_134']. Received: the structure of inputs=('*', '*')\n",
      "  warnings.warn(\n",
      "[I 2024-11-29 09:24:58,300] Trial 3 finished with value: 0.007467654999345541 and parameters: {'lstm_units_cnn': 256, 'lstm_units_aux': 128, 'dense_units': 64, 'dropout_rate': 0.2}. Best is trial 1 with value: 0.004021277651190758.\n"
     ]
    },
    {
     "name": "stdout",
     "output_type": "stream",
     "text": [
      "Imagen no encontrada: None, usando la última imagen válida.\n"
     ]
    },
    {
     "name": "stderr",
     "output_type": "stream",
     "text": [
      "[ WARN:0@3314.984] global loadsave.cpp:241 findDecoder imread_(''): can't open/read file: check file path/integrity\n"
     ]
    },
    {
     "name": "stdout",
     "output_type": "stream",
     "text": [
      "Imagen no encontrada: None, usando la última imagen válida.\n"
     ]
    },
    {
     "name": "stderr",
     "output_type": "stream",
     "text": [
      "[ WARN:0@3317.613] global loadsave.cpp:241 findDecoder imread_(''): can't open/read file: check file path/integrity\n"
     ]
    },
    {
     "name": "stdout",
     "output_type": "stream",
     "text": [
      "Imagen no encontrada: None, usando la última imagen válida.\n",
      "Imagen no encontrada: None, usando la última imagen válida.\n"
     ]
    },
    {
     "name": "stderr",
     "output_type": "stream",
     "text": [
      "[ WARN:0@3320.248] global loadsave.cpp:241 findDecoder imread_(''): can't open/read file: check file path/integrity\n",
      "[ WARN:0@3320.310] global loadsave.cpp:241 findDecoder imread_(''): can't open/read file: check file path/integrity\n"
     ]
    },
    {
     "name": "stdout",
     "output_type": "stream",
     "text": [
      "Imagen no encontrada: None, usando la última imagen válida.\n"
     ]
    },
    {
     "name": "stderr",
     "output_type": "stream",
     "text": [
      "[ WARN:0@3321.209] global loadsave.cpp:241 findDecoder imread_(''): can't open/read file: check file path/integrity\n"
     ]
    },
    {
     "name": "stdout",
     "output_type": "stream",
     "text": [
      "Imagen no encontrada: None, usando la última imagen válida.\n",
      "Imagen no encontrada: None, usando la última imagen válida.\n"
     ]
    },
    {
     "name": "stderr",
     "output_type": "stream",
     "text": [
      "[ WARN:0@3322.887] global loadsave.cpp:241 findDecoder imread_(''): can't open/read file: check file path/integrity\n",
      "[ WARN:0@3322.949] global loadsave.cpp:241 findDecoder imread_(''): can't open/read file: check file path/integrity\n"
     ]
    },
    {
     "name": "stdout",
     "output_type": "stream",
     "text": [
      "doy_sin_train shape: (4838, 1)\n",
      "doy_cos_train shape: (4838, 1)\n",
      "hour_sin_train shape: (4838, 1)\n",
      "hour_cos_train shape: (4838, 1)\n",
      "fourier_features_train shape: 4838\n"
     ]
    },
    {
     "name": "stderr",
     "output_type": "stream",
     "text": [
      "/home/aia-workstation/anaconda3/lib/python3.12/site-packages/keras/src/models/functional.py:225: UserWarning: The structure of `inputs` doesn't match the expected structure: ['keras_tensor_164', 'keras_tensor_169']. Received: the structure of inputs=('*', '*')\n",
      "  warnings.warn(\n",
      "[I 2024-11-29 09:38:47,811] Trial 4 finished with value: 0.0048756953328847885 and parameters: {'lstm_units_cnn': 256, 'lstm_units_aux': 32, 'dense_units': 256, 'dropout_rate': 0.2}. Best is trial 1 with value: 0.004021277651190758.\n"
     ]
    },
    {
     "name": "stdout",
     "output_type": "stream",
     "text": [
      "Imagen no encontrada: None, usando la última imagen válida.\n"
     ]
    },
    {
     "name": "stderr",
     "output_type": "stream",
     "text": [
      "[ WARN:0@4144.474] global loadsave.cpp:241 findDecoder imread_(''): can't open/read file: check file path/integrity\n"
     ]
    },
    {
     "name": "stdout",
     "output_type": "stream",
     "text": [
      "Imagen no encontrada: None, usando la última imagen válida.\n"
     ]
    },
    {
     "name": "stderr",
     "output_type": "stream",
     "text": [
      "[ WARN:0@4147.109] global loadsave.cpp:241 findDecoder imread_(''): can't open/read file: check file path/integrity\n"
     ]
    },
    {
     "name": "stdout",
     "output_type": "stream",
     "text": [
      "Imagen no encontrada: None, usando la última imagen válida.\n",
      "Imagen no encontrada: None, usando la última imagen válida.\n"
     ]
    },
    {
     "name": "stderr",
     "output_type": "stream",
     "text": [
      "[ WARN:0@4149.740] global loadsave.cpp:241 findDecoder imread_(''): can't open/read file: check file path/integrity\n",
      "[ WARN:0@4149.801] global loadsave.cpp:241 findDecoder imread_(''): can't open/read file: check file path/integrity\n"
     ]
    },
    {
     "name": "stdout",
     "output_type": "stream",
     "text": [
      "Imagen no encontrada: None, usando la última imagen válida.\n"
     ]
    },
    {
     "name": "stderr",
     "output_type": "stream",
     "text": [
      "[ WARN:0@4150.698] global loadsave.cpp:241 findDecoder imread_(''): can't open/read file: check file path/integrity\n"
     ]
    },
    {
     "name": "stdout",
     "output_type": "stream",
     "text": [
      "Imagen no encontrada: None, usando la última imagen válida.\n",
      "Imagen no encontrada: None, usando la última imagen válida.\n"
     ]
    },
    {
     "name": "stderr",
     "output_type": "stream",
     "text": [
      "[ WARN:0@4152.384] global loadsave.cpp:241 findDecoder imread_(''): can't open/read file: check file path/integrity\n",
      "[ WARN:0@4152.446] global loadsave.cpp:241 findDecoder imread_(''): can't open/read file: check file path/integrity\n"
     ]
    },
    {
     "name": "stdout",
     "output_type": "stream",
     "text": [
      "doy_sin_train shape: (4838, 1)\n",
      "doy_cos_train shape: (4838, 1)\n",
      "hour_sin_train shape: (4838, 1)\n",
      "hour_cos_train shape: (4838, 1)\n",
      "fourier_features_train shape: 4838\n"
     ]
    },
    {
     "name": "stderr",
     "output_type": "stream",
     "text": [
      "/home/aia-workstation/anaconda3/lib/python3.12/site-packages/keras/src/models/functional.py:225: UserWarning: The structure of `inputs` doesn't match the expected structure: ['keras_tensor_199', 'keras_tensor_204']. Received: the structure of inputs=('*', '*')\n",
      "  warnings.warn(\n",
      "[I 2024-11-29 09:52:32,097] Trial 5 finished with value: 0.0061447517946362495 and parameters: {'lstm_units_cnn': 128, 'lstm_units_aux': 64, 'dense_units': 256, 'dropout_rate': 0.30000000000000004}. Best is trial 1 with value: 0.004021277651190758.\n"
     ]
    },
    {
     "name": "stdout",
     "output_type": "stream",
     "text": [
      "Imagen no encontrada: None, usando la última imagen válida.\n"
     ]
    },
    {
     "name": "stderr",
     "output_type": "stream",
     "text": [
      "[ WARN:0@4968.870] global loadsave.cpp:241 findDecoder imread_(''): can't open/read file: check file path/integrity\n"
     ]
    },
    {
     "name": "stdout",
     "output_type": "stream",
     "text": [
      "Imagen no encontrada: None, usando la última imagen válida.\n"
     ]
    },
    {
     "name": "stderr",
     "output_type": "stream",
     "text": [
      "[ WARN:0@4971.482] global loadsave.cpp:241 findDecoder imread_(''): can't open/read file: check file path/integrity\n"
     ]
    },
    {
     "name": "stdout",
     "output_type": "stream",
     "text": [
      "Imagen no encontrada: None, usando la última imagen válida.\n",
      "Imagen no encontrada: None, usando la última imagen válida.\n"
     ]
    },
    {
     "name": "stderr",
     "output_type": "stream",
     "text": [
      "[ WARN:0@4974.094] global loadsave.cpp:241 findDecoder imread_(''): can't open/read file: check file path/integrity\n",
      "[ WARN:0@4974.155] global loadsave.cpp:241 findDecoder imread_(''): can't open/read file: check file path/integrity\n"
     ]
    },
    {
     "name": "stdout",
     "output_type": "stream",
     "text": [
      "Imagen no encontrada: None, usando la última imagen válida.\n"
     ]
    },
    {
     "name": "stderr",
     "output_type": "stream",
     "text": [
      "[ WARN:0@4975.046] global loadsave.cpp:241 findDecoder imread_(''): can't open/read file: check file path/integrity\n"
     ]
    },
    {
     "name": "stdout",
     "output_type": "stream",
     "text": [
      "Imagen no encontrada: None, usando la última imagen válida.\n",
      "Imagen no encontrada: None, usando la última imagen válida.\n"
     ]
    },
    {
     "name": "stderr",
     "output_type": "stream",
     "text": [
      "[ WARN:0@4976.712] global loadsave.cpp:241 findDecoder imread_(''): can't open/read file: check file path/integrity\n",
      "[ WARN:0@4976.774] global loadsave.cpp:241 findDecoder imread_(''): can't open/read file: check file path/integrity\n"
     ]
    },
    {
     "name": "stdout",
     "output_type": "stream",
     "text": [
      "doy_sin_train shape: (4838, 1)\n",
      "doy_cos_train shape: (4838, 1)\n",
      "hour_sin_train shape: (4838, 1)\n",
      "hour_cos_train shape: (4838, 1)\n",
      "fourier_features_train shape: 4838\n"
     ]
    },
    {
     "name": "stderr",
     "output_type": "stream",
     "text": [
      "/home/aia-workstation/anaconda3/lib/python3.12/site-packages/keras/src/models/functional.py:225: UserWarning: The structure of `inputs` doesn't match the expected structure: ['keras_tensor_234', 'keras_tensor_239']. Received: the structure of inputs=('*', '*')\n",
      "  warnings.warn(\n",
      "[I 2024-11-29 10:06:14,029] Trial 6 finished with value: 0.004103752784430981 and parameters: {'lstm_units_cnn': 64, 'lstm_units_aux': 64, 'dense_units': 192, 'dropout_rate': 0.2}. Best is trial 1 with value: 0.004021277651190758.\n"
     ]
    },
    {
     "name": "stdout",
     "output_type": "stream",
     "text": [
      "Imagen no encontrada: None, usando la última imagen válida.\n"
     ]
    },
    {
     "name": "stderr",
     "output_type": "stream",
     "text": [
      "[ WARN:0@5790.902] global loadsave.cpp:241 findDecoder imread_(''): can't open/read file: check file path/integrity\n"
     ]
    },
    {
     "name": "stdout",
     "output_type": "stream",
     "text": [
      "Imagen no encontrada: None, usando la última imagen válida.\n"
     ]
    },
    {
     "name": "stderr",
     "output_type": "stream",
     "text": [
      "[ WARN:0@5793.594] global loadsave.cpp:241 findDecoder imread_(''): can't open/read file: check file path/integrity\n"
     ]
    },
    {
     "name": "stdout",
     "output_type": "stream",
     "text": [
      "Imagen no encontrada: None, usando la última imagen válida.\n",
      "Imagen no encontrada: None, usando la última imagen válida.\n"
     ]
    },
    {
     "name": "stderr",
     "output_type": "stream",
     "text": [
      "[ WARN:0@5796.474] global loadsave.cpp:241 findDecoder imread_(''): can't open/read file: check file path/integrity\n",
      "[ WARN:0@5796.649] global loadsave.cpp:241 findDecoder imread_(''): can't open/read file: check file path/integrity\n"
     ]
    },
    {
     "name": "stdout",
     "output_type": "stream",
     "text": [
      "Imagen no encontrada: None, usando la última imagen válida.\n"
     ]
    },
    {
     "name": "stderr",
     "output_type": "stream",
     "text": [
      "[ WARN:0@5797.549] global loadsave.cpp:241 findDecoder imread_(''): can't open/read file: check file path/integrity\n"
     ]
    },
    {
     "name": "stdout",
     "output_type": "stream",
     "text": [
      "Imagen no encontrada: None, usando la última imagen válida.\n",
      "Imagen no encontrada: None, usando la última imagen válida.\n"
     ]
    },
    {
     "name": "stderr",
     "output_type": "stream",
     "text": [
      "[ WARN:0@5799.226] global loadsave.cpp:241 findDecoder imread_(''): can't open/read file: check file path/integrity\n",
      "[ WARN:0@5799.288] global loadsave.cpp:241 findDecoder imread_(''): can't open/read file: check file path/integrity\n"
     ]
    },
    {
     "name": "stdout",
     "output_type": "stream",
     "text": [
      "doy_sin_train shape: (4838, 1)\n",
      "doy_cos_train shape: (4838, 1)\n",
      "hour_sin_train shape: (4838, 1)\n",
      "hour_cos_train shape: (4838, 1)\n",
      "fourier_features_train shape: 4838\n"
     ]
    },
    {
     "name": "stderr",
     "output_type": "stream",
     "text": [
      "/home/aia-workstation/anaconda3/lib/python3.12/site-packages/keras/src/models/functional.py:225: UserWarning: The structure of `inputs` doesn't match the expected structure: ['keras_tensor_269', 'keras_tensor_274']. Received: the structure of inputs=('*', '*')\n",
      "  warnings.warn(\n",
      "[I 2024-11-29 10:19:56,198] Trial 7 finished with value: 0.004996525123715401 and parameters: {'lstm_units_cnn': 128, 'lstm_units_aux': 96, 'dense_units': 256, 'dropout_rate': 0.30000000000000004}. Best is trial 1 with value: 0.004021277651190758.\n"
     ]
    },
    {
     "name": "stdout",
     "output_type": "stream",
     "text": [
      "Imagen no encontrada: None, usando la última imagen válida.\n"
     ]
    },
    {
     "name": "stderr",
     "output_type": "stream",
     "text": [
      "[ WARN:0@6612.852] global loadsave.cpp:241 findDecoder imread_(''): can't open/read file: check file path/integrity\n"
     ]
    },
    {
     "name": "stdout",
     "output_type": "stream",
     "text": [
      "Imagen no encontrada: None, usando la última imagen válida.\n"
     ]
    },
    {
     "name": "stderr",
     "output_type": "stream",
     "text": [
      "[ WARN:0@6615.467] global loadsave.cpp:241 findDecoder imread_(''): can't open/read file: check file path/integrity\n"
     ]
    },
    {
     "name": "stdout",
     "output_type": "stream",
     "text": [
      "Imagen no encontrada: None, usando la última imagen válida.\n",
      "Imagen no encontrada: None, usando la última imagen válida.\n"
     ]
    },
    {
     "name": "stderr",
     "output_type": "stream",
     "text": [
      "[ WARN:0@6618.082] global loadsave.cpp:241 findDecoder imread_(''): can't open/read file: check file path/integrity\n",
      "[ WARN:0@6618.143] global loadsave.cpp:241 findDecoder imread_(''): can't open/read file: check file path/integrity\n"
     ]
    },
    {
     "name": "stdout",
     "output_type": "stream",
     "text": [
      "Imagen no encontrada: None, usando la última imagen válida.\n"
     ]
    },
    {
     "name": "stderr",
     "output_type": "stream",
     "text": [
      "[ WARN:0@6619.039] global loadsave.cpp:241 findDecoder imread_(''): can't open/read file: check file path/integrity\n"
     ]
    },
    {
     "name": "stdout",
     "output_type": "stream",
     "text": [
      "Imagen no encontrada: None, usando la última imagen válida.\n",
      "Imagen no encontrada: None, usando la última imagen válida.\n"
     ]
    },
    {
     "name": "stderr",
     "output_type": "stream",
     "text": [
      "[ WARN:0@6620.704] global loadsave.cpp:241 findDecoder imread_(''): can't open/read file: check file path/integrity\n",
      "[ WARN:0@6620.766] global loadsave.cpp:241 findDecoder imread_(''): can't open/read file: check file path/integrity\n"
     ]
    },
    {
     "name": "stdout",
     "output_type": "stream",
     "text": [
      "doy_sin_train shape: (4838, 1)\n",
      "doy_cos_train shape: (4838, 1)\n",
      "hour_sin_train shape: (4838, 1)\n",
      "hour_cos_train shape: (4838, 1)\n",
      "fourier_features_train shape: 4838\n"
     ]
    },
    {
     "name": "stderr",
     "output_type": "stream",
     "text": [
      "/home/aia-workstation/anaconda3/lib/python3.12/site-packages/keras/src/models/functional.py:225: UserWarning: The structure of `inputs` doesn't match the expected structure: ['keras_tensor_304', 'keras_tensor_309']. Received: the structure of inputs=('*', '*')\n",
      "  warnings.warn(\n",
      "[I 2024-11-29 10:33:34,785] Trial 8 finished with value: 0.00441867345944047 and parameters: {'lstm_units_cnn': 128, 'lstm_units_aux': 32, 'dense_units': 256, 'dropout_rate': 0.2}. Best is trial 1 with value: 0.004021277651190758.\n"
     ]
    },
    {
     "name": "stdout",
     "output_type": "stream",
     "text": [
      "Imagen no encontrada: None, usando la última imagen válida.\n"
     ]
    },
    {
     "name": "stderr",
     "output_type": "stream",
     "text": [
      "[ WARN:0@7431.569] global loadsave.cpp:241 findDecoder imread_(''): can't open/read file: check file path/integrity\n"
     ]
    },
    {
     "name": "stdout",
     "output_type": "stream",
     "text": [
      "Imagen no encontrada: None, usando la última imagen válida.\n"
     ]
    },
    {
     "name": "stderr",
     "output_type": "stream",
     "text": [
      "[ WARN:0@7434.170] global loadsave.cpp:241 findDecoder imread_(''): can't open/read file: check file path/integrity\n"
     ]
    },
    {
     "name": "stdout",
     "output_type": "stream",
     "text": [
      "Imagen no encontrada: None, usando la última imagen válida.\n",
      "Imagen no encontrada: None, usando la última imagen válida.\n"
     ]
    },
    {
     "name": "stderr",
     "output_type": "stream",
     "text": [
      "[ WARN:0@7436.778] global loadsave.cpp:241 findDecoder imread_(''): can't open/read file: check file path/integrity\n",
      "[ WARN:0@7436.840] global loadsave.cpp:241 findDecoder imread_(''): can't open/read file: check file path/integrity\n"
     ]
    },
    {
     "name": "stdout",
     "output_type": "stream",
     "text": [
      "Imagen no encontrada: None, usando la última imagen válida.\n"
     ]
    },
    {
     "name": "stderr",
     "output_type": "stream",
     "text": [
      "[ WARN:0@7437.731] global loadsave.cpp:241 findDecoder imread_(''): can't open/read file: check file path/integrity\n"
     ]
    },
    {
     "name": "stdout",
     "output_type": "stream",
     "text": [
      "Imagen no encontrada: None, usando la última imagen válida.\n",
      "Imagen no encontrada: None, usando la última imagen válida.\n"
     ]
    },
    {
     "name": "stderr",
     "output_type": "stream",
     "text": [
      "[ WARN:0@7439.394] global loadsave.cpp:241 findDecoder imread_(''): can't open/read file: check file path/integrity\n",
      "[ WARN:0@7439.456] global loadsave.cpp:241 findDecoder imread_(''): can't open/read file: check file path/integrity\n"
     ]
    },
    {
     "name": "stdout",
     "output_type": "stream",
     "text": [
      "doy_sin_train shape: (4838, 1)\n",
      "doy_cos_train shape: (4838, 1)\n",
      "hour_sin_train shape: (4838, 1)\n",
      "hour_cos_train shape: (4838, 1)\n",
      "fourier_features_train shape: 4838\n"
     ]
    },
    {
     "name": "stderr",
     "output_type": "stream",
     "text": [
      "/home/aia-workstation/anaconda3/lib/python3.12/site-packages/keras/src/models/functional.py:225: UserWarning: The structure of `inputs` doesn't match the expected structure: ['keras_tensor_339', 'keras_tensor_344']. Received: the structure of inputs=('*', '*')\n",
      "  warnings.warn(\n",
      "[I 2024-11-29 10:47:18,575] Trial 9 finished with value: 0.008737978525459766 and parameters: {'lstm_units_cnn': 256, 'lstm_units_aux': 64, 'dense_units': 64, 'dropout_rate': 0.4}. Best is trial 1 with value: 0.004021277651190758.\n"
     ]
    },
    {
     "name": "stdout",
     "output_type": "stream",
     "text": [
      "Imagen no encontrada: None, usando la última imagen válida.\n"
     ]
    },
    {
     "name": "stderr",
     "output_type": "stream",
     "text": [
      "[ WARN:0@8255.214] global loadsave.cpp:241 findDecoder imread_(''): can't open/read file: check file path/integrity\n"
     ]
    },
    {
     "name": "stdout",
     "output_type": "stream",
     "text": [
      "Imagen no encontrada: None, usando la última imagen válida.\n"
     ]
    },
    {
     "name": "stderr",
     "output_type": "stream",
     "text": [
      "[ WARN:0@8257.827] global loadsave.cpp:241 findDecoder imread_(''): can't open/read file: check file path/integrity\n"
     ]
    },
    {
     "name": "stdout",
     "output_type": "stream",
     "text": [
      "Imagen no encontrada: None, usando la última imagen válida.\n",
      "Imagen no encontrada: None, usando la última imagen válida.\n"
     ]
    },
    {
     "name": "stderr",
     "output_type": "stream",
     "text": [
      "[ WARN:0@8260.441] global loadsave.cpp:241 findDecoder imread_(''): can't open/read file: check file path/integrity\n",
      "[ WARN:0@8260.502] global loadsave.cpp:241 findDecoder imread_(''): can't open/read file: check file path/integrity\n"
     ]
    },
    {
     "name": "stdout",
     "output_type": "stream",
     "text": [
      "Imagen no encontrada: None, usando la última imagen válida.\n"
     ]
    },
    {
     "name": "stderr",
     "output_type": "stream",
     "text": [
      "[ WARN:0@8261.397] global loadsave.cpp:241 findDecoder imread_(''): can't open/read file: check file path/integrity\n"
     ]
    },
    {
     "name": "stdout",
     "output_type": "stream",
     "text": [
      "Imagen no encontrada: None, usando la última imagen válida.\n",
      "Imagen no encontrada: None, usando la última imagen válida.\n"
     ]
    },
    {
     "name": "stderr",
     "output_type": "stream",
     "text": [
      "[ WARN:0@8263.062] global loadsave.cpp:241 findDecoder imread_(''): can't open/read file: check file path/integrity\n",
      "[ WARN:0@8263.124] global loadsave.cpp:241 findDecoder imread_(''): can't open/read file: check file path/integrity\n"
     ]
    },
    {
     "name": "stdout",
     "output_type": "stream",
     "text": [
      "doy_sin_train shape: (4838, 1)\n",
      "doy_cos_train shape: (4838, 1)\n",
      "hour_sin_train shape: (4838, 1)\n",
      "hour_cos_train shape: (4838, 1)\n",
      "fourier_features_train shape: 4838\n"
     ]
    },
    {
     "name": "stderr",
     "output_type": "stream",
     "text": [
      "/home/aia-workstation/anaconda3/lib/python3.12/site-packages/keras/src/models/functional.py:225: UserWarning: The structure of `inputs` doesn't match the expected structure: ['keras_tensor_374', 'keras_tensor_379']. Received: the structure of inputs=('*', '*')\n",
      "  warnings.warn(\n",
      "[I 2024-11-29 11:01:00,831] Trial 10 finished with value: 0.005075215362012386 and parameters: {'lstm_units_cnn': 64, 'lstm_units_aux': 96, 'dense_units': 128, 'dropout_rate': 0.5}. Best is trial 1 with value: 0.004021277651190758.\n"
     ]
    },
    {
     "name": "stdout",
     "output_type": "stream",
     "text": [
      "Imagen no encontrada: None, usando la última imagen válida.\n"
     ]
    },
    {
     "name": "stderr",
     "output_type": "stream",
     "text": [
      "[ WARN:0@9077.629] global loadsave.cpp:241 findDecoder imread_(''): can't open/read file: check file path/integrity\n"
     ]
    },
    {
     "name": "stdout",
     "output_type": "stream",
     "text": [
      "Imagen no encontrada: None, usando la última imagen válida.\n"
     ]
    },
    {
     "name": "stderr",
     "output_type": "stream",
     "text": [
      "[ WARN:0@9080.237] global loadsave.cpp:241 findDecoder imread_(''): can't open/read file: check file path/integrity\n"
     ]
    },
    {
     "name": "stdout",
     "output_type": "stream",
     "text": [
      "Imagen no encontrada: None, usando la última imagen válida.\n",
      "Imagen no encontrada: None, usando la última imagen válida.\n"
     ]
    },
    {
     "name": "stderr",
     "output_type": "stream",
     "text": [
      "[ WARN:0@9082.848] global loadsave.cpp:241 findDecoder imread_(''): can't open/read file: check file path/integrity\n",
      "[ WARN:0@9082.910] global loadsave.cpp:241 findDecoder imread_(''): can't open/read file: check file path/integrity\n"
     ]
    },
    {
     "name": "stdout",
     "output_type": "stream",
     "text": [
      "Imagen no encontrada: None, usando la última imagen válida.\n"
     ]
    },
    {
     "name": "stderr",
     "output_type": "stream",
     "text": [
      "[ WARN:0@9083.802] global loadsave.cpp:241 findDecoder imread_(''): can't open/read file: check file path/integrity\n"
     ]
    },
    {
     "name": "stdout",
     "output_type": "stream",
     "text": [
      "Imagen no encontrada: None, usando la última imagen válida.\n",
      "Imagen no encontrada: None, usando la última imagen válida.\n"
     ]
    },
    {
     "name": "stderr",
     "output_type": "stream",
     "text": [
      "[ WARN:0@9085.466] global loadsave.cpp:241 findDecoder imread_(''): can't open/read file: check file path/integrity\n",
      "[ WARN:0@9085.528] global loadsave.cpp:241 findDecoder imread_(''): can't open/read file: check file path/integrity\n"
     ]
    },
    {
     "name": "stdout",
     "output_type": "stream",
     "text": [
      "doy_sin_train shape: (4838, 1)\n",
      "doy_cos_train shape: (4838, 1)\n",
      "hour_sin_train shape: (4838, 1)\n",
      "hour_cos_train shape: (4838, 1)\n",
      "fourier_features_train shape: 4838\n"
     ]
    },
    {
     "name": "stderr",
     "output_type": "stream",
     "text": [
      "/home/aia-workstation/anaconda3/lib/python3.12/site-packages/keras/src/models/functional.py:225: UserWarning: The structure of `inputs` doesn't match the expected structure: ['keras_tensor_409', 'keras_tensor_414']. Received: the structure of inputs=('*', '*')\n",
      "  warnings.warn(\n",
      "[I 2024-11-29 11:14:37,935] Trial 11 finished with value: 0.0050672078505158424 and parameters: {'lstm_units_cnn': 64, 'lstm_units_aux': 64, 'dense_units': 192, 'dropout_rate': 0.4}. Best is trial 1 with value: 0.004021277651190758.\n"
     ]
    },
    {
     "name": "stdout",
     "output_type": "stream",
     "text": [
      "Imagen no encontrada: None, usando la última imagen válida.\n"
     ]
    },
    {
     "name": "stderr",
     "output_type": "stream",
     "text": [
      "[ WARN:0@9894.550] global loadsave.cpp:241 findDecoder imread_(''): can't open/read file: check file path/integrity\n"
     ]
    },
    {
     "name": "stdout",
     "output_type": "stream",
     "text": [
      "Imagen no encontrada: None, usando la última imagen válida.\n"
     ]
    },
    {
     "name": "stderr",
     "output_type": "stream",
     "text": [
      "[ WARN:0@9897.327] global loadsave.cpp:241 findDecoder imread_(''): can't open/read file: check file path/integrity\n"
     ]
    },
    {
     "name": "stdout",
     "output_type": "stream",
     "text": [
      "Imagen no encontrada: None, usando la última imagen válida.\n",
      "Imagen no encontrada: None, usando la última imagen válida.\n"
     ]
    },
    {
     "name": "stderr",
     "output_type": "stream",
     "text": [
      "[ WARN:0@9899.935] global loadsave.cpp:241 findDecoder imread_(''): can't open/read file: check file path/integrity\n",
      "[ WARN:0@9899.996] global loadsave.cpp:241 findDecoder imread_(''): can't open/read file: check file path/integrity\n"
     ]
    },
    {
     "name": "stdout",
     "output_type": "stream",
     "text": [
      "Imagen no encontrada: None, usando la última imagen válida.\n"
     ]
    },
    {
     "name": "stderr",
     "output_type": "stream",
     "text": [
      "[ WARN:0@9900.887] global loadsave.cpp:241 findDecoder imread_(''): can't open/read file: check file path/integrity\n"
     ]
    },
    {
     "name": "stdout",
     "output_type": "stream",
     "text": [
      "Imagen no encontrada: None, usando la última imagen válida.\n",
      "Imagen no encontrada: None, usando la última imagen válida.\n"
     ]
    },
    {
     "name": "stderr",
     "output_type": "stream",
     "text": [
      "[ WARN:0@9902.545] global loadsave.cpp:241 findDecoder imread_(''): can't open/read file: check file path/integrity\n",
      "[ WARN:0@9902.607] global loadsave.cpp:241 findDecoder imread_(''): can't open/read file: check file path/integrity\n"
     ]
    },
    {
     "name": "stdout",
     "output_type": "stream",
     "text": [
      "doy_sin_train shape: (4838, 1)\n",
      "doy_cos_train shape: (4838, 1)\n",
      "hour_sin_train shape: (4838, 1)\n",
      "hour_cos_train shape: (4838, 1)\n",
      "fourier_features_train shape: 4838\n"
     ]
    },
    {
     "name": "stderr",
     "output_type": "stream",
     "text": [
      "/home/aia-workstation/anaconda3/lib/python3.12/site-packages/keras/src/models/functional.py:225: UserWarning: The structure of `inputs` doesn't match the expected structure: ['keras_tensor_444', 'keras_tensor_449']. Received: the structure of inputs=('*', '*')\n",
      "  warnings.warn(\n",
      "[I 2024-11-29 11:28:13,958] Trial 12 finished with value: 0.00546236103400588 and parameters: {'lstm_units_cnn': 64, 'lstm_units_aux': 32, 'dense_units': 128, 'dropout_rate': 0.5}. Best is trial 1 with value: 0.004021277651190758.\n"
     ]
    },
    {
     "name": "stdout",
     "output_type": "stream",
     "text": [
      "Imagen no encontrada: None, usando la última imagen válida.\n"
     ]
    },
    {
     "name": "stderr",
     "output_type": "stream",
     "text": [
      "[ WARN:0@10710.701] global loadsave.cpp:241 findDecoder imread_(''): can't open/read file: check file path/integrity\n"
     ]
    },
    {
     "name": "stdout",
     "output_type": "stream",
     "text": [
      "Imagen no encontrada: None, usando la última imagen válida.\n"
     ]
    },
    {
     "name": "stderr",
     "output_type": "stream",
     "text": [
      "[ WARN:0@10713.317] global loadsave.cpp:241 findDecoder imread_(''): can't open/read file: check file path/integrity\n"
     ]
    },
    {
     "name": "stdout",
     "output_type": "stream",
     "text": [
      "Imagen no encontrada: None, usando la última imagen válida.\n",
      "Imagen no encontrada: None, usando la última imagen válida.\n"
     ]
    },
    {
     "name": "stderr",
     "output_type": "stream",
     "text": [
      "[ WARN:0@10715.943] global loadsave.cpp:241 findDecoder imread_(''): can't open/read file: check file path/integrity\n",
      "[ WARN:0@10716.004] global loadsave.cpp:241 findDecoder imread_(''): can't open/read file: check file path/integrity\n"
     ]
    },
    {
     "name": "stdout",
     "output_type": "stream",
     "text": [
      "Imagen no encontrada: None, usando la última imagen válida.\n"
     ]
    },
    {
     "name": "stderr",
     "output_type": "stream",
     "text": [
      "[ WARN:0@10716.894] global loadsave.cpp:241 findDecoder imread_(''): can't open/read file: check file path/integrity\n"
     ]
    },
    {
     "name": "stdout",
     "output_type": "stream",
     "text": [
      "Imagen no encontrada: None, usando la última imagen válida.\n",
      "Imagen no encontrada: None, usando la última imagen válida.\n"
     ]
    },
    {
     "name": "stderr",
     "output_type": "stream",
     "text": [
      "[ WARN:0@10718.558] global loadsave.cpp:241 findDecoder imread_(''): can't open/read file: check file path/integrity\n",
      "[ WARN:0@10718.620] global loadsave.cpp:241 findDecoder imread_(''): can't open/read file: check file path/integrity\n"
     ]
    },
    {
     "name": "stdout",
     "output_type": "stream",
     "text": [
      "doy_sin_train shape: (4838, 1)\n",
      "doy_cos_train shape: (4838, 1)\n",
      "hour_sin_train shape: (4838, 1)\n",
      "hour_cos_train shape: (4838, 1)\n",
      "fourier_features_train shape: 4838\n"
     ]
    },
    {
     "name": "stderr",
     "output_type": "stream",
     "text": [
      "/home/aia-workstation/anaconda3/lib/python3.12/site-packages/keras/src/models/functional.py:225: UserWarning: The structure of `inputs` doesn't match the expected structure: ['keras_tensor_479', 'keras_tensor_484']. Received: the structure of inputs=('*', '*')\n",
      "  warnings.warn(\n",
      "[I 2024-11-29 11:41:57,534] Trial 13 finished with value: 0.004314641933888197 and parameters: {'lstm_units_cnn': 64, 'lstm_units_aux': 96, 'dense_units': 192, 'dropout_rate': 0.4}. Best is trial 1 with value: 0.004021277651190758.\n"
     ]
    },
    {
     "name": "stdout",
     "output_type": "stream",
     "text": [
      "Imagen no encontrada: None, usando la última imagen válida.\n"
     ]
    },
    {
     "name": "stderr",
     "output_type": "stream",
     "text": [
      "[ WARN:0@11534.241] global loadsave.cpp:241 findDecoder imread_(''): can't open/read file: check file path/integrity\n"
     ]
    },
    {
     "name": "stdout",
     "output_type": "stream",
     "text": [
      "Imagen no encontrada: None, usando la última imagen válida.\n"
     ]
    },
    {
     "name": "stderr",
     "output_type": "stream",
     "text": [
      "[ WARN:0@11536.878] global loadsave.cpp:241 findDecoder imread_(''): can't open/read file: check file path/integrity\n"
     ]
    },
    {
     "name": "stdout",
     "output_type": "stream",
     "text": [
      "Imagen no encontrada: None, usando la última imagen válida.\n",
      "Imagen no encontrada: None, usando la última imagen válida.\n"
     ]
    },
    {
     "name": "stderr",
     "output_type": "stream",
     "text": [
      "[ WARN:0@11539.505] global loadsave.cpp:241 findDecoder imread_(''): can't open/read file: check file path/integrity\n",
      "[ WARN:0@11539.567] global loadsave.cpp:241 findDecoder imread_(''): can't open/read file: check file path/integrity\n"
     ]
    },
    {
     "name": "stdout",
     "output_type": "stream",
     "text": [
      "Imagen no encontrada: None, usando la última imagen válida.\n"
     ]
    },
    {
     "name": "stderr",
     "output_type": "stream",
     "text": [
      "[ WARN:0@11540.464] global loadsave.cpp:241 findDecoder imread_(''): can't open/read file: check file path/integrity\n"
     ]
    },
    {
     "name": "stdout",
     "output_type": "stream",
     "text": [
      "Imagen no encontrada: None, usando la última imagen válida.\n",
      "Imagen no encontrada: None, usando la última imagen válida.\n"
     ]
    },
    {
     "name": "stderr",
     "output_type": "stream",
     "text": [
      "[ WARN:0@11542.232] global loadsave.cpp:241 findDecoder imread_(''): can't open/read file: check file path/integrity\n",
      "[ WARN:0@11542.294] global loadsave.cpp:241 findDecoder imread_(''): can't open/read file: check file path/integrity\n"
     ]
    },
    {
     "name": "stdout",
     "output_type": "stream",
     "text": [
      "doy_sin_train shape: (4838, 1)\n",
      "doy_cos_train shape: (4838, 1)\n",
      "hour_sin_train shape: (4838, 1)\n",
      "hour_cos_train shape: (4838, 1)\n",
      "fourier_features_train shape: 4838\n"
     ]
    },
    {
     "name": "stderr",
     "output_type": "stream",
     "text": [
      "/home/aia-workstation/anaconda3/lib/python3.12/site-packages/keras/src/models/functional.py:225: UserWarning: The structure of `inputs` doesn't match the expected structure: ['keras_tensor_514', 'keras_tensor_519']. Received: the structure of inputs=('*', '*')\n",
      "  warnings.warn(\n",
      "[I 2024-11-29 11:55:36,407] Trial 14 finished with value: 0.005920433439314365 and parameters: {'lstm_units_cnn': 192, 'lstm_units_aux': 64, 'dense_units': 128, 'dropout_rate': 0.4}. Best is trial 1 with value: 0.004021277651190758.\n"
     ]
    },
    {
     "name": "stdout",
     "output_type": "stream",
     "text": [
      "Imagen no encontrada: None, usando la última imagen válida.\n"
     ]
    },
    {
     "name": "stderr",
     "output_type": "stream",
     "text": [
      "[ WARN:0@12353.063] global loadsave.cpp:241 findDecoder imread_(''): can't open/read file: check file path/integrity\n"
     ]
    },
    {
     "name": "stdout",
     "output_type": "stream",
     "text": [
      "Imagen no encontrada: None, usando la última imagen válida.\n"
     ]
    },
    {
     "name": "stderr",
     "output_type": "stream",
     "text": [
      "[ WARN:0@12355.653] global loadsave.cpp:241 findDecoder imread_(''): can't open/read file: check file path/integrity\n"
     ]
    },
    {
     "name": "stdout",
     "output_type": "stream",
     "text": [
      "Imagen no encontrada: None, usando la última imagen válida.\n",
      "Imagen no encontrada: None, usando la última imagen válida.\n"
     ]
    },
    {
     "name": "stderr",
     "output_type": "stream",
     "text": [
      "[ WARN:0@12358.223] global loadsave.cpp:241 findDecoder imread_(''): can't open/read file: check file path/integrity\n",
      "[ WARN:0@12358.281] global loadsave.cpp:241 findDecoder imread_(''): can't open/read file: check file path/integrity\n"
     ]
    },
    {
     "name": "stdout",
     "output_type": "stream",
     "text": [
      "Imagen no encontrada: None, usando la última imagen válida.\n"
     ]
    },
    {
     "name": "stderr",
     "output_type": "stream",
     "text": [
      "[ WARN:0@12359.168] global loadsave.cpp:241 findDecoder imread_(''): can't open/read file: check file path/integrity\n"
     ]
    },
    {
     "name": "stdout",
     "output_type": "stream",
     "text": [
      "Imagen no encontrada: None, usando la última imagen válida.\n",
      "Imagen no encontrada: None, usando la última imagen válida.\n"
     ]
    },
    {
     "name": "stderr",
     "output_type": "stream",
     "text": [
      "[ WARN:0@12360.837] global loadsave.cpp:241 findDecoder imread_(''): can't open/read file: check file path/integrity\n",
      "[ WARN:0@12360.899] global loadsave.cpp:241 findDecoder imread_(''): can't open/read file: check file path/integrity\n"
     ]
    },
    {
     "name": "stdout",
     "output_type": "stream",
     "text": [
      "doy_sin_train shape: (4838, 1)\n",
      "doy_cos_train shape: (4838, 1)\n",
      "hour_sin_train shape: (4838, 1)\n",
      "hour_cos_train shape: (4838, 1)\n",
      "fourier_features_train shape: 4838\n"
     ]
    },
    {
     "name": "stderr",
     "output_type": "stream",
     "text": [
      "/home/aia-workstation/anaconda3/lib/python3.12/site-packages/keras/src/models/functional.py:225: UserWarning: The structure of `inputs` doesn't match the expected structure: ['keras_tensor_549', 'keras_tensor_554']. Received: the structure of inputs=('*', '*')\n",
      "  warnings.warn(\n",
      "[I 2024-11-29 12:09:14,753] Trial 15 finished with value: 0.005267915315926075 and parameters: {'lstm_units_cnn': 128, 'lstm_units_aux': 96, 'dense_units': 256, 'dropout_rate': 0.30000000000000004}. Best is trial 1 with value: 0.004021277651190758.\n"
     ]
    },
    {
     "name": "stdout",
     "output_type": "stream",
     "text": [
      "Imagen no encontrada: None, usando la última imagen válida.\n"
     ]
    },
    {
     "name": "stderr",
     "output_type": "stream",
     "text": [
      "[ WARN:0@13171.501] global loadsave.cpp:241 findDecoder imread_(''): can't open/read file: check file path/integrity\n"
     ]
    },
    {
     "name": "stdout",
     "output_type": "stream",
     "text": [
      "Imagen no encontrada: None, usando la última imagen válida.\n"
     ]
    },
    {
     "name": "stderr",
     "output_type": "stream",
     "text": [
      "[ WARN:0@13174.093] global loadsave.cpp:241 findDecoder imread_(''): can't open/read file: check file path/integrity\n"
     ]
    },
    {
     "name": "stdout",
     "output_type": "stream",
     "text": [
      "Imagen no encontrada: None, usando la última imagen válida.\n",
      "Imagen no encontrada: None, usando la última imagen válida.\n"
     ]
    },
    {
     "name": "stderr",
     "output_type": "stream",
     "text": [
      "[ WARN:0@13176.684] global loadsave.cpp:241 findDecoder imread_(''): can't open/read file: check file path/integrity\n",
      "[ WARN:0@13176.746] global loadsave.cpp:241 findDecoder imread_(''): can't open/read file: check file path/integrity\n"
     ]
    },
    {
     "name": "stdout",
     "output_type": "stream",
     "text": [
      "Imagen no encontrada: None, usando la última imagen válida.\n"
     ]
    },
    {
     "name": "stderr",
     "output_type": "stream",
     "text": [
      "[ WARN:0@13177.635] global loadsave.cpp:241 findDecoder imread_(''): can't open/read file: check file path/integrity\n"
     ]
    },
    {
     "name": "stdout",
     "output_type": "stream",
     "text": [
      "Imagen no encontrada: None, usando la última imagen válida.\n",
      "Imagen no encontrada: None, usando la última imagen válida.\n"
     ]
    },
    {
     "name": "stderr",
     "output_type": "stream",
     "text": [
      "[ WARN:0@13179.297] global loadsave.cpp:241 findDecoder imread_(''): can't open/read file: check file path/integrity\n",
      "[ WARN:0@13179.359] global loadsave.cpp:241 findDecoder imread_(''): can't open/read file: check file path/integrity\n"
     ]
    },
    {
     "name": "stdout",
     "output_type": "stream",
     "text": [
      "doy_sin_train shape: (4838, 1)\n",
      "doy_cos_train shape: (4838, 1)\n",
      "hour_sin_train shape: (4838, 1)\n",
      "hour_cos_train shape: (4838, 1)\n",
      "fourier_features_train shape: 4838\n"
     ]
    },
    {
     "name": "stderr",
     "output_type": "stream",
     "text": [
      "/home/aia-workstation/anaconda3/lib/python3.12/site-packages/keras/src/models/functional.py:225: UserWarning: The structure of `inputs` doesn't match the expected structure: ['keras_tensor_584', 'keras_tensor_589']. Received: the structure of inputs=('*', '*')\n",
      "  warnings.warn(\n",
      "[I 2024-11-29 12:22:52,175] Trial 16 finished with value: 0.004506107419729233 and parameters: {'lstm_units_cnn': 64, 'lstm_units_aux': 32, 'dense_units': 192, 'dropout_rate': 0.5}. Best is trial 1 with value: 0.004021277651190758.\n"
     ]
    },
    {
     "name": "stdout",
     "output_type": "stream",
     "text": [
      "Imagen no encontrada: None, usando la última imagen válida.\n"
     ]
    },
    {
     "name": "stderr",
     "output_type": "stream",
     "text": [
      "[ WARN:0@13989.083] global loadsave.cpp:241 findDecoder imread_(''): can't open/read file: check file path/integrity\n"
     ]
    },
    {
     "name": "stdout",
     "output_type": "stream",
     "text": [
      "Imagen no encontrada: None, usando la última imagen válida.\n"
     ]
    },
    {
     "name": "stderr",
     "output_type": "stream",
     "text": [
      "[ WARN:0@13991.830] global loadsave.cpp:241 findDecoder imread_(''): can't open/read file: check file path/integrity\n"
     ]
    },
    {
     "name": "stdout",
     "output_type": "stream",
     "text": [
      "Imagen no encontrada: None, usando la última imagen válida.\n",
      "Imagen no encontrada: None, usando la última imagen válida.\n"
     ]
    },
    {
     "name": "stderr",
     "output_type": "stream",
     "text": [
      "[ WARN:0@13994.395] global loadsave.cpp:241 findDecoder imread_(''): can't open/read file: check file path/integrity\n",
      "[ WARN:0@13994.453] global loadsave.cpp:241 findDecoder imread_(''): can't open/read file: check file path/integrity\n"
     ]
    },
    {
     "name": "stdout",
     "output_type": "stream",
     "text": [
      "Imagen no encontrada: None, usando la última imagen válida.\n"
     ]
    },
    {
     "name": "stderr",
     "output_type": "stream",
     "text": [
      "[ WARN:0@13995.433] global loadsave.cpp:241 findDecoder imread_(''): can't open/read file: check file path/integrity\n"
     ]
    },
    {
     "name": "stdout",
     "output_type": "stream",
     "text": [
      "Imagen no encontrada: None, usando la última imagen válida.\n",
      "Imagen no encontrada: None, usando la última imagen válida.\n"
     ]
    },
    {
     "name": "stderr",
     "output_type": "stream",
     "text": [
      "[ WARN:0@13997.096] global loadsave.cpp:241 findDecoder imread_(''): can't open/read file: check file path/integrity\n",
      "[ WARN:0@13997.158] global loadsave.cpp:241 findDecoder imread_(''): can't open/read file: check file path/integrity\n"
     ]
    },
    {
     "name": "stdout",
     "output_type": "stream",
     "text": [
      "doy_sin_train shape: (4838, 1)\n",
      "doy_cos_train shape: (4838, 1)\n",
      "hour_sin_train shape: (4838, 1)\n",
      "hour_cos_train shape: (4838, 1)\n",
      "fourier_features_train shape: 4838\n"
     ]
    },
    {
     "name": "stderr",
     "output_type": "stream",
     "text": [
      "/home/aia-workstation/anaconda3/lib/python3.12/site-packages/keras/src/models/functional.py:225: UserWarning: The structure of `inputs` doesn't match the expected structure: ['keras_tensor_619', 'keras_tensor_624']. Received: the structure of inputs=('*', '*')\n",
      "  warnings.warn(\n",
      "[I 2024-11-29 12:36:31,161] Trial 17 finished with value: 0.004137727897614241 and parameters: {'lstm_units_cnn': 64, 'lstm_units_aux': 64, 'dense_units': 256, 'dropout_rate': 0.30000000000000004}. Best is trial 1 with value: 0.004021277651190758.\n"
     ]
    },
    {
     "name": "stdout",
     "output_type": "stream",
     "text": [
      "Imagen no encontrada: None, usando la última imagen válida.\n"
     ]
    },
    {
     "name": "stderr",
     "output_type": "stream",
     "text": [
      "[ WARN:0@14807.877] global loadsave.cpp:241 findDecoder imread_(''): can't open/read file: check file path/integrity\n"
     ]
    },
    {
     "name": "stdout",
     "output_type": "stream",
     "text": [
      "Imagen no encontrada: None, usando la última imagen válida.\n"
     ]
    },
    {
     "name": "stderr",
     "output_type": "stream",
     "text": [
      "[ WARN:0@14810.503] global loadsave.cpp:241 findDecoder imread_(''): can't open/read file: check file path/integrity\n"
     ]
    },
    {
     "name": "stdout",
     "output_type": "stream",
     "text": [
      "Imagen no encontrada: None, usando la última imagen válida.\n",
      "Imagen no encontrada: None, usando la última imagen válida.\n"
     ]
    },
    {
     "name": "stderr",
     "output_type": "stream",
     "text": [
      "[ WARN:0@14813.123] global loadsave.cpp:241 findDecoder imread_(''): can't open/read file: check file path/integrity\n",
      "[ WARN:0@14813.184] global loadsave.cpp:241 findDecoder imread_(''): can't open/read file: check file path/integrity\n"
     ]
    },
    {
     "name": "stdout",
     "output_type": "stream",
     "text": [
      "Imagen no encontrada: None, usando la última imagen válida.\n"
     ]
    },
    {
     "name": "stderr",
     "output_type": "stream",
     "text": [
      "[ WARN:0@14814.070] global loadsave.cpp:241 findDecoder imread_(''): can't open/read file: check file path/integrity\n"
     ]
    },
    {
     "name": "stdout",
     "output_type": "stream",
     "text": [
      "Imagen no encontrada: None, usando la última imagen válida.\n",
      "Imagen no encontrada: None, usando la última imagen válida.\n"
     ]
    },
    {
     "name": "stderr",
     "output_type": "stream",
     "text": [
      "[ WARN:0@14815.722] global loadsave.cpp:241 findDecoder imread_(''): can't open/read file: check file path/integrity\n",
      "[ WARN:0@14815.785] global loadsave.cpp:241 findDecoder imread_(''): can't open/read file: check file path/integrity\n"
     ]
    },
    {
     "name": "stdout",
     "output_type": "stream",
     "text": [
      "doy_sin_train shape: (4838, 1)\n",
      "doy_cos_train shape: (4838, 1)\n",
      "hour_sin_train shape: (4838, 1)\n",
      "hour_cos_train shape: (4838, 1)\n",
      "fourier_features_train shape: 4838\n"
     ]
    },
    {
     "name": "stderr",
     "output_type": "stream",
     "text": [
      "/home/aia-workstation/anaconda3/lib/python3.12/site-packages/keras/src/models/functional.py:225: UserWarning: The structure of `inputs` doesn't match the expected structure: ['keras_tensor_654', 'keras_tensor_659']. Received: the structure of inputs=('*', '*')\n",
      "  warnings.warn(\n",
      "[I 2024-11-29 12:50:14,519] Trial 18 finished with value: 0.0054491059854626656 and parameters: {'lstm_units_cnn': 192, 'lstm_units_aux': 96, 'dense_units': 192, 'dropout_rate': 0.4}. Best is trial 1 with value: 0.004021277651190758.\n"
     ]
    },
    {
     "name": "stdout",
     "output_type": "stream",
     "text": [
      "Imagen no encontrada: None, usando la última imagen válida.\n"
     ]
    },
    {
     "name": "stderr",
     "output_type": "stream",
     "text": [
      "[ WARN:0@15631.762] global loadsave.cpp:241 findDecoder imread_(''): can't open/read file: check file path/integrity\n"
     ]
    },
    {
     "name": "stdout",
     "output_type": "stream",
     "text": [
      "Imagen no encontrada: None, usando la última imagen válida.\n"
     ]
    },
    {
     "name": "stderr",
     "output_type": "stream",
     "text": [
      "[ WARN:0@15634.386] global loadsave.cpp:241 findDecoder imread_(''): can't open/read file: check file path/integrity\n"
     ]
    },
    {
     "name": "stdout",
     "output_type": "stream",
     "text": [
      "Imagen no encontrada: None, usando la última imagen válida.\n",
      "Imagen no encontrada: None, usando la última imagen válida.\n"
     ]
    },
    {
     "name": "stderr",
     "output_type": "stream",
     "text": [
      "[ WARN:0@15637.089] global loadsave.cpp:241 findDecoder imread_(''): can't open/read file: check file path/integrity\n",
      "[ WARN:0@15637.151] global loadsave.cpp:241 findDecoder imread_(''): can't open/read file: check file path/integrity\n"
     ]
    },
    {
     "name": "stdout",
     "output_type": "stream",
     "text": [
      "Imagen no encontrada: None, usando la última imagen válida.\n"
     ]
    },
    {
     "name": "stderr",
     "output_type": "stream",
     "text": [
      "[ WARN:0@15638.048] global loadsave.cpp:241 findDecoder imread_(''): can't open/read file: check file path/integrity\n"
     ]
    },
    {
     "name": "stdout",
     "output_type": "stream",
     "text": [
      "Imagen no encontrada: None, usando la última imagen válida.\n",
      "Imagen no encontrada: None, usando la última imagen válida.\n"
     ]
    },
    {
     "name": "stderr",
     "output_type": "stream",
     "text": [
      "[ WARN:0@15639.723] global loadsave.cpp:241 findDecoder imread_(''): can't open/read file: check file path/integrity\n",
      "[ WARN:0@15639.785] global loadsave.cpp:241 findDecoder imread_(''): can't open/read file: check file path/integrity\n"
     ]
    },
    {
     "name": "stdout",
     "output_type": "stream",
     "text": [
      "doy_sin_train shape: (4838, 1)\n",
      "doy_cos_train shape: (4838, 1)\n",
      "hour_sin_train shape: (4838, 1)\n",
      "hour_cos_train shape: (4838, 1)\n",
      "fourier_features_train shape: 4838\n"
     ]
    },
    {
     "name": "stderr",
     "output_type": "stream",
     "text": [
      "/home/aia-workstation/anaconda3/lib/python3.12/site-packages/keras/src/models/functional.py:225: UserWarning: The structure of `inputs` doesn't match the expected structure: ['keras_tensor_689', 'keras_tensor_694']. Received: the structure of inputs=('*', '*')\n",
      "  warnings.warn(\n",
      "[I 2024-11-29 13:03:59,600] Trial 19 finished with value: 0.005793561227619648 and parameters: {'lstm_units_cnn': 128, 'lstm_units_aux': 32, 'dense_units': 128, 'dropout_rate': 0.5}. Best is trial 1 with value: 0.004021277651190758.\n"
     ]
    },
    {
     "name": "stdout",
     "output_type": "stream",
     "text": [
      "Imagen no encontrada: None, usando la última imagen válida.\n"
     ]
    },
    {
     "name": "stderr",
     "output_type": "stream",
     "text": [
      "[ WARN:0@16456.306] global loadsave.cpp:241 findDecoder imread_(''): can't open/read file: check file path/integrity\n"
     ]
    },
    {
     "name": "stdout",
     "output_type": "stream",
     "text": [
      "Imagen no encontrada: None, usando la última imagen válida.\n"
     ]
    },
    {
     "name": "stderr",
     "output_type": "stream",
     "text": [
      "[ WARN:0@16458.931] global loadsave.cpp:241 findDecoder imread_(''): can't open/read file: check file path/integrity\n"
     ]
    },
    {
     "name": "stdout",
     "output_type": "stream",
     "text": [
      "Imagen no encontrada: None, usando la última imagen válida.\n",
      "Imagen no encontrada: None, usando la última imagen válida.\n"
     ]
    },
    {
     "name": "stderr",
     "output_type": "stream",
     "text": [
      "[ WARN:0@16461.556] global loadsave.cpp:241 findDecoder imread_(''): can't open/read file: check file path/integrity\n",
      "[ WARN:0@16461.618] global loadsave.cpp:241 findDecoder imread_(''): can't open/read file: check file path/integrity\n"
     ]
    },
    {
     "name": "stdout",
     "output_type": "stream",
     "text": [
      "Imagen no encontrada: None, usando la última imagen válida.\n"
     ]
    },
    {
     "name": "stderr",
     "output_type": "stream",
     "text": [
      "[ WARN:0@16462.512] global loadsave.cpp:241 findDecoder imread_(''): can't open/read file: check file path/integrity\n"
     ]
    },
    {
     "name": "stdout",
     "output_type": "stream",
     "text": [
      "Imagen no encontrada: None, usando la última imagen válida.\n",
      "Imagen no encontrada: None, usando la última imagen válida.\n"
     ]
    },
    {
     "name": "stderr",
     "output_type": "stream",
     "text": [
      "[ WARN:0@16464.236] global loadsave.cpp:241 findDecoder imread_(''): can't open/read file: check file path/integrity\n",
      "[ WARN:0@16464.298] global loadsave.cpp:241 findDecoder imread_(''): can't open/read file: check file path/integrity\n"
     ]
    },
    {
     "name": "stdout",
     "output_type": "stream",
     "text": [
      "doy_sin_train shape: (4838, 1)\n",
      "doy_cos_train shape: (4838, 1)\n",
      "hour_sin_train shape: (4838, 1)\n",
      "hour_cos_train shape: (4838, 1)\n",
      "fourier_features_train shape: 4838\n"
     ]
    },
    {
     "name": "stderr",
     "output_type": "stream",
     "text": [
      "/home/aia-workstation/anaconda3/lib/python3.12/site-packages/keras/src/models/functional.py:225: UserWarning: The structure of `inputs` doesn't match the expected structure: ['keras_tensor_724', 'keras_tensor_729']. Received: the structure of inputs=('*', '*')\n",
      "  warnings.warn(\n",
      "[I 2024-11-29 13:17:37,592] Trial 20 finished with value: 0.0038060382939875126 and parameters: {'lstm_units_cnn': 64, 'lstm_units_aux': 64, 'dense_units': 256, 'dropout_rate': 0.2}. Best is trial 20 with value: 0.0038060382939875126.\n"
     ]
    },
    {
     "name": "stdout",
     "output_type": "stream",
     "text": [
      "Imagen no encontrada: None, usando la última imagen válida.\n"
     ]
    },
    {
     "name": "stderr",
     "output_type": "stream",
     "text": [
      "[ WARN:0@17274.332] global loadsave.cpp:241 findDecoder imread_(''): can't open/read file: check file path/integrity\n"
     ]
    },
    {
     "name": "stdout",
     "output_type": "stream",
     "text": [
      "Imagen no encontrada: None, usando la última imagen válida.\n"
     ]
    },
    {
     "name": "stderr",
     "output_type": "stream",
     "text": [
      "[ WARN:0@17277.067] global loadsave.cpp:241 findDecoder imread_(''): can't open/read file: check file path/integrity\n"
     ]
    },
    {
     "name": "stdout",
     "output_type": "stream",
     "text": [
      "Imagen no encontrada: None, usando la última imagen válida.\n",
      "Imagen no encontrada: None, usando la última imagen válida.\n"
     ]
    },
    {
     "name": "stderr",
     "output_type": "stream",
     "text": [
      "[ WARN:0@17279.586] global loadsave.cpp:241 findDecoder imread_(''): can't open/read file: check file path/integrity\n",
      "[ WARN:0@17279.645] global loadsave.cpp:241 findDecoder imread_(''): can't open/read file: check file path/integrity\n"
     ]
    },
    {
     "name": "stdout",
     "output_type": "stream",
     "text": [
      "Imagen no encontrada: None, usando la última imagen válida.\n"
     ]
    },
    {
     "name": "stderr",
     "output_type": "stream",
     "text": [
      "[ WARN:0@17280.512] global loadsave.cpp:241 findDecoder imread_(''): can't open/read file: check file path/integrity\n"
     ]
    },
    {
     "name": "stdout",
     "output_type": "stream",
     "text": [
      "Imagen no encontrada: None, usando la última imagen válida.\n",
      "Imagen no encontrada: None, usando la última imagen válida.\n"
     ]
    },
    {
     "name": "stderr",
     "output_type": "stream",
     "text": [
      "[ WARN:0@17282.173] global loadsave.cpp:241 findDecoder imread_(''): can't open/read file: check file path/integrity\n",
      "[ WARN:0@17282.234] global loadsave.cpp:241 findDecoder imread_(''): can't open/read file: check file path/integrity\n"
     ]
    },
    {
     "name": "stdout",
     "output_type": "stream",
     "text": [
      "doy_sin_train shape: (4838, 1)\n",
      "doy_cos_train shape: (4838, 1)\n",
      "hour_sin_train shape: (4838, 1)\n",
      "hour_cos_train shape: (4838, 1)\n",
      "fourier_features_train shape: 4838\n"
     ]
    },
    {
     "name": "stderr",
     "output_type": "stream",
     "text": [
      "/home/aia-workstation/anaconda3/lib/python3.12/site-packages/keras/src/models/functional.py:225: UserWarning: The structure of `inputs` doesn't match the expected structure: ['keras_tensor_759', 'keras_tensor_764']. Received: the structure of inputs=('*', '*')\n",
      "  warnings.warn(\n",
      "[I 2024-11-29 13:31:16,885] Trial 21 finished with value: 0.008018573746085167 and parameters: {'lstm_units_cnn': 64, 'lstm_units_aux': 64, 'dense_units': 256, 'dropout_rate': 0.2}. Best is trial 20 with value: 0.0038060382939875126.\n"
     ]
    },
    {
     "name": "stdout",
     "output_type": "stream",
     "text": [
      "Imagen no encontrada: None, usando la última imagen válida.\n"
     ]
    },
    {
     "name": "stderr",
     "output_type": "stream",
     "text": [
      "[ WARN:0@18093.503] global loadsave.cpp:241 findDecoder imread_(''): can't open/read file: check file path/integrity\n"
     ]
    },
    {
     "name": "stdout",
     "output_type": "stream",
     "text": [
      "Imagen no encontrada: None, usando la última imagen válida.\n"
     ]
    },
    {
     "name": "stderr",
     "output_type": "stream",
     "text": [
      "[ WARN:0@18096.029] global loadsave.cpp:241 findDecoder imread_(''): can't open/read file: check file path/integrity\n"
     ]
    },
    {
     "name": "stdout",
     "output_type": "stream",
     "text": [
      "Imagen no encontrada: None, usando la última imagen válida.\n",
      "Imagen no encontrada: None, usando la última imagen válida.\n"
     ]
    },
    {
     "name": "stderr",
     "output_type": "stream",
     "text": [
      "[ WARN:0@18098.612] global loadsave.cpp:241 findDecoder imread_(''): can't open/read file: check file path/integrity\n",
      "[ WARN:0@18098.673] global loadsave.cpp:241 findDecoder imread_(''): can't open/read file: check file path/integrity\n"
     ]
    },
    {
     "name": "stdout",
     "output_type": "stream",
     "text": [
      "Imagen no encontrada: None, usando la última imagen válida.\n"
     ]
    },
    {
     "name": "stderr",
     "output_type": "stream",
     "text": [
      "[ WARN:0@18099.565] global loadsave.cpp:241 findDecoder imread_(''): can't open/read file: check file path/integrity\n"
     ]
    },
    {
     "name": "stdout",
     "output_type": "stream",
     "text": [
      "Imagen no encontrada: None, usando la última imagen válida.\n",
      "Imagen no encontrada: None, usando la última imagen válida.\n"
     ]
    },
    {
     "name": "stderr",
     "output_type": "stream",
     "text": [
      "[ WARN:0@18101.448] global loadsave.cpp:241 findDecoder imread_(''): can't open/read file: check file path/integrity\n",
      "[ WARN:0@18101.510] global loadsave.cpp:241 findDecoder imread_(''): can't open/read file: check file path/integrity\n"
     ]
    },
    {
     "name": "stdout",
     "output_type": "stream",
     "text": [
      "doy_sin_train shape: (4838, 1)\n",
      "doy_cos_train shape: (4838, 1)\n",
      "hour_sin_train shape: (4838, 1)\n",
      "hour_cos_train shape: (4838, 1)\n",
      "fourier_features_train shape: 4838\n"
     ]
    },
    {
     "name": "stderr",
     "output_type": "stream",
     "text": [
      "/home/aia-workstation/anaconda3/lib/python3.12/site-packages/keras/src/models/functional.py:225: UserWarning: The structure of `inputs` doesn't match the expected structure: ['keras_tensor_794', 'keras_tensor_799']. Received: the structure of inputs=('*', '*')\n",
      "  warnings.warn(\n",
      "[I 2024-11-29 13:44:54,620] Trial 22 finished with value: 0.006557984743267298 and parameters: {'lstm_units_cnn': 64, 'lstm_units_aux': 64, 'dense_units': 256, 'dropout_rate': 0.2}. Best is trial 20 with value: 0.0038060382939875126.\n"
     ]
    },
    {
     "name": "stdout",
     "output_type": "stream",
     "text": [
      "Imagen no encontrada: None, usando la última imagen válida.\n"
     ]
    },
    {
     "name": "stderr",
     "output_type": "stream",
     "text": [
      "[ WARN:0@18911.351] global loadsave.cpp:241 findDecoder imread_(''): can't open/read file: check file path/integrity\n"
     ]
    },
    {
     "name": "stdout",
     "output_type": "stream",
     "text": [
      "Imagen no encontrada: None, usando la última imagen válida.\n"
     ]
    },
    {
     "name": "stderr",
     "output_type": "stream",
     "text": [
      "[ WARN:0@18913.956] global loadsave.cpp:241 findDecoder imread_(''): can't open/read file: check file path/integrity\n"
     ]
    },
    {
     "name": "stdout",
     "output_type": "stream",
     "text": [
      "Imagen no encontrada: None, usando la última imagen válida.\n",
      "Imagen no encontrada: None, usando la última imagen válida.\n"
     ]
    },
    {
     "name": "stderr",
     "output_type": "stream",
     "text": [
      "[ WARN:0@18916.680] global loadsave.cpp:241 findDecoder imread_(''): can't open/read file: check file path/integrity\n",
      "[ WARN:0@18916.741] global loadsave.cpp:241 findDecoder imread_(''): can't open/read file: check file path/integrity\n"
     ]
    },
    {
     "name": "stdout",
     "output_type": "stream",
     "text": [
      "Imagen no encontrada: None, usando la última imagen válida.\n"
     ]
    },
    {
     "name": "stderr",
     "output_type": "stream",
     "text": [
      "[ WARN:0@18917.634] global loadsave.cpp:241 findDecoder imread_(''): can't open/read file: check file path/integrity\n"
     ]
    },
    {
     "name": "stdout",
     "output_type": "stream",
     "text": [
      "Imagen no encontrada: None, usando la última imagen válida.\n",
      "Imagen no encontrada: None, usando la última imagen válida.\n"
     ]
    },
    {
     "name": "stderr",
     "output_type": "stream",
     "text": [
      "[ WARN:0@18919.491] global loadsave.cpp:241 findDecoder imread_(''): can't open/read file: check file path/integrity\n",
      "[ WARN:0@18919.553] global loadsave.cpp:241 findDecoder imread_(''): can't open/read file: check file path/integrity\n"
     ]
    },
    {
     "name": "stdout",
     "output_type": "stream",
     "text": [
      "doy_sin_train shape: (4838, 1)\n",
      "doy_cos_train shape: (4838, 1)\n",
      "hour_sin_train shape: (4838, 1)\n",
      "hour_cos_train shape: (4838, 1)\n",
      "fourier_features_train shape: 4838\n"
     ]
    },
    {
     "name": "stderr",
     "output_type": "stream",
     "text": [
      "/home/aia-workstation/anaconda3/lib/python3.12/site-packages/keras/src/models/functional.py:225: UserWarning: The structure of `inputs` doesn't match the expected structure: ['keras_tensor_829', 'keras_tensor_834']. Received: the structure of inputs=('*', '*')\n",
      "  warnings.warn(\n",
      "[I 2024-11-29 13:58:36,070] Trial 23 finished with value: 0.004619700368493795 and parameters: {'lstm_units_cnn': 128, 'lstm_units_aux': 64, 'dense_units': 192, 'dropout_rate': 0.30000000000000004}. Best is trial 20 with value: 0.0038060382939875126.\n"
     ]
    },
    {
     "name": "stdout",
     "output_type": "stream",
     "text": [
      "Imagen no encontrada: None, usando la última imagen válida.\n"
     ]
    },
    {
     "name": "stderr",
     "output_type": "stream",
     "text": [
      "[ WARN:0@19732.724] global loadsave.cpp:241 findDecoder imread_(''): can't open/read file: check file path/integrity\n"
     ]
    },
    {
     "name": "stdout",
     "output_type": "stream",
     "text": [
      "Imagen no encontrada: None, usando la última imagen válida.\n"
     ]
    },
    {
     "name": "stderr",
     "output_type": "stream",
     "text": [
      "[ WARN:0@19735.338] global loadsave.cpp:241 findDecoder imread_(''): can't open/read file: check file path/integrity\n"
     ]
    },
    {
     "name": "stdout",
     "output_type": "stream",
     "text": [
      "Imagen no encontrada: None, usando la última imagen válida.\n",
      "Imagen no encontrada: None, usando la última imagen válida.\n"
     ]
    },
    {
     "name": "stderr",
     "output_type": "stream",
     "text": [
      "[ WARN:0@19737.952] global loadsave.cpp:241 findDecoder imread_(''): can't open/read file: check file path/integrity\n",
      "[ WARN:0@19738.013] global loadsave.cpp:241 findDecoder imread_(''): can't open/read file: check file path/integrity\n"
     ]
    },
    {
     "name": "stdout",
     "output_type": "stream",
     "text": [
      "Imagen no encontrada: None, usando la última imagen válida.\n"
     ]
    },
    {
     "name": "stderr",
     "output_type": "stream",
     "text": [
      "[ WARN:0@19738.904] global loadsave.cpp:241 findDecoder imread_(''): can't open/read file: check file path/integrity\n"
     ]
    },
    {
     "name": "stdout",
     "output_type": "stream",
     "text": [
      "Imagen no encontrada: None, usando la última imagen válida.\n",
      "Imagen no encontrada: None, usando la última imagen válida.\n"
     ]
    },
    {
     "name": "stderr",
     "output_type": "stream",
     "text": [
      "[ WARN:0@19740.567] global loadsave.cpp:241 findDecoder imread_(''): can't open/read file: check file path/integrity\n",
      "[ WARN:0@19740.629] global loadsave.cpp:241 findDecoder imread_(''): can't open/read file: check file path/integrity\n"
     ]
    },
    {
     "name": "stdout",
     "output_type": "stream",
     "text": [
      "doy_sin_train shape: (4838, 1)\n",
      "doy_cos_train shape: (4838, 1)\n",
      "hour_sin_train shape: (4838, 1)\n",
      "hour_cos_train shape: (4838, 1)\n",
      "fourier_features_train shape: 4838\n"
     ]
    },
    {
     "name": "stderr",
     "output_type": "stream",
     "text": [
      "/home/aia-workstation/anaconda3/lib/python3.12/site-packages/keras/src/models/functional.py:225: UserWarning: The structure of `inputs` doesn't match the expected structure: ['keras_tensor_864', 'keras_tensor_869']. Received: the structure of inputs=('*', '*')\n",
      "  warnings.warn(\n",
      "[I 2024-11-29 14:12:16,041] Trial 24 finished with value: 0.00414405670017004 and parameters: {'lstm_units_cnn': 64, 'lstm_units_aux': 96, 'dense_units': 256, 'dropout_rate': 0.2}. Best is trial 20 with value: 0.0038060382939875126.\n"
     ]
    },
    {
     "name": "stdout",
     "output_type": "stream",
     "text": [
      "Imagen no encontrada: None, usando la última imagen válida.\n"
     ]
    },
    {
     "name": "stderr",
     "output_type": "stream",
     "text": [
      "[ WARN:0@20552.696] global loadsave.cpp:241 findDecoder imread_(''): can't open/read file: check file path/integrity\n"
     ]
    },
    {
     "name": "stdout",
     "output_type": "stream",
     "text": [
      "Imagen no encontrada: None, usando la última imagen válida.\n"
     ]
    },
    {
     "name": "stderr",
     "output_type": "stream",
     "text": [
      "[ WARN:0@20555.309] global loadsave.cpp:241 findDecoder imread_(''): can't open/read file: check file path/integrity\n"
     ]
    },
    {
     "name": "stdout",
     "output_type": "stream",
     "text": [
      "Imagen no encontrada: None, usando la última imagen válida.\n",
      "Imagen no encontrada: None, usando la última imagen válida.\n"
     ]
    },
    {
     "name": "stderr",
     "output_type": "stream",
     "text": [
      "[ WARN:0@20557.894] global loadsave.cpp:241 findDecoder imread_(''): can't open/read file: check file path/integrity\n",
      "[ WARN:0@20557.955] global loadsave.cpp:241 findDecoder imread_(''): can't open/read file: check file path/integrity\n"
     ]
    },
    {
     "name": "stdout",
     "output_type": "stream",
     "text": [
      "Imagen no encontrada: None, usando la última imagen válida.\n"
     ]
    },
    {
     "name": "stderr",
     "output_type": "stream",
     "text": [
      "[ WARN:0@20558.846] global loadsave.cpp:241 findDecoder imread_(''): can't open/read file: check file path/integrity\n"
     ]
    },
    {
     "name": "stdout",
     "output_type": "stream",
     "text": [
      "Imagen no encontrada: None, usando la última imagen válida.\n",
      "Imagen no encontrada: None, usando la última imagen válida.\n"
     ]
    },
    {
     "name": "stderr",
     "output_type": "stream",
     "text": [
      "[ WARN:0@20560.509] global loadsave.cpp:241 findDecoder imread_(''): can't open/read file: check file path/integrity\n",
      "[ WARN:0@20560.571] global loadsave.cpp:241 findDecoder imread_(''): can't open/read file: check file path/integrity\n"
     ]
    },
    {
     "name": "stdout",
     "output_type": "stream",
     "text": [
      "doy_sin_train shape: (4838, 1)\n",
      "doy_cos_train shape: (4838, 1)\n",
      "hour_sin_train shape: (4838, 1)\n",
      "hour_cos_train shape: (4838, 1)\n",
      "fourier_features_train shape: 4838\n"
     ]
    },
    {
     "name": "stderr",
     "output_type": "stream",
     "text": [
      "/home/aia-workstation/anaconda3/lib/python3.12/site-packages/keras/src/models/functional.py:225: UserWarning: The structure of `inputs` doesn't match the expected structure: ['keras_tensor_899', 'keras_tensor_904']. Received: the structure of inputs=('*', '*')\n",
      "  warnings.warn(\n",
      "[I 2024-11-29 14:26:01,139] Trial 25 finished with value: 0.004882161971181631 and parameters: {'lstm_units_cnn': 64, 'lstm_units_aux': 64, 'dense_units': 192, 'dropout_rate': 0.30000000000000004}. Best is trial 20 with value: 0.0038060382939875126.\n"
     ]
    },
    {
     "name": "stdout",
     "output_type": "stream",
     "text": [
      "Imagen no encontrada: None, usando la última imagen válida.\n"
     ]
    },
    {
     "name": "stderr",
     "output_type": "stream",
     "text": [
      "[ WARN:0@21377.868] global loadsave.cpp:241 findDecoder imread_(''): can't open/read file: check file path/integrity\n"
     ]
    },
    {
     "name": "stdout",
     "output_type": "stream",
     "text": [
      "Imagen no encontrada: None, usando la última imagen válida.\n"
     ]
    },
    {
     "name": "stderr",
     "output_type": "stream",
     "text": [
      "[ WARN:0@21380.513] global loadsave.cpp:241 findDecoder imread_(''): can't open/read file: check file path/integrity\n"
     ]
    },
    {
     "name": "stdout",
     "output_type": "stream",
     "text": [
      "Imagen no encontrada: None, usando la última imagen válida.\n",
      "Imagen no encontrada: None, usando la última imagen válida.\n"
     ]
    },
    {
     "name": "stderr",
     "output_type": "stream",
     "text": [
      "[ WARN:0@21383.301] global loadsave.cpp:241 findDecoder imread_(''): can't open/read file: check file path/integrity\n",
      "[ WARN:0@21383.363] global loadsave.cpp:241 findDecoder imread_(''): can't open/read file: check file path/integrity\n"
     ]
    },
    {
     "name": "stdout",
     "output_type": "stream",
     "text": [
      "Imagen no encontrada: None, usando la última imagen válida.\n"
     ]
    },
    {
     "name": "stderr",
     "output_type": "stream",
     "text": [
      "[ WARN:0@21384.259] global loadsave.cpp:241 findDecoder imread_(''): can't open/read file: check file path/integrity\n"
     ]
    },
    {
     "name": "stdout",
     "output_type": "stream",
     "text": [
      "Imagen no encontrada: None, usando la última imagen válida.\n",
      "Imagen no encontrada: None, usando la última imagen válida.\n"
     ]
    },
    {
     "name": "stderr",
     "output_type": "stream",
     "text": [
      "[ WARN:0@21385.939] global loadsave.cpp:241 findDecoder imread_(''): can't open/read file: check file path/integrity\n",
      "[ WARN:0@21386.002] global loadsave.cpp:241 findDecoder imread_(''): can't open/read file: check file path/integrity\n"
     ]
    },
    {
     "name": "stdout",
     "output_type": "stream",
     "text": [
      "doy_sin_train shape: (4838, 1)\n",
      "doy_cos_train shape: (4838, 1)\n",
      "hour_sin_train shape: (4838, 1)\n",
      "hour_cos_train shape: (4838, 1)\n",
      "fourier_features_train shape: 4838\n"
     ]
    },
    {
     "name": "stderr",
     "output_type": "stream",
     "text": [
      "/home/aia-workstation/anaconda3/lib/python3.12/site-packages/keras/src/models/functional.py:225: UserWarning: The structure of `inputs` doesn't match the expected structure: ['keras_tensor_934', 'keras_tensor_939']. Received: the structure of inputs=('*', '*')\n",
      "  warnings.warn(\n",
      "[I 2024-11-29 14:39:53,790] Trial 26 finished with value: 0.0041990806348621845 and parameters: {'lstm_units_cnn': 128, 'lstm_units_aux': 32, 'dense_units': 256, 'dropout_rate': 0.4}. Best is trial 20 with value: 0.0038060382939875126.\n"
     ]
    },
    {
     "name": "stdout",
     "output_type": "stream",
     "text": [
      "Imagen no encontrada: None, usando la última imagen válida.\n"
     ]
    },
    {
     "name": "stderr",
     "output_type": "stream",
     "text": [
      "[ WARN:0@22210.548] global loadsave.cpp:241 findDecoder imread_(''): can't open/read file: check file path/integrity\n"
     ]
    },
    {
     "name": "stdout",
     "output_type": "stream",
     "text": [
      "Imagen no encontrada: None, usando la última imagen válida.\n"
     ]
    },
    {
     "name": "stderr",
     "output_type": "stream",
     "text": [
      "[ WARN:0@22213.459] global loadsave.cpp:241 findDecoder imread_(''): can't open/read file: check file path/integrity\n"
     ]
    },
    {
     "name": "stdout",
     "output_type": "stream",
     "text": [
      "Imagen no encontrada: None, usando la última imagen válida.\n",
      "Imagen no encontrada: None, usando la última imagen válida.\n"
     ]
    },
    {
     "name": "stderr",
     "output_type": "stream",
     "text": [
      "[ WARN:0@22216.225] global loadsave.cpp:241 findDecoder imread_(''): can't open/read file: check file path/integrity\n",
      "[ WARN:0@22216.286] global loadsave.cpp:241 findDecoder imread_(''): can't open/read file: check file path/integrity\n"
     ]
    },
    {
     "name": "stdout",
     "output_type": "stream",
     "text": [
      "Imagen no encontrada: None, usando la última imagen válida.\n"
     ]
    },
    {
     "name": "stderr",
     "output_type": "stream",
     "text": [
      "[ WARN:0@22217.315] global loadsave.cpp:241 findDecoder imread_(''): can't open/read file: check file path/integrity\n"
     ]
    },
    {
     "name": "stdout",
     "output_type": "stream",
     "text": [
      "Imagen no encontrada: None, usando la última imagen válida.\n",
      "Imagen no encontrada: None, usando la última imagen válida.\n"
     ]
    },
    {
     "name": "stderr",
     "output_type": "stream",
     "text": [
      "[ WARN:0@22219.323] global loadsave.cpp:241 findDecoder imread_(''): can't open/read file: check file path/integrity\n",
      "[ WARN:0@22219.386] global loadsave.cpp:241 findDecoder imread_(''): can't open/read file: check file path/integrity\n"
     ]
    },
    {
     "name": "stdout",
     "output_type": "stream",
     "text": [
      "doy_sin_train shape: (4838, 1)\n",
      "doy_cos_train shape: (4838, 1)\n",
      "hour_sin_train shape: (4838, 1)\n",
      "hour_cos_train shape: (4838, 1)\n",
      "fourier_features_train shape: 4838\n"
     ]
    },
    {
     "name": "stderr",
     "output_type": "stream",
     "text": [
      "/home/aia-workstation/anaconda3/lib/python3.12/site-packages/keras/src/models/functional.py:225: UserWarning: The structure of `inputs` doesn't match the expected structure: ['keras_tensor_969', 'keras_tensor_974']. Received: the structure of inputs=('*', '*')\n",
      "  warnings.warn(\n",
      "[I 2024-11-29 14:53:35,325] Trial 27 finished with value: 0.005613109562546015 and parameters: {'lstm_units_cnn': 64, 'lstm_units_aux': 64, 'dense_units': 256, 'dropout_rate': 0.2}. Best is trial 20 with value: 0.0038060382939875126.\n"
     ]
    },
    {
     "name": "stdout",
     "output_type": "stream",
     "text": [
      "Imagen no encontrada: None, usando la última imagen válida.\n"
     ]
    },
    {
     "name": "stderr",
     "output_type": "stream",
     "text": [
      "[ WARN:0@23032.073] global loadsave.cpp:241 findDecoder imread_(''): can't open/read file: check file path/integrity\n"
     ]
    },
    {
     "name": "stdout",
     "output_type": "stream",
     "text": [
      "Imagen no encontrada: None, usando la última imagen válida.\n"
     ]
    },
    {
     "name": "stderr",
     "output_type": "stream",
     "text": [
      "[ WARN:0@23034.681] global loadsave.cpp:241 findDecoder imread_(''): can't open/read file: check file path/integrity\n"
     ]
    },
    {
     "name": "stdout",
     "output_type": "stream",
     "text": [
      "Imagen no encontrada: None, usando la última imagen válida.\n",
      "Imagen no encontrada: None, usando la última imagen válida.\n"
     ]
    },
    {
     "name": "stderr",
     "output_type": "stream",
     "text": [
      "[ WARN:0@23037.393] global loadsave.cpp:241 findDecoder imread_(''): can't open/read file: check file path/integrity\n",
      "[ WARN:0@23037.490] global loadsave.cpp:241 findDecoder imread_(''): can't open/read file: check file path/integrity\n"
     ]
    },
    {
     "name": "stdout",
     "output_type": "stream",
     "text": [
      "Imagen no encontrada: None, usando la última imagen válida.\n"
     ]
    },
    {
     "name": "stderr",
     "output_type": "stream",
     "text": [
      "[ WARN:0@23038.650] global loadsave.cpp:241 findDecoder imread_(''): can't open/read file: check file path/integrity\n"
     ]
    },
    {
     "name": "stdout",
     "output_type": "stream",
     "text": [
      "Imagen no encontrada: None, usando la última imagen válida.\n",
      "Imagen no encontrada: None, usando la última imagen válida.\n"
     ]
    },
    {
     "name": "stderr",
     "output_type": "stream",
     "text": [
      "[ WARN:0@23040.308] global loadsave.cpp:241 findDecoder imread_(''): can't open/read file: check file path/integrity\n",
      "[ WARN:0@23040.370] global loadsave.cpp:241 findDecoder imread_(''): can't open/read file: check file path/integrity\n"
     ]
    },
    {
     "name": "stdout",
     "output_type": "stream",
     "text": [
      "doy_sin_train shape: (4838, 1)\n",
      "doy_cos_train shape: (4838, 1)\n",
      "hour_sin_train shape: (4838, 1)\n",
      "hour_cos_train shape: (4838, 1)\n",
      "fourier_features_train shape: 4838\n"
     ]
    },
    {
     "name": "stderr",
     "output_type": "stream",
     "text": [
      "/home/aia-workstation/anaconda3/lib/python3.12/site-packages/keras/src/models/functional.py:225: UserWarning: The structure of `inputs` doesn't match the expected structure: ['keras_tensor_1004', 'keras_tensor_1009']. Received: the structure of inputs=('*', '*')\n",
      "  warnings.warn(\n",
      "[I 2024-11-29 15:07:17,582] Trial 28 finished with value: 0.0047499677166342735 and parameters: {'lstm_units_cnn': 128, 'lstm_units_aux': 96, 'dense_units': 192, 'dropout_rate': 0.30000000000000004}. Best is trial 20 with value: 0.0038060382939875126.\n"
     ]
    },
    {
     "name": "stdout",
     "output_type": "stream",
     "text": [
      "Imagen no encontrada: None, usando la última imagen válida.\n"
     ]
    },
    {
     "name": "stderr",
     "output_type": "stream",
     "text": [
      "[ WARN:0@23854.368] global loadsave.cpp:241 findDecoder imread_(''): can't open/read file: check file path/integrity\n"
     ]
    },
    {
     "name": "stdout",
     "output_type": "stream",
     "text": [
      "Imagen no encontrada: None, usando la última imagen válida.\n"
     ]
    },
    {
     "name": "stderr",
     "output_type": "stream",
     "text": [
      "[ WARN:0@23856.974] global loadsave.cpp:241 findDecoder imread_(''): can't open/read file: check file path/integrity\n"
     ]
    },
    {
     "name": "stdout",
     "output_type": "stream",
     "text": [
      "Imagen no encontrada: None, usando la última imagen válida.\n",
      "Imagen no encontrada: None, usando la última imagen válida.\n"
     ]
    },
    {
     "name": "stderr",
     "output_type": "stream",
     "text": [
      "[ WARN:0@23859.702] global loadsave.cpp:241 findDecoder imread_(''): can't open/read file: check file path/integrity\n",
      "[ WARN:0@23859.874] global loadsave.cpp:241 findDecoder imread_(''): can't open/read file: check file path/integrity\n"
     ]
    },
    {
     "name": "stdout",
     "output_type": "stream",
     "text": [
      "Imagen no encontrada: None, usando la última imagen válida.\n"
     ]
    },
    {
     "name": "stderr",
     "output_type": "stream",
     "text": [
      "[ WARN:0@23860.769] global loadsave.cpp:241 findDecoder imread_(''): can't open/read file: check file path/integrity\n"
     ]
    },
    {
     "name": "stdout",
     "output_type": "stream",
     "text": [
      "Imagen no encontrada: None, usando la última imagen válida.\n",
      "Imagen no encontrada: None, usando la última imagen válida.\n"
     ]
    },
    {
     "name": "stderr",
     "output_type": "stream",
     "text": [
      "[ WARN:0@23862.465] global loadsave.cpp:241 findDecoder imread_(''): can't open/read file: check file path/integrity\n",
      "[ WARN:0@23862.527] global loadsave.cpp:241 findDecoder imread_(''): can't open/read file: check file path/integrity\n"
     ]
    },
    {
     "name": "stdout",
     "output_type": "stream",
     "text": [
      "doy_sin_train shape: (4838, 1)\n",
      "doy_cos_train shape: (4838, 1)\n",
      "hour_sin_train shape: (4838, 1)\n",
      "hour_cos_train shape: (4838, 1)\n",
      "fourier_features_train shape: 4838\n"
     ]
    },
    {
     "name": "stderr",
     "output_type": "stream",
     "text": [
      "/home/aia-workstation/anaconda3/lib/python3.12/site-packages/keras/src/models/functional.py:225: UserWarning: The structure of `inputs` doesn't match the expected structure: ['keras_tensor_1039', 'keras_tensor_1044']. Received: the structure of inputs=('*', '*')\n",
      "  warnings.warn(\n",
      "[I 2024-11-29 15:21:01,870] Trial 29 finished with value: 0.006162660196423531 and parameters: {'lstm_units_cnn': 192, 'lstm_units_aux': 128, 'dense_units': 192, 'dropout_rate': 0.2}. Best is trial 20 with value: 0.0038060382939875126.\n"
     ]
    },
    {
     "name": "stdout",
     "output_type": "stream",
     "text": [
      "Imagen no encontrada: None, usando la última imagen válida.\n"
     ]
    },
    {
     "name": "stderr",
     "output_type": "stream",
     "text": [
      "[ WARN:0@24678.702] global loadsave.cpp:241 findDecoder imread_(''): can't open/read file: check file path/integrity\n"
     ]
    },
    {
     "name": "stdout",
     "output_type": "stream",
     "text": [
      "Imagen no encontrada: None, usando la última imagen válida.\n"
     ]
    },
    {
     "name": "stderr",
     "output_type": "stream",
     "text": [
      "[ WARN:0@24681.315] global loadsave.cpp:241 findDecoder imread_(''): can't open/read file: check file path/integrity\n"
     ]
    },
    {
     "name": "stdout",
     "output_type": "stream",
     "text": [
      "Imagen no encontrada: None, usando la última imagen válida.\n",
      "Imagen no encontrada: None, usando la última imagen válida.\n"
     ]
    },
    {
     "name": "stderr",
     "output_type": "stream",
     "text": [
      "[ WARN:0@24684.245] global loadsave.cpp:241 findDecoder imread_(''): can't open/read file: check file path/integrity\n",
      "[ WARN:0@24684.303] global loadsave.cpp:241 findDecoder imread_(''): can't open/read file: check file path/integrity\n"
     ]
    },
    {
     "name": "stdout",
     "output_type": "stream",
     "text": [
      "Imagen no encontrada: None, usando la última imagen válida.\n"
     ]
    },
    {
     "name": "stderr",
     "output_type": "stream",
     "text": [
      "[ WARN:0@24685.186] global loadsave.cpp:241 findDecoder imread_(''): can't open/read file: check file path/integrity\n"
     ]
    },
    {
     "name": "stdout",
     "output_type": "stream",
     "text": [
      "Imagen no encontrada: None, usando la última imagen válida.\n",
      "Imagen no encontrada: None, usando la última imagen válida.\n"
     ]
    },
    {
     "name": "stderr",
     "output_type": "stream",
     "text": [
      "[ WARN:0@24686.800] global loadsave.cpp:241 findDecoder imread_(''): can't open/read file: check file path/integrity\n",
      "[ WARN:0@24686.859] global loadsave.cpp:241 findDecoder imread_(''): can't open/read file: check file path/integrity\n"
     ]
    },
    {
     "name": "stdout",
     "output_type": "stream",
     "text": [
      "doy_sin_train shape: (4838, 1)\n",
      "doy_cos_train shape: (4838, 1)\n",
      "hour_sin_train shape: (4838, 1)\n",
      "hour_cos_train shape: (4838, 1)\n",
      "fourier_features_train shape: 4838\n"
     ]
    },
    {
     "name": "stderr",
     "output_type": "stream",
     "text": [
      "/home/aia-workstation/anaconda3/lib/python3.12/site-packages/keras/src/models/functional.py:225: UserWarning: The structure of `inputs` doesn't match the expected structure: ['keras_tensor_1074', 'keras_tensor_1079']. Received: the structure of inputs=('*', '*')\n",
      "  warnings.warn(\n",
      "[I 2024-11-29 15:34:42,759] Trial 30 finished with value: 0.004252525977790356 and parameters: {'lstm_units_cnn': 64, 'lstm_units_aux': 32, 'dense_units': 128, 'dropout_rate': 0.2}. Best is trial 20 with value: 0.0038060382939875126.\n"
     ]
    },
    {
     "name": "stdout",
     "output_type": "stream",
     "text": [
      "Imagen no encontrada: None, usando la última imagen válida.\n"
     ]
    },
    {
     "name": "stderr",
     "output_type": "stream",
     "text": [
      "[ WARN:0@25499.602] global loadsave.cpp:241 findDecoder imread_(''): can't open/read file: check file path/integrity\n"
     ]
    },
    {
     "name": "stdout",
     "output_type": "stream",
     "text": [
      "Imagen no encontrada: None, usando la última imagen válida.\n"
     ]
    },
    {
     "name": "stderr",
     "output_type": "stream",
     "text": [
      "[ WARN:0@25502.302] global loadsave.cpp:241 findDecoder imread_(''): can't open/read file: check file path/integrity\n"
     ]
    },
    {
     "name": "stdout",
     "output_type": "stream",
     "text": [
      "Imagen no encontrada: None, usando la última imagen válida.\n",
      "Imagen no encontrada: None, usando la última imagen válida.\n"
     ]
    },
    {
     "name": "stderr",
     "output_type": "stream",
     "text": [
      "[ WARN:0@25505.045] global loadsave.cpp:241 findDecoder imread_(''): can't open/read file: check file path/integrity\n",
      "[ WARN:0@25505.106] global loadsave.cpp:241 findDecoder imread_(''): can't open/read file: check file path/integrity\n"
     ]
    },
    {
     "name": "stdout",
     "output_type": "stream",
     "text": [
      "Imagen no encontrada: None, usando la última imagen válida.\n"
     ]
    },
    {
     "name": "stderr",
     "output_type": "stream",
     "text": [
      "[ WARN:0@25506.004] global loadsave.cpp:241 findDecoder imread_(''): can't open/read file: check file path/integrity\n"
     ]
    },
    {
     "name": "stdout",
     "output_type": "stream",
     "text": [
      "Imagen no encontrada: None, usando la última imagen válida.\n",
      "Imagen no encontrada: None, usando la última imagen válida.\n"
     ]
    },
    {
     "name": "stderr",
     "output_type": "stream",
     "text": [
      "[ WARN:0@25507.777] global loadsave.cpp:241 findDecoder imread_(''): can't open/read file: check file path/integrity\n",
      "[ WARN:0@25507.839] global loadsave.cpp:241 findDecoder imread_(''): can't open/read file: check file path/integrity\n"
     ]
    },
    {
     "name": "stdout",
     "output_type": "stream",
     "text": [
      "doy_sin_train shape: (4838, 1)\n",
      "doy_cos_train shape: (4838, 1)\n",
      "hour_sin_train shape: (4838, 1)\n",
      "hour_cos_train shape: (4838, 1)\n",
      "fourier_features_train shape: 4838\n"
     ]
    },
    {
     "name": "stderr",
     "output_type": "stream",
     "text": [
      "/home/aia-workstation/anaconda3/lib/python3.12/site-packages/keras/src/models/functional.py:225: UserWarning: The structure of `inputs` doesn't match the expected structure: ['keras_tensor_1109', 'keras_tensor_1114']. Received: the structure of inputs=('*', '*')\n",
      "  warnings.warn(\n",
      "[I 2024-11-29 15:48:26,130] Trial 31 finished with value: 0.0048086573369801044 and parameters: {'lstm_units_cnn': 64, 'lstm_units_aux': 64, 'dense_units': 256, 'dropout_rate': 0.30000000000000004}. Best is trial 20 with value: 0.0038060382939875126.\n"
     ]
    },
    {
     "name": "stdout",
     "output_type": "stream",
     "text": [
      "Imagen no encontrada: None, usando la última imagen válida.\n"
     ]
    },
    {
     "name": "stderr",
     "output_type": "stream",
     "text": [
      "[ WARN:0@26322.784] global loadsave.cpp:241 findDecoder imread_(''): can't open/read file: check file path/integrity\n"
     ]
    },
    {
     "name": "stdout",
     "output_type": "stream",
     "text": [
      "Imagen no encontrada: None, usando la última imagen válida.\n"
     ]
    },
    {
     "name": "stderr",
     "output_type": "stream",
     "text": [
      "[ WARN:0@26325.323] global loadsave.cpp:241 findDecoder imread_(''): can't open/read file: check file path/integrity\n"
     ]
    },
    {
     "name": "stdout",
     "output_type": "stream",
     "text": [
      "Imagen no encontrada: None, usando la última imagen válida.\n",
      "Imagen no encontrada: None, usando la última imagen válida.\n"
     ]
    },
    {
     "name": "stderr",
     "output_type": "stream",
     "text": [
      "[ WARN:0@26327.829] global loadsave.cpp:241 findDecoder imread_(''): can't open/read file: check file path/integrity\n",
      "[ WARN:0@26327.887] global loadsave.cpp:241 findDecoder imread_(''): can't open/read file: check file path/integrity\n"
     ]
    },
    {
     "name": "stdout",
     "output_type": "stream",
     "text": [
      "Imagen no encontrada: None, usando la última imagen válida.\n"
     ]
    },
    {
     "name": "stderr",
     "output_type": "stream",
     "text": [
      "[ WARN:0@26328.780] global loadsave.cpp:241 findDecoder imread_(''): can't open/read file: check file path/integrity\n"
     ]
    },
    {
     "name": "stdout",
     "output_type": "stream",
     "text": [
      "Imagen no encontrada: None, usando la última imagen válida.\n",
      "Imagen no encontrada: None, usando la última imagen válida.\n"
     ]
    },
    {
     "name": "stderr",
     "output_type": "stream",
     "text": [
      "[ WARN:0@26330.440] global loadsave.cpp:241 findDecoder imread_(''): can't open/read file: check file path/integrity\n",
      "[ WARN:0@26330.502] global loadsave.cpp:241 findDecoder imread_(''): can't open/read file: check file path/integrity\n"
     ]
    },
    {
     "name": "stdout",
     "output_type": "stream",
     "text": [
      "doy_sin_train shape: (4838, 1)\n",
      "doy_cos_train shape: (4838, 1)\n",
      "hour_sin_train shape: (4838, 1)\n",
      "hour_cos_train shape: (4838, 1)\n",
      "fourier_features_train shape: 4838\n"
     ]
    },
    {
     "name": "stderr",
     "output_type": "stream",
     "text": [
      "/home/aia-workstation/anaconda3/lib/python3.12/site-packages/keras/src/models/functional.py:225: UserWarning: The structure of `inputs` doesn't match the expected structure: ['keras_tensor_1144', 'keras_tensor_1149']. Received: the structure of inputs=('*', '*')\n",
      "  warnings.warn(\n",
      "[I 2024-11-29 16:02:01,725] Trial 32 finished with value: 0.00569969043135643 and parameters: {'lstm_units_cnn': 64, 'lstm_units_aux': 64, 'dense_units': 256, 'dropout_rate': 0.30000000000000004}. Best is trial 20 with value: 0.0038060382939875126.\n"
     ]
    },
    {
     "name": "stdout",
     "output_type": "stream",
     "text": [
      "Imagen no encontrada: None, usando la última imagen válida.\n"
     ]
    },
    {
     "name": "stderr",
     "output_type": "stream",
     "text": [
      "[ WARN:0@27138.417] global loadsave.cpp:241 findDecoder imread_(''): can't open/read file: check file path/integrity\n"
     ]
    },
    {
     "name": "stdout",
     "output_type": "stream",
     "text": [
      "Imagen no encontrada: None, usando la última imagen válida.\n"
     ]
    },
    {
     "name": "stderr",
     "output_type": "stream",
     "text": [
      "[ WARN:0@27141.339] global loadsave.cpp:241 findDecoder imread_(''): can't open/read file: check file path/integrity\n"
     ]
    },
    {
     "name": "stdout",
     "output_type": "stream",
     "text": [
      "Imagen no encontrada: None, usando la última imagen válida.\n",
      "Imagen no encontrada: None, usando la última imagen válida.\n"
     ]
    },
    {
     "name": "stderr",
     "output_type": "stream",
     "text": [
      "[ WARN:0@27144.073] global loadsave.cpp:241 findDecoder imread_(''): can't open/read file: check file path/integrity\n",
      "[ WARN:0@27144.132] global loadsave.cpp:241 findDecoder imread_(''): can't open/read file: check file path/integrity\n"
     ]
    },
    {
     "name": "stdout",
     "output_type": "stream",
     "text": [
      "Imagen no encontrada: None, usando la última imagen válida.\n"
     ]
    },
    {
     "name": "stderr",
     "output_type": "stream",
     "text": [
      "[ WARN:0@27144.974] global loadsave.cpp:241 findDecoder imread_(''): can't open/read file: check file path/integrity\n"
     ]
    },
    {
     "name": "stdout",
     "output_type": "stream",
     "text": [
      "Imagen no encontrada: None, usando la última imagen válida.\n",
      "Imagen no encontrada: None, usando la última imagen válida.\n"
     ]
    },
    {
     "name": "stderr",
     "output_type": "stream",
     "text": [
      "[ WARN:0@27146.557] global loadsave.cpp:241 findDecoder imread_(''): can't open/read file: check file path/integrity\n",
      "[ WARN:0@27146.616] global loadsave.cpp:241 findDecoder imread_(''): can't open/read file: check file path/integrity\n"
     ]
    },
    {
     "name": "stdout",
     "output_type": "stream",
     "text": [
      "doy_sin_train shape: (4838, 1)\n",
      "doy_cos_train shape: (4838, 1)\n",
      "hour_sin_train shape: (4838, 1)\n",
      "hour_cos_train shape: (4838, 1)\n",
      "fourier_features_train shape: 4838\n"
     ]
    },
    {
     "name": "stderr",
     "output_type": "stream",
     "text": [
      "/home/aia-workstation/anaconda3/lib/python3.12/site-packages/keras/src/models/functional.py:225: UserWarning: The structure of `inputs` doesn't match the expected structure: ['keras_tensor_1179', 'keras_tensor_1184']. Received: the structure of inputs=('*', '*')\n",
      "  warnings.warn(\n",
      "[W 2024-11-29 16:13:33,594] Trial 33 failed with parameters: {'lstm_units_cnn': 64, 'lstm_units_aux': 64, 'dense_units': 256, 'dropout_rate': 0.2} because of the following error: KeyboardInterrupt().\n",
      "Traceback (most recent call last):\n",
      "  File \"/home/aia-workstation/anaconda3/lib/python3.12/site-packages/optuna/study/_optimize.py\", line 197, in _run_trial\n",
      "    value_or_values = func(trial)\n",
      "                      ^^^^^^^^^^^\n",
      "  File \"/tmp/ipykernel_1725829/4265497485.py\", line 66, in objective\n",
      "    history = model.fit(\n",
      "              ^^^^^^^^^^\n",
      "  File \"/home/aia-workstation/anaconda3/lib/python3.12/site-packages/keras/src/utils/traceback_utils.py\", line 117, in error_handler\n",
      "    return fn(*args, **kwargs)\n",
      "           ^^^^^^^^^^^^^^^^^^^\n",
      "  File \"/home/aia-workstation/anaconda3/lib/python3.12/site-packages/keras/src/backend/tensorflow/trainer.py\", line 320, in fit\n",
      "    logs = self.train_function(iterator)\n",
      "           ^^^^^^^^^^^^^^^^^^^^^^^^^^^^^\n",
      "  File \"/home/aia-workstation/anaconda3/lib/python3.12/site-packages/tensorflow/python/util/traceback_utils.py\", line 150, in error_handler\n",
      "    return fn(*args, **kwargs)\n",
      "           ^^^^^^^^^^^^^^^^^^^\n",
      "  File \"/home/aia-workstation/anaconda3/lib/python3.12/site-packages/tensorflow/python/eager/polymorphic_function/polymorphic_function.py\", line 833, in __call__\n",
      "    result = self._call(*args, **kwds)\n",
      "             ^^^^^^^^^^^^^^^^^^^^^^^^^\n",
      "  File \"/home/aia-workstation/anaconda3/lib/python3.12/site-packages/tensorflow/python/eager/polymorphic_function/polymorphic_function.py\", line 878, in _call\n",
      "    results = tracing_compilation.call_function(\n",
      "              ^^^^^^^^^^^^^^^^^^^^^^^^^^^^^^^^^^\n",
      "  File \"/home/aia-workstation/anaconda3/lib/python3.12/site-packages/tensorflow/python/eager/polymorphic_function/tracing_compilation.py\", line 139, in call_function\n",
      "    return function._call_flat(  # pylint: disable=protected-access\n",
      "           ^^^^^^^^^^^^^^^^^^^^^^^^^^^^^^^^^^^^^^^^^^^^^^^^^^^^^^^^\n",
      "  File \"/home/aia-workstation/anaconda3/lib/python3.12/site-packages/tensorflow/python/eager/polymorphic_function/concrete_function.py\", line 1322, in _call_flat\n",
      "    return self._inference_function.call_preflattened(args)\n",
      "           ^^^^^^^^^^^^^^^^^^^^^^^^^^^^^^^^^^^^^^^^^^^^^^^^\n",
      "  File \"/home/aia-workstation/anaconda3/lib/python3.12/site-packages/tensorflow/python/eager/polymorphic_function/atomic_function.py\", line 216, in call_preflattened\n",
      "    flat_outputs = self.call_flat(*args)\n",
      "                   ^^^^^^^^^^^^^^^^^^^^^\n",
      "  File \"/home/aia-workstation/anaconda3/lib/python3.12/site-packages/tensorflow/python/eager/polymorphic_function/atomic_function.py\", line 251, in call_flat\n",
      "    outputs = self._bound_context.call_function(\n",
      "              ^^^^^^^^^^^^^^^^^^^^^^^^^^^^^^^^^^\n",
      "  File \"/home/aia-workstation/anaconda3/lib/python3.12/site-packages/tensorflow/python/eager/context.py\", line 1552, in call_function\n",
      "    outputs = execute.execute(\n",
      "              ^^^^^^^^^^^^^^^^\n",
      "  File \"/home/aia-workstation/anaconda3/lib/python3.12/site-packages/tensorflow/python/eager/execute.py\", line 53, in quick_execute\n",
      "    tensors = pywrap_tfe.TFE_Py_Execute(ctx._handle, device_name, op_name,\n",
      "              ^^^^^^^^^^^^^^^^^^^^^^^^^^^^^^^^^^^^^^^^^^^^^^^^^^^^^^^^^^^^\n",
      "KeyboardInterrupt\n",
      "[W 2024-11-29 16:13:33,598] Trial 33 failed with value None.\n"
     ]
    },
    {
     "ename": "KeyboardInterrupt",
     "evalue": "",
     "output_type": "error",
     "traceback": [
      "\u001b[0;31m---------------------------------------------------------------------------\u001b[0m",
      "\u001b[0;31mKeyboardInterrupt\u001b[0m                         Traceback (most recent call last)",
      "Cell \u001b[0;32mIn[3], line 81\u001b[0m\n\u001b[1;32m     79\u001b[0m \u001b[38;5;28;01mif\u001b[39;00m \u001b[38;5;18m__name__\u001b[39m \u001b[38;5;241m==\u001b[39m \u001b[38;5;124m\"\u001b[39m\u001b[38;5;124m__main__\u001b[39m\u001b[38;5;124m\"\u001b[39m:\n\u001b[1;32m     80\u001b[0m     study \u001b[38;5;241m=\u001b[39m optuna\u001b[38;5;241m.\u001b[39mcreate_study(direction\u001b[38;5;241m=\u001b[39m\u001b[38;5;124m\"\u001b[39m\u001b[38;5;124mminimize\u001b[39m\u001b[38;5;124m\"\u001b[39m)\n\u001b[0;32m---> 81\u001b[0m     study\u001b[38;5;241m.\u001b[39moptimize(objective, n_trials\u001b[38;5;241m=\u001b[39m\u001b[38;5;241m50\u001b[39m)\n\u001b[1;32m     82\u001b[0m     \u001b[38;5;28mprint\u001b[39m(\u001b[38;5;124m\"\u001b[39m\u001b[38;5;124mMejores hiperparámetros:\u001b[39m\u001b[38;5;124m\"\u001b[39m, study\u001b[38;5;241m.\u001b[39mbest_params)\n",
      "File \u001b[0;32m~/anaconda3/lib/python3.12/site-packages/optuna/study/study.py:475\u001b[0m, in \u001b[0;36mStudy.optimize\u001b[0;34m(self, func, n_trials, timeout, n_jobs, catch, callbacks, gc_after_trial, show_progress_bar)\u001b[0m\n\u001b[1;32m    373\u001b[0m \u001b[38;5;28;01mdef\u001b[39;00m \u001b[38;5;21moptimize\u001b[39m(\n\u001b[1;32m    374\u001b[0m     \u001b[38;5;28mself\u001b[39m,\n\u001b[1;32m    375\u001b[0m     func: ObjectiveFuncType,\n\u001b[0;32m   (...)\u001b[0m\n\u001b[1;32m    382\u001b[0m     show_progress_bar: \u001b[38;5;28mbool\u001b[39m \u001b[38;5;241m=\u001b[39m \u001b[38;5;28;01mFalse\u001b[39;00m,\n\u001b[1;32m    383\u001b[0m ) \u001b[38;5;241m-\u001b[39m\u001b[38;5;241m>\u001b[39m \u001b[38;5;28;01mNone\u001b[39;00m:\n\u001b[1;32m    384\u001b[0m \u001b[38;5;250m    \u001b[39m\u001b[38;5;124;03m\"\"\"Optimize an objective function.\u001b[39;00m\n\u001b[1;32m    385\u001b[0m \n\u001b[1;32m    386\u001b[0m \u001b[38;5;124;03m    Optimization is done by choosing a suitable set of hyperparameter values from a given\u001b[39;00m\n\u001b[0;32m   (...)\u001b[0m\n\u001b[1;32m    473\u001b[0m \u001b[38;5;124;03m            If nested invocation of this method occurs.\u001b[39;00m\n\u001b[1;32m    474\u001b[0m \u001b[38;5;124;03m    \"\"\"\u001b[39;00m\n\u001b[0;32m--> 475\u001b[0m     _optimize(\n\u001b[1;32m    476\u001b[0m         study\u001b[38;5;241m=\u001b[39m\u001b[38;5;28mself\u001b[39m,\n\u001b[1;32m    477\u001b[0m         func\u001b[38;5;241m=\u001b[39mfunc,\n\u001b[1;32m    478\u001b[0m         n_trials\u001b[38;5;241m=\u001b[39mn_trials,\n\u001b[1;32m    479\u001b[0m         timeout\u001b[38;5;241m=\u001b[39mtimeout,\n\u001b[1;32m    480\u001b[0m         n_jobs\u001b[38;5;241m=\u001b[39mn_jobs,\n\u001b[1;32m    481\u001b[0m         catch\u001b[38;5;241m=\u001b[39m\u001b[38;5;28mtuple\u001b[39m(catch) \u001b[38;5;28;01mif\u001b[39;00m \u001b[38;5;28misinstance\u001b[39m(catch, Iterable) \u001b[38;5;28;01melse\u001b[39;00m (catch,),\n\u001b[1;32m    482\u001b[0m         callbacks\u001b[38;5;241m=\u001b[39mcallbacks,\n\u001b[1;32m    483\u001b[0m         gc_after_trial\u001b[38;5;241m=\u001b[39mgc_after_trial,\n\u001b[1;32m    484\u001b[0m         show_progress_bar\u001b[38;5;241m=\u001b[39mshow_progress_bar,\n\u001b[1;32m    485\u001b[0m     )\n",
      "File \u001b[0;32m~/anaconda3/lib/python3.12/site-packages/optuna/study/_optimize.py:63\u001b[0m, in \u001b[0;36m_optimize\u001b[0;34m(study, func, n_trials, timeout, n_jobs, catch, callbacks, gc_after_trial, show_progress_bar)\u001b[0m\n\u001b[1;32m     61\u001b[0m \u001b[38;5;28;01mtry\u001b[39;00m:\n\u001b[1;32m     62\u001b[0m     \u001b[38;5;28;01mif\u001b[39;00m n_jobs \u001b[38;5;241m==\u001b[39m \u001b[38;5;241m1\u001b[39m:\n\u001b[0;32m---> 63\u001b[0m         _optimize_sequential(\n\u001b[1;32m     64\u001b[0m             study,\n\u001b[1;32m     65\u001b[0m             func,\n\u001b[1;32m     66\u001b[0m             n_trials,\n\u001b[1;32m     67\u001b[0m             timeout,\n\u001b[1;32m     68\u001b[0m             catch,\n\u001b[1;32m     69\u001b[0m             callbacks,\n\u001b[1;32m     70\u001b[0m             gc_after_trial,\n\u001b[1;32m     71\u001b[0m             reseed_sampler_rng\u001b[38;5;241m=\u001b[39m\u001b[38;5;28;01mFalse\u001b[39;00m,\n\u001b[1;32m     72\u001b[0m             time_start\u001b[38;5;241m=\u001b[39m\u001b[38;5;28;01mNone\u001b[39;00m,\n\u001b[1;32m     73\u001b[0m             progress_bar\u001b[38;5;241m=\u001b[39mprogress_bar,\n\u001b[1;32m     74\u001b[0m         )\n\u001b[1;32m     75\u001b[0m     \u001b[38;5;28;01melse\u001b[39;00m:\n\u001b[1;32m     76\u001b[0m         \u001b[38;5;28;01mif\u001b[39;00m n_jobs \u001b[38;5;241m==\u001b[39m \u001b[38;5;241m-\u001b[39m\u001b[38;5;241m1\u001b[39m:\n",
      "File \u001b[0;32m~/anaconda3/lib/python3.12/site-packages/optuna/study/_optimize.py:160\u001b[0m, in \u001b[0;36m_optimize_sequential\u001b[0;34m(study, func, n_trials, timeout, catch, callbacks, gc_after_trial, reseed_sampler_rng, time_start, progress_bar)\u001b[0m\n\u001b[1;32m    157\u001b[0m         \u001b[38;5;28;01mbreak\u001b[39;00m\n\u001b[1;32m    159\u001b[0m \u001b[38;5;28;01mtry\u001b[39;00m:\n\u001b[0;32m--> 160\u001b[0m     frozen_trial \u001b[38;5;241m=\u001b[39m _run_trial(study, func, catch)\n\u001b[1;32m    161\u001b[0m \u001b[38;5;28;01mfinally\u001b[39;00m:\n\u001b[1;32m    162\u001b[0m     \u001b[38;5;66;03m# The following line mitigates memory problems that can be occurred in some\u001b[39;00m\n\u001b[1;32m    163\u001b[0m     \u001b[38;5;66;03m# environments (e.g., services that use computing containers such as GitHub Actions).\u001b[39;00m\n\u001b[1;32m    164\u001b[0m     \u001b[38;5;66;03m# Please refer to the following PR for further details:\u001b[39;00m\n\u001b[1;32m    165\u001b[0m     \u001b[38;5;66;03m# https://github.com/optuna/optuna/pull/325.\u001b[39;00m\n\u001b[1;32m    166\u001b[0m     \u001b[38;5;28;01mif\u001b[39;00m gc_after_trial:\n",
      "File \u001b[0;32m~/anaconda3/lib/python3.12/site-packages/optuna/study/_optimize.py:248\u001b[0m, in \u001b[0;36m_run_trial\u001b[0;34m(study, func, catch)\u001b[0m\n\u001b[1;32m    241\u001b[0m         \u001b[38;5;28;01massert\u001b[39;00m \u001b[38;5;28;01mFalse\u001b[39;00m, \u001b[38;5;124m\"\u001b[39m\u001b[38;5;124mShould not reach.\u001b[39m\u001b[38;5;124m\"\u001b[39m\n\u001b[1;32m    243\u001b[0m \u001b[38;5;28;01mif\u001b[39;00m (\n\u001b[1;32m    244\u001b[0m     frozen_trial\u001b[38;5;241m.\u001b[39mstate \u001b[38;5;241m==\u001b[39m TrialState\u001b[38;5;241m.\u001b[39mFAIL\n\u001b[1;32m    245\u001b[0m     \u001b[38;5;129;01mand\u001b[39;00m func_err \u001b[38;5;129;01mis\u001b[39;00m \u001b[38;5;129;01mnot\u001b[39;00m \u001b[38;5;28;01mNone\u001b[39;00m\n\u001b[1;32m    246\u001b[0m     \u001b[38;5;129;01mand\u001b[39;00m \u001b[38;5;129;01mnot\u001b[39;00m \u001b[38;5;28misinstance\u001b[39m(func_err, catch)\n\u001b[1;32m    247\u001b[0m ):\n\u001b[0;32m--> 248\u001b[0m     \u001b[38;5;28;01mraise\u001b[39;00m func_err\n\u001b[1;32m    249\u001b[0m \u001b[38;5;28;01mreturn\u001b[39;00m frozen_trial\n",
      "File \u001b[0;32m~/anaconda3/lib/python3.12/site-packages/optuna/study/_optimize.py:197\u001b[0m, in \u001b[0;36m_run_trial\u001b[0;34m(study, func, catch)\u001b[0m\n\u001b[1;32m    195\u001b[0m \u001b[38;5;28;01mwith\u001b[39;00m get_heartbeat_thread(trial\u001b[38;5;241m.\u001b[39m_trial_id, study\u001b[38;5;241m.\u001b[39m_storage):\n\u001b[1;32m    196\u001b[0m     \u001b[38;5;28;01mtry\u001b[39;00m:\n\u001b[0;32m--> 197\u001b[0m         value_or_values \u001b[38;5;241m=\u001b[39m func(trial)\n\u001b[1;32m    198\u001b[0m     \u001b[38;5;28;01mexcept\u001b[39;00m exceptions\u001b[38;5;241m.\u001b[39mTrialPruned \u001b[38;5;28;01mas\u001b[39;00m e:\n\u001b[1;32m    199\u001b[0m         \u001b[38;5;66;03m# TODO(mamu): Handle multi-objective cases.\u001b[39;00m\n\u001b[1;32m    200\u001b[0m         state \u001b[38;5;241m=\u001b[39m TrialState\u001b[38;5;241m.\u001b[39mPRUNED\n",
      "Cell \u001b[0;32mIn[3], line 66\u001b[0m, in \u001b[0;36mobjective\u001b[0;34m(trial)\u001b[0m\n\u001b[1;32m     62\u001b[0m X_images_train_seq, X_aux_train_seq, y_train_seq \u001b[38;5;241m=\u001b[39m create_sequences(X_images_train, X_aux_features_train, y_ghi_train, time_steps)\n\u001b[1;32m     64\u001b[0m model \u001b[38;5;241m=\u001b[39m build_model_with_optuna(trial, time_steps, X_aux_features_train\u001b[38;5;241m.\u001b[39mshape[\u001b[38;5;241m1\u001b[39m])\n\u001b[0;32m---> 66\u001b[0m history \u001b[38;5;241m=\u001b[39m model\u001b[38;5;241m.\u001b[39mfit(\n\u001b[1;32m     67\u001b[0m     [X_images_train_seq, X_aux_train_seq],\n\u001b[1;32m     68\u001b[0m     y_train_seq,\n\u001b[1;32m     69\u001b[0m     epochs\u001b[38;5;241m=\u001b[39m\u001b[38;5;241m10\u001b[39m,\n\u001b[1;32m     70\u001b[0m     batch_size\u001b[38;5;241m=\u001b[39m\u001b[38;5;241m32\u001b[39m,\n\u001b[1;32m     71\u001b[0m     validation_split\u001b[38;5;241m=\u001b[39m\u001b[38;5;241m0.2\u001b[39m,\n\u001b[1;32m     72\u001b[0m     verbose\u001b[38;5;241m=\u001b[39m\u001b[38;5;241m0\u001b[39m\n\u001b[1;32m     73\u001b[0m )\n\u001b[1;32m     75\u001b[0m val_loss \u001b[38;5;241m=\u001b[39m history\u001b[38;5;241m.\u001b[39mhistory[\u001b[38;5;124m'\u001b[39m\u001b[38;5;124mval_loss\u001b[39m\u001b[38;5;124m'\u001b[39m][\u001b[38;5;241m-\u001b[39m\u001b[38;5;241m1\u001b[39m]\n\u001b[1;32m     76\u001b[0m \u001b[38;5;28;01mreturn\u001b[39;00m val_loss\n",
      "File \u001b[0;32m~/anaconda3/lib/python3.12/site-packages/keras/src/utils/traceback_utils.py:117\u001b[0m, in \u001b[0;36mfilter_traceback.<locals>.error_handler\u001b[0;34m(*args, **kwargs)\u001b[0m\n\u001b[1;32m    115\u001b[0m filtered_tb \u001b[38;5;241m=\u001b[39m \u001b[38;5;28;01mNone\u001b[39;00m\n\u001b[1;32m    116\u001b[0m \u001b[38;5;28;01mtry\u001b[39;00m:\n\u001b[0;32m--> 117\u001b[0m     \u001b[38;5;28;01mreturn\u001b[39;00m fn(\u001b[38;5;241m*\u001b[39margs, \u001b[38;5;241m*\u001b[39m\u001b[38;5;241m*\u001b[39mkwargs)\n\u001b[1;32m    118\u001b[0m \u001b[38;5;28;01mexcept\u001b[39;00m \u001b[38;5;167;01mException\u001b[39;00m \u001b[38;5;28;01mas\u001b[39;00m e:\n\u001b[1;32m    119\u001b[0m     filtered_tb \u001b[38;5;241m=\u001b[39m _process_traceback_frames(e\u001b[38;5;241m.\u001b[39m__traceback__)\n",
      "File \u001b[0;32m~/anaconda3/lib/python3.12/site-packages/keras/src/backend/tensorflow/trainer.py:320\u001b[0m, in \u001b[0;36mTensorFlowTrainer.fit\u001b[0;34m(self, x, y, batch_size, epochs, verbose, callbacks, validation_split, validation_data, shuffle, class_weight, sample_weight, initial_epoch, steps_per_epoch, validation_steps, validation_batch_size, validation_freq)\u001b[0m\n\u001b[1;32m    318\u001b[0m \u001b[38;5;28;01mfor\u001b[39;00m step, iterator \u001b[38;5;129;01min\u001b[39;00m epoch_iterator\u001b[38;5;241m.\u001b[39menumerate_epoch():\n\u001b[1;32m    319\u001b[0m     callbacks\u001b[38;5;241m.\u001b[39mon_train_batch_begin(step)\n\u001b[0;32m--> 320\u001b[0m     logs \u001b[38;5;241m=\u001b[39m \u001b[38;5;28mself\u001b[39m\u001b[38;5;241m.\u001b[39mtrain_function(iterator)\n\u001b[1;32m    321\u001b[0m     callbacks\u001b[38;5;241m.\u001b[39mon_train_batch_end(step, logs)\n\u001b[1;32m    322\u001b[0m     \u001b[38;5;28;01mif\u001b[39;00m \u001b[38;5;28mself\u001b[39m\u001b[38;5;241m.\u001b[39mstop_training:\n",
      "File \u001b[0;32m~/anaconda3/lib/python3.12/site-packages/tensorflow/python/util/traceback_utils.py:150\u001b[0m, in \u001b[0;36mfilter_traceback.<locals>.error_handler\u001b[0;34m(*args, **kwargs)\u001b[0m\n\u001b[1;32m    148\u001b[0m filtered_tb \u001b[38;5;241m=\u001b[39m \u001b[38;5;28;01mNone\u001b[39;00m\n\u001b[1;32m    149\u001b[0m \u001b[38;5;28;01mtry\u001b[39;00m:\n\u001b[0;32m--> 150\u001b[0m   \u001b[38;5;28;01mreturn\u001b[39;00m fn(\u001b[38;5;241m*\u001b[39margs, \u001b[38;5;241m*\u001b[39m\u001b[38;5;241m*\u001b[39mkwargs)\n\u001b[1;32m    151\u001b[0m \u001b[38;5;28;01mexcept\u001b[39;00m \u001b[38;5;167;01mException\u001b[39;00m \u001b[38;5;28;01mas\u001b[39;00m e:\n\u001b[1;32m    152\u001b[0m   filtered_tb \u001b[38;5;241m=\u001b[39m _process_traceback_frames(e\u001b[38;5;241m.\u001b[39m__traceback__)\n",
      "File \u001b[0;32m~/anaconda3/lib/python3.12/site-packages/tensorflow/python/eager/polymorphic_function/polymorphic_function.py:833\u001b[0m, in \u001b[0;36mFunction.__call__\u001b[0;34m(self, *args, **kwds)\u001b[0m\n\u001b[1;32m    830\u001b[0m compiler \u001b[38;5;241m=\u001b[39m \u001b[38;5;124m\"\u001b[39m\u001b[38;5;124mxla\u001b[39m\u001b[38;5;124m\"\u001b[39m \u001b[38;5;28;01mif\u001b[39;00m \u001b[38;5;28mself\u001b[39m\u001b[38;5;241m.\u001b[39m_jit_compile \u001b[38;5;28;01melse\u001b[39;00m \u001b[38;5;124m\"\u001b[39m\u001b[38;5;124mnonXla\u001b[39m\u001b[38;5;124m\"\u001b[39m\n\u001b[1;32m    832\u001b[0m \u001b[38;5;28;01mwith\u001b[39;00m OptionalXlaContext(\u001b[38;5;28mself\u001b[39m\u001b[38;5;241m.\u001b[39m_jit_compile):\n\u001b[0;32m--> 833\u001b[0m   result \u001b[38;5;241m=\u001b[39m \u001b[38;5;28mself\u001b[39m\u001b[38;5;241m.\u001b[39m_call(\u001b[38;5;241m*\u001b[39margs, \u001b[38;5;241m*\u001b[39m\u001b[38;5;241m*\u001b[39mkwds)\n\u001b[1;32m    835\u001b[0m new_tracing_count \u001b[38;5;241m=\u001b[39m \u001b[38;5;28mself\u001b[39m\u001b[38;5;241m.\u001b[39mexperimental_get_tracing_count()\n\u001b[1;32m    836\u001b[0m without_tracing \u001b[38;5;241m=\u001b[39m (tracing_count \u001b[38;5;241m==\u001b[39m new_tracing_count)\n",
      "File \u001b[0;32m~/anaconda3/lib/python3.12/site-packages/tensorflow/python/eager/polymorphic_function/polymorphic_function.py:878\u001b[0m, in \u001b[0;36mFunction._call\u001b[0;34m(self, *args, **kwds)\u001b[0m\n\u001b[1;32m    875\u001b[0m \u001b[38;5;28mself\u001b[39m\u001b[38;5;241m.\u001b[39m_lock\u001b[38;5;241m.\u001b[39mrelease()\n\u001b[1;32m    876\u001b[0m \u001b[38;5;66;03m# In this case we have not created variables on the first call. So we can\u001b[39;00m\n\u001b[1;32m    877\u001b[0m \u001b[38;5;66;03m# run the first trace but we should fail if variables are created.\u001b[39;00m\n\u001b[0;32m--> 878\u001b[0m results \u001b[38;5;241m=\u001b[39m tracing_compilation\u001b[38;5;241m.\u001b[39mcall_function(\n\u001b[1;32m    879\u001b[0m     args, kwds, \u001b[38;5;28mself\u001b[39m\u001b[38;5;241m.\u001b[39m_variable_creation_config\n\u001b[1;32m    880\u001b[0m )\n\u001b[1;32m    881\u001b[0m \u001b[38;5;28;01mif\u001b[39;00m \u001b[38;5;28mself\u001b[39m\u001b[38;5;241m.\u001b[39m_created_variables:\n\u001b[1;32m    882\u001b[0m   \u001b[38;5;28;01mraise\u001b[39;00m \u001b[38;5;167;01mValueError\u001b[39;00m(\u001b[38;5;124m\"\u001b[39m\u001b[38;5;124mCreating variables on a non-first call to a function\u001b[39m\u001b[38;5;124m\"\u001b[39m\n\u001b[1;32m    883\u001b[0m                    \u001b[38;5;124m\"\u001b[39m\u001b[38;5;124m decorated with tf.function.\u001b[39m\u001b[38;5;124m\"\u001b[39m)\n",
      "File \u001b[0;32m~/anaconda3/lib/python3.12/site-packages/tensorflow/python/eager/polymorphic_function/tracing_compilation.py:139\u001b[0m, in \u001b[0;36mcall_function\u001b[0;34m(args, kwargs, tracing_options)\u001b[0m\n\u001b[1;32m    137\u001b[0m bound_args \u001b[38;5;241m=\u001b[39m function\u001b[38;5;241m.\u001b[39mfunction_type\u001b[38;5;241m.\u001b[39mbind(\u001b[38;5;241m*\u001b[39margs, \u001b[38;5;241m*\u001b[39m\u001b[38;5;241m*\u001b[39mkwargs)\n\u001b[1;32m    138\u001b[0m flat_inputs \u001b[38;5;241m=\u001b[39m function\u001b[38;5;241m.\u001b[39mfunction_type\u001b[38;5;241m.\u001b[39munpack_inputs(bound_args)\n\u001b[0;32m--> 139\u001b[0m \u001b[38;5;28;01mreturn\u001b[39;00m function\u001b[38;5;241m.\u001b[39m_call_flat(  \u001b[38;5;66;03m# pylint: disable=protected-access\u001b[39;00m\n\u001b[1;32m    140\u001b[0m     flat_inputs, captured_inputs\u001b[38;5;241m=\u001b[39mfunction\u001b[38;5;241m.\u001b[39mcaptured_inputs\n\u001b[1;32m    141\u001b[0m )\n",
      "File \u001b[0;32m~/anaconda3/lib/python3.12/site-packages/tensorflow/python/eager/polymorphic_function/concrete_function.py:1322\u001b[0m, in \u001b[0;36mConcreteFunction._call_flat\u001b[0;34m(self, tensor_inputs, captured_inputs)\u001b[0m\n\u001b[1;32m   1318\u001b[0m possible_gradient_type \u001b[38;5;241m=\u001b[39m gradients_util\u001b[38;5;241m.\u001b[39mPossibleTapeGradientTypes(args)\n\u001b[1;32m   1319\u001b[0m \u001b[38;5;28;01mif\u001b[39;00m (possible_gradient_type \u001b[38;5;241m==\u001b[39m gradients_util\u001b[38;5;241m.\u001b[39mPOSSIBLE_GRADIENT_TYPES_NONE\n\u001b[1;32m   1320\u001b[0m     \u001b[38;5;129;01mand\u001b[39;00m executing_eagerly):\n\u001b[1;32m   1321\u001b[0m   \u001b[38;5;66;03m# No tape is watching; skip to running the function.\u001b[39;00m\n\u001b[0;32m-> 1322\u001b[0m   \u001b[38;5;28;01mreturn\u001b[39;00m \u001b[38;5;28mself\u001b[39m\u001b[38;5;241m.\u001b[39m_inference_function\u001b[38;5;241m.\u001b[39mcall_preflattened(args)\n\u001b[1;32m   1323\u001b[0m forward_backward \u001b[38;5;241m=\u001b[39m \u001b[38;5;28mself\u001b[39m\u001b[38;5;241m.\u001b[39m_select_forward_and_backward_functions(\n\u001b[1;32m   1324\u001b[0m     args,\n\u001b[1;32m   1325\u001b[0m     possible_gradient_type,\n\u001b[1;32m   1326\u001b[0m     executing_eagerly)\n\u001b[1;32m   1327\u001b[0m forward_function, args_with_tangents \u001b[38;5;241m=\u001b[39m forward_backward\u001b[38;5;241m.\u001b[39mforward()\n",
      "File \u001b[0;32m~/anaconda3/lib/python3.12/site-packages/tensorflow/python/eager/polymorphic_function/atomic_function.py:216\u001b[0m, in \u001b[0;36mAtomicFunction.call_preflattened\u001b[0;34m(self, args)\u001b[0m\n\u001b[1;32m    214\u001b[0m \u001b[38;5;28;01mdef\u001b[39;00m \u001b[38;5;21mcall_preflattened\u001b[39m(\u001b[38;5;28mself\u001b[39m, args: Sequence[core\u001b[38;5;241m.\u001b[39mTensor]) \u001b[38;5;241m-\u001b[39m\u001b[38;5;241m>\u001b[39m Any:\n\u001b[1;32m    215\u001b[0m \u001b[38;5;250m  \u001b[39m\u001b[38;5;124;03m\"\"\"Calls with flattened tensor inputs and returns the structured output.\"\"\"\u001b[39;00m\n\u001b[0;32m--> 216\u001b[0m   flat_outputs \u001b[38;5;241m=\u001b[39m \u001b[38;5;28mself\u001b[39m\u001b[38;5;241m.\u001b[39mcall_flat(\u001b[38;5;241m*\u001b[39margs)\n\u001b[1;32m    217\u001b[0m   \u001b[38;5;28;01mreturn\u001b[39;00m \u001b[38;5;28mself\u001b[39m\u001b[38;5;241m.\u001b[39mfunction_type\u001b[38;5;241m.\u001b[39mpack_output(flat_outputs)\n",
      "File \u001b[0;32m~/anaconda3/lib/python3.12/site-packages/tensorflow/python/eager/polymorphic_function/atomic_function.py:251\u001b[0m, in \u001b[0;36mAtomicFunction.call_flat\u001b[0;34m(self, *args)\u001b[0m\n\u001b[1;32m    249\u001b[0m \u001b[38;5;28;01mwith\u001b[39;00m record\u001b[38;5;241m.\u001b[39mstop_recording():\n\u001b[1;32m    250\u001b[0m   \u001b[38;5;28;01mif\u001b[39;00m \u001b[38;5;28mself\u001b[39m\u001b[38;5;241m.\u001b[39m_bound_context\u001b[38;5;241m.\u001b[39mexecuting_eagerly():\n\u001b[0;32m--> 251\u001b[0m     outputs \u001b[38;5;241m=\u001b[39m \u001b[38;5;28mself\u001b[39m\u001b[38;5;241m.\u001b[39m_bound_context\u001b[38;5;241m.\u001b[39mcall_function(\n\u001b[1;32m    252\u001b[0m         \u001b[38;5;28mself\u001b[39m\u001b[38;5;241m.\u001b[39mname,\n\u001b[1;32m    253\u001b[0m         \u001b[38;5;28mlist\u001b[39m(args),\n\u001b[1;32m    254\u001b[0m         \u001b[38;5;28mlen\u001b[39m(\u001b[38;5;28mself\u001b[39m\u001b[38;5;241m.\u001b[39mfunction_type\u001b[38;5;241m.\u001b[39mflat_outputs),\n\u001b[1;32m    255\u001b[0m     )\n\u001b[1;32m    256\u001b[0m   \u001b[38;5;28;01melse\u001b[39;00m:\n\u001b[1;32m    257\u001b[0m     outputs \u001b[38;5;241m=\u001b[39m make_call_op_in_graph(\n\u001b[1;32m    258\u001b[0m         \u001b[38;5;28mself\u001b[39m,\n\u001b[1;32m    259\u001b[0m         \u001b[38;5;28mlist\u001b[39m(args),\n\u001b[1;32m    260\u001b[0m         \u001b[38;5;28mself\u001b[39m\u001b[38;5;241m.\u001b[39m_bound_context\u001b[38;5;241m.\u001b[39mfunction_call_options\u001b[38;5;241m.\u001b[39mas_attrs(),\n\u001b[1;32m    261\u001b[0m     )\n",
      "File \u001b[0;32m~/anaconda3/lib/python3.12/site-packages/tensorflow/python/eager/context.py:1552\u001b[0m, in \u001b[0;36mContext.call_function\u001b[0;34m(self, name, tensor_inputs, num_outputs)\u001b[0m\n\u001b[1;32m   1550\u001b[0m cancellation_context \u001b[38;5;241m=\u001b[39m cancellation\u001b[38;5;241m.\u001b[39mcontext()\n\u001b[1;32m   1551\u001b[0m \u001b[38;5;28;01mif\u001b[39;00m cancellation_context \u001b[38;5;129;01mis\u001b[39;00m \u001b[38;5;28;01mNone\u001b[39;00m:\n\u001b[0;32m-> 1552\u001b[0m   outputs \u001b[38;5;241m=\u001b[39m execute\u001b[38;5;241m.\u001b[39mexecute(\n\u001b[1;32m   1553\u001b[0m       name\u001b[38;5;241m.\u001b[39mdecode(\u001b[38;5;124m\"\u001b[39m\u001b[38;5;124mutf-8\u001b[39m\u001b[38;5;124m\"\u001b[39m),\n\u001b[1;32m   1554\u001b[0m       num_outputs\u001b[38;5;241m=\u001b[39mnum_outputs,\n\u001b[1;32m   1555\u001b[0m       inputs\u001b[38;5;241m=\u001b[39mtensor_inputs,\n\u001b[1;32m   1556\u001b[0m       attrs\u001b[38;5;241m=\u001b[39mattrs,\n\u001b[1;32m   1557\u001b[0m       ctx\u001b[38;5;241m=\u001b[39m\u001b[38;5;28mself\u001b[39m,\n\u001b[1;32m   1558\u001b[0m   )\n\u001b[1;32m   1559\u001b[0m \u001b[38;5;28;01melse\u001b[39;00m:\n\u001b[1;32m   1560\u001b[0m   outputs \u001b[38;5;241m=\u001b[39m execute\u001b[38;5;241m.\u001b[39mexecute_with_cancellation(\n\u001b[1;32m   1561\u001b[0m       name\u001b[38;5;241m.\u001b[39mdecode(\u001b[38;5;124m\"\u001b[39m\u001b[38;5;124mutf-8\u001b[39m\u001b[38;5;124m\"\u001b[39m),\n\u001b[1;32m   1562\u001b[0m       num_outputs\u001b[38;5;241m=\u001b[39mnum_outputs,\n\u001b[0;32m   (...)\u001b[0m\n\u001b[1;32m   1566\u001b[0m       cancellation_manager\u001b[38;5;241m=\u001b[39mcancellation_context,\n\u001b[1;32m   1567\u001b[0m   )\n",
      "File \u001b[0;32m~/anaconda3/lib/python3.12/site-packages/tensorflow/python/eager/execute.py:53\u001b[0m, in \u001b[0;36mquick_execute\u001b[0;34m(op_name, num_outputs, inputs, attrs, ctx, name)\u001b[0m\n\u001b[1;32m     51\u001b[0m \u001b[38;5;28;01mtry\u001b[39;00m:\n\u001b[1;32m     52\u001b[0m   ctx\u001b[38;5;241m.\u001b[39mensure_initialized()\n\u001b[0;32m---> 53\u001b[0m   tensors \u001b[38;5;241m=\u001b[39m pywrap_tfe\u001b[38;5;241m.\u001b[39mTFE_Py_Execute(ctx\u001b[38;5;241m.\u001b[39m_handle, device_name, op_name,\n\u001b[1;32m     54\u001b[0m                                       inputs, attrs, num_outputs)\n\u001b[1;32m     55\u001b[0m \u001b[38;5;28;01mexcept\u001b[39;00m core\u001b[38;5;241m.\u001b[39m_NotOkStatusException \u001b[38;5;28;01mas\u001b[39;00m e:\n\u001b[1;32m     56\u001b[0m   \u001b[38;5;28;01mif\u001b[39;00m name \u001b[38;5;129;01mis\u001b[39;00m \u001b[38;5;129;01mnot\u001b[39;00m \u001b[38;5;28;01mNone\u001b[39;00m:\n",
      "\u001b[0;31mKeyboardInterrupt\u001b[0m: "
     ]
    }
   ],
   "source": [
    "# Construir modelo CNN-LSTM optimizado con Optuna\n",
    "def build_model_with_optuna(trial, time_steps, aux_features_shape):\n",
    "    # Hiperparámetros\n",
    "    lstm_units_cnn = trial.suggest_int(\"lstm_units_cnn\", 64, 256, step=64)\n",
    "    lstm_units_aux = trial.suggest_int(\"lstm_units_aux\", 32, 128, step=32)\n",
    "    dense_units = trial.suggest_int(\"dense_units\", 64, 256, step=64)\n",
    "    dropout_rate = trial.suggest_float(\"dropout_rate\", 0.2, 0.5, step=0.1)\n",
    "\n",
    "    # Submodelo para imágenes (CNN con VGG16 preentrenado)\n",
    "    vgg16 = VGG16(include_top=False, input_shape=(64, 64, 3))\n",
    "    for layer in vgg16.layers:\n",
    "        layer.trainable = False  # Congela las capas preentrenadas\n",
    "\n",
    "    cnn_model = tf.keras.Sequential([\n",
    "        vgg16,\n",
    "        GlobalAveragePooling2D(),\n",
    "        Dense(128, activation='relu'),\n",
    "        Dropout(dropout_rate)\n",
    "    ])\n",
    "\n",
    "    image_input = Input(shape=(time_steps, 64, 64, 3))\n",
    "    processed_images = TimeDistributed(cnn_model)(image_input)\n",
    "\n",
    "    # Submodelo LSTM\n",
    "    lstm_out = LSTM(lstm_units_cnn, return_sequences=False)(processed_images)\n",
    "\n",
    "    # Submodelo para características auxiliares\n",
    "    aux_input = Input(shape=(time_steps, aux_features_shape))\n",
    "    lstm_aux_out = LSTM(lstm_units_aux, return_sequences=False)(aux_input)\n",
    "\n",
    "    # Combinar salidas de CNN-LSTM y LSTM auxiliar\n",
    "    combined = Concatenate()([lstm_out, lstm_aux_out])\n",
    "\n",
    "    # Capas densas finales\n",
    "    dense_out = Dense(dense_units, activation='relu')(combined)\n",
    "    dense_out = Dropout(dropout_rate)(dense_out)\n",
    "    final_output = Dense(1, activation='linear')(dense_out)\n",
    "\n",
    "    # Modelo completo\n",
    "    model = Model(inputs=[image_input, aux_input], outputs=final_output)\n",
    "    model.compile(optimizer='adam', loss='mse', metrics=['mae'])\n",
    "    return model\n",
    "\n",
    "\n",
    "df = pd.read_pickle('/home/aia-workstation/Documents/Santiago/Modelo/Cloud_Forecasting_CNN_LSTM/df_GHI.plk')\n",
    "\n"
   ]
  },
  {
   "cell_type": "code",
   "execution_count": null,
   "metadata": {},
   "outputs": [
    {
     "name": "stdout",
     "output_type": "stream",
     "text": [
      "Imagen no encontrada: None, usando la última imagen válida.\n"
     ]
    },
    {
     "name": "stderr",
     "output_type": "stream",
     "text": [
      "[ WARN:0@28438.158] global loadsave.cpp:241 findDecoder imread_(''): can't open/read file: check file path/integrity\n"
     ]
    },
    {
     "name": "stdout",
     "output_type": "stream",
     "text": [
      "Imagen no encontrada: None, usando la última imagen válida.\n"
     ]
    },
    {
     "name": "stderr",
     "output_type": "stream",
     "text": [
      "[ WARN:0@28440.792] global loadsave.cpp:241 findDecoder imread_(''): can't open/read file: check file path/integrity\n"
     ]
    },
    {
     "name": "stdout",
     "output_type": "stream",
     "text": [
      "Imagen no encontrada: None, usando la última imagen válida.\n",
      "Imagen no encontrada: None, usando la última imagen válida.\n"
     ]
    },
    {
     "name": "stderr",
     "output_type": "stream",
     "text": [
      "[ WARN:0@28443.427] global loadsave.cpp:241 findDecoder imread_(''): can't open/read file: check file path/integrity\n",
      "[ WARN:0@28443.488] global loadsave.cpp:241 findDecoder imread_(''): can't open/read file: check file path/integrity\n"
     ]
    },
    {
     "name": "stdout",
     "output_type": "stream",
     "text": [
      "Imagen no encontrada: None, usando la última imagen válida.\n"
     ]
    },
    {
     "name": "stderr",
     "output_type": "stream",
     "text": [
      "[ WARN:0@28444.383] global loadsave.cpp:241 findDecoder imread_(''): can't open/read file: check file path/integrity\n"
     ]
    },
    {
     "name": "stdout",
     "output_type": "stream",
     "text": [
      "Imagen no encontrada: None, usando la última imagen válida.\n",
      "Imagen no encontrada: None, usando la última imagen válida.\n"
     ]
    },
    {
     "name": "stderr",
     "output_type": "stream",
     "text": [
      "[ WARN:0@28446.053] global loadsave.cpp:241 findDecoder imread_(''): can't open/read file: check file path/integrity\n",
      "[ WARN:0@28446.116] global loadsave.cpp:241 findDecoder imread_(''): can't open/read file: check file path/integrity\n"
     ]
    },
    {
     "name": "stdout",
     "output_type": "stream",
     "text": [
      "doy_sin_train shape: (4838, 1)\n",
      "doy_cos_train shape: (4838, 1)\n",
      "hour_sin_train shape: (4838, 1)\n",
      "hour_cos_train shape: (4838, 1)\n",
      "fourier_features_train shape: 4838\n"
     ]
    }
   ],
   "source": [
    "\n",
    "# Filtrar datos\n",
    "fecha_inicio_entrenamiento = '2023-01-01 05:00:00'\n",
    "fecha_fin_entrenamiento = '2023-02-28 18:30:00'\n",
    "\n",
    "df['Timestamp'] = pd.to_datetime(df['Timestamp'])\n",
    "df_entrenamiento = df[(df['Timestamp'] >= fecha_inicio_entrenamiento) & (df['Timestamp'] <= fecha_fin_entrenamiento)]\n",
    "\n",
    "image_folder = '/home/aia-workstation/Documents/Santiago/Modelo/Cloud_Forecasting_CNN_LSTM/Images/ACMF'\n",
    "X_images_train, y_ghi_train, scaler_train, doy_sin_train, doy_cos_train,hour_sin_train,hour_cos_train, fourier_features_train = load_images_and_ghi(df_entrenamiento, image_folder)\n",
    "\n",
    "\n",
    "    \n",
    "X_aux_features_train = np.concatenate([doy_sin_train, doy_cos_train,hour_sin_train,hour_cos_train ,fourier_features_train], axis=1)\n",
    "time_steps = 12\n",
    "X_images_train_seq, X_aux_train_seq, y_train_seq = create_sequences(X_images_train, X_aux_features_train, y_ghi_train, time_steps)\n",
    "\n"
   ]
  },
  {
   "cell_type": "code",
   "execution_count": null,
   "metadata": {},
   "outputs": [],
   "source": [
    "\n",
    "# Función objetivo para Optuna\n",
    "def objective(trial):\n",
    "\n",
    "    model = build_model_with_optuna(trial, time_steps, X_aux_features_train.shape[1])\n",
    "\n",
    "    history = model.fit(\n",
    "        [X_images_train_seq, X_aux_train_seq],\n",
    "        y_train_seq,\n",
    "        epochs=10,\n",
    "        batch_size=32,\n",
    "        validation_split=0.2,\n",
    "        verbose=0\n",
    "    )\n",
    "\n",
    "    val_loss = history.history['val_loss'][-1]\n",
    "    return val_loss\n",
    "\n",
    "# Ejecución de Optuna\n",
    "if __name__ == \"__main__\":\n",
    "    study = optuna.create_study(direction=\"minimize\")\n",
    "    study.optimize(objective, n_trials=20)\n",
    "    print(\"Mejores hiperparámetros:\", study.best_params)\n",
    "\n"
   ]
  },
  {
   "cell_type": "code",
   "execution_count": 9,
   "metadata": {},
   "outputs": [
    {
     "name": "stdout",
     "output_type": "stream",
     "text": [
      "Epoch 1/50\n"
     ]
    },
    {
     "name": "stderr",
     "output_type": "stream",
     "text": [
      "/home/aia-workstation/anaconda3/lib/python3.12/site-packages/keras/src/models/functional.py:225: UserWarning: The structure of `inputs` doesn't match the expected structure: ['keras_tensor_1278', 'keras_tensor_1283']. Received: the structure of inputs=('*', '*')\n",
      "  warnings.warn(\n"
     ]
    },
    {
     "name": "stdout",
     "output_type": "stream",
     "text": [
      "\u001b[1m121/121\u001b[0m \u001b[32m━━━━━━━━━━━━━━━━━━━━\u001b[0m\u001b[37m\u001b[0m \u001b[1m85s\u001b[0m 674ms/step - loss: 0.0792 - mae: 0.1807 - val_loss: 0.0051 - val_mae: 0.0468\n",
      "Epoch 2/50\n",
      "\u001b[1m121/121\u001b[0m \u001b[32m━━━━━━━━━━━━━━━━━━━━\u001b[0m\u001b[37m\u001b[0m \u001b[1m81s\u001b[0m 673ms/step - loss: 0.0066 - mae: 0.0597 - val_loss: 0.0035 - val_mae: 0.0309\n",
      "Epoch 3/50\n",
      "\u001b[1m121/121\u001b[0m \u001b[32m━━━━━━━━━━━━━━━━━━━━\u001b[0m\u001b[37m\u001b[0m \u001b[1m81s\u001b[0m 669ms/step - loss: 0.0057 - mae: 0.0524 - val_loss: 0.0034 - val_mae: 0.0286\n",
      "Epoch 4/50\n",
      "\u001b[1m121/121\u001b[0m \u001b[32m━━━━━━━━━━━━━━━━━━━━\u001b[0m\u001b[37m\u001b[0m \u001b[1m81s\u001b[0m 669ms/step - loss: 0.0048 - mae: 0.0460 - val_loss: 0.0047 - val_mae: 0.0418\n",
      "Epoch 5/50\n",
      "\u001b[1m121/121\u001b[0m \u001b[32m━━━━━━━━━━━━━━━━━━━━\u001b[0m\u001b[37m\u001b[0m \u001b[1m81s\u001b[0m 669ms/step - loss: 0.0043 - mae: 0.0432 - val_loss: 0.0049 - val_mae: 0.0431\n",
      "Epoch 6/50\n",
      "\u001b[1m121/121\u001b[0m \u001b[32m━━━━━━━━━━━━━━━━━━━━\u001b[0m\u001b[37m\u001b[0m \u001b[1m80s\u001b[0m 660ms/step - loss: 0.0040 - mae: 0.0405 - val_loss: 0.0047 - val_mae: 0.0431\n",
      "Epoch 7/50\n",
      "\u001b[1m121/121\u001b[0m \u001b[32m━━━━━━━━━━━━━━━━━━━━\u001b[0m\u001b[37m\u001b[0m \u001b[1m80s\u001b[0m 660ms/step - loss: 0.0042 - mae: 0.0403 - val_loss: 0.0034 - val_mae: 0.0286\n",
      "Epoch 8/50\n",
      "\u001b[1m121/121\u001b[0m \u001b[32m━━━━━━━━━━━━━━━━━━━━\u001b[0m\u001b[37m\u001b[0m \u001b[1m80s\u001b[0m 660ms/step - loss: 0.0045 - mae: 0.0431 - val_loss: 0.0073 - val_mae: 0.0658\n",
      "Epoch 9/50\n",
      "\u001b[1m121/121\u001b[0m \u001b[32m━━━━━━━━━━━━━━━━━━━━\u001b[0m\u001b[37m\u001b[0m \u001b[1m80s\u001b[0m 661ms/step - loss: 0.0045 - mae: 0.0420 - val_loss: 0.0055 - val_mae: 0.0502\n",
      "Epoch 10/50\n",
      "\u001b[1m121/121\u001b[0m \u001b[32m━━━━━━━━━━━━━━━━━━━━\u001b[0m\u001b[37m\u001b[0m \u001b[1m80s\u001b[0m 660ms/step - loss: 0.0038 - mae: 0.0392 - val_loss: 0.0034 - val_mae: 0.0284\n",
      "Epoch 11/50\n",
      "\u001b[1m121/121\u001b[0m \u001b[32m━━━━━━━━━━━━━━━━━━━━\u001b[0m\u001b[37m\u001b[0m \u001b[1m80s\u001b[0m 661ms/step - loss: 0.0040 - mae: 0.0383 - val_loss: 0.0046 - val_mae: 0.0408\n",
      "Epoch 12/50\n",
      "\u001b[1m121/121\u001b[0m \u001b[32m━━━━━━━━━━━━━━━━━━━━\u001b[0m\u001b[37m\u001b[0m \u001b[1m80s\u001b[0m 660ms/step - loss: 0.0040 - mae: 0.0372 - val_loss: 0.0045 - val_mae: 0.0380\n",
      "Epoch 13/50\n",
      "\u001b[1m121/121\u001b[0m \u001b[32m━━━━━━━━━━━━━━━━━━━━\u001b[0m\u001b[37m\u001b[0m \u001b[1m80s\u001b[0m 662ms/step - loss: 0.0038 - mae: 0.0387 - val_loss: 0.0038 - val_mae: 0.0314\n",
      "Epoch 14/50\n",
      "\u001b[1m121/121\u001b[0m \u001b[32m━━━━━━━━━━━━━━━━━━━━\u001b[0m\u001b[37m\u001b[0m \u001b[1m80s\u001b[0m 661ms/step - loss: 0.0042 - mae: 0.0390 - val_loss: 0.0042 - val_mae: 0.0371\n",
      "Epoch 15/50\n",
      "\u001b[1m121/121\u001b[0m \u001b[32m━━━━━━━━━━━━━━━━━━━━\u001b[0m\u001b[37m\u001b[0m \u001b[1m80s\u001b[0m 661ms/step - loss: 0.0036 - mae: 0.0369 - val_loss: 0.0040 - val_mae: 0.0363\n",
      "Epoch 16/50\n",
      "\u001b[1m121/121\u001b[0m \u001b[32m━━━━━━━━━━━━━━━━━━━━\u001b[0m\u001b[37m\u001b[0m \u001b[1m80s\u001b[0m 661ms/step - loss: 0.0038 - mae: 0.0384 - val_loss: 0.0057 - val_mae: 0.0515\n",
      "Epoch 17/50\n",
      "\u001b[1m121/121\u001b[0m \u001b[32m━━━━━━━━━━━━━━━━━━━━\u001b[0m\u001b[37m\u001b[0m \u001b[1m80s\u001b[0m 661ms/step - loss: 0.0035 - mae: 0.0359 - val_loss: 0.0039 - val_mae: 0.0326\n",
      "Epoch 18/50\n",
      "\u001b[1m121/121\u001b[0m \u001b[32m━━━━━━━━━━━━━━━━━━━━\u001b[0m\u001b[37m\u001b[0m \u001b[1m80s\u001b[0m 660ms/step - loss: 0.0038 - mae: 0.0366 - val_loss: 0.0058 - val_mae: 0.0525\n",
      "Epoch 19/50\n",
      "\u001b[1m121/121\u001b[0m \u001b[32m━━━━━━━━━━━━━━━━━━━━\u001b[0m\u001b[37m\u001b[0m \u001b[1m80s\u001b[0m 660ms/step - loss: 0.0036 - mae: 0.0366 - val_loss: 0.0058 - val_mae: 0.0516\n",
      "Epoch 20/50\n",
      "\u001b[1m121/121\u001b[0m \u001b[32m━━━━━━━━━━━━━━━━━━━━\u001b[0m\u001b[37m\u001b[0m \u001b[1m80s\u001b[0m 661ms/step - loss: 0.0041 - mae: 0.0391 - val_loss: 0.0036 - val_mae: 0.0293\n",
      "Epoch 21/50\n",
      "\u001b[1m121/121\u001b[0m \u001b[32m━━━━━━━━━━━━━━━━━━━━\u001b[0m\u001b[37m\u001b[0m \u001b[1m80s\u001b[0m 660ms/step - loss: 0.0038 - mae: 0.0371 - val_loss: 0.0043 - val_mae: 0.0390\n",
      "Epoch 22/50\n",
      "\u001b[1m121/121\u001b[0m \u001b[32m━━━━━━━━━━━━━━━━━━━━\u001b[0m\u001b[37m\u001b[0m \u001b[1m80s\u001b[0m 660ms/step - loss: 0.0037 - mae: 0.0356 - val_loss: 0.0055 - val_mae: 0.0494\n",
      "Epoch 23/50\n",
      "\u001b[1m121/121\u001b[0m \u001b[32m━━━━━━━━━━━━━━━━━━━━\u001b[0m\u001b[37m\u001b[0m \u001b[1m80s\u001b[0m 660ms/step - loss: 0.0033 - mae: 0.0358 - val_loss: 0.0046 - val_mae: 0.0412\n",
      "Epoch 24/50\n",
      "\u001b[1m121/121\u001b[0m \u001b[32m━━━━━━━━━━━━━━━━━━━━\u001b[0m\u001b[37m\u001b[0m \u001b[1m80s\u001b[0m 661ms/step - loss: 0.0037 - mae: 0.0366 - val_loss: 0.0043 - val_mae: 0.0371\n",
      "Epoch 25/50\n",
      "\u001b[1m121/121\u001b[0m \u001b[32m━━━━━━━━━━━━━━━━━━━━\u001b[0m\u001b[37m\u001b[0m \u001b[1m80s\u001b[0m 661ms/step - loss: 0.0032 - mae: 0.0341 - val_loss: 0.0044 - val_mae: 0.0354\n",
      "Epoch 26/50\n",
      "\u001b[1m121/121\u001b[0m \u001b[32m━━━━━━━━━━━━━━━━━━━━\u001b[0m\u001b[37m\u001b[0m \u001b[1m80s\u001b[0m 661ms/step - loss: 0.0034 - mae: 0.0358 - val_loss: 0.0048 - val_mae: 0.0425\n",
      "Epoch 27/50\n",
      "\u001b[1m121/121\u001b[0m \u001b[32m━━━━━━━━━━━━━━━━━━━━\u001b[0m\u001b[37m\u001b[0m \u001b[1m80s\u001b[0m 660ms/step - loss: 0.0031 - mae: 0.0334 - val_loss: 0.0042 - val_mae: 0.0356\n",
      "Epoch 28/50\n",
      "\u001b[1m121/121\u001b[0m \u001b[32m━━━━━━━━━━━━━━━━━━━━\u001b[0m\u001b[37m\u001b[0m \u001b[1m81s\u001b[0m 668ms/step - loss: 0.0036 - mae: 0.0361 - val_loss: 0.0037 - val_mae: 0.0303\n",
      "Epoch 29/50\n",
      "\u001b[1m121/121\u001b[0m \u001b[32m━━━━━━━━━━━━━━━━━━━━\u001b[0m\u001b[37m\u001b[0m \u001b[1m81s\u001b[0m 667ms/step - loss: 0.0032 - mae: 0.0342 - val_loss: 0.0037 - val_mae: 0.0319\n",
      "Epoch 30/50\n",
      "\u001b[1m121/121\u001b[0m \u001b[32m━━━━━━━━━━━━━━━━━━━━\u001b[0m\u001b[37m\u001b[0m \u001b[1m81s\u001b[0m 667ms/step - loss: 0.0030 - mae: 0.0347 - val_loss: 0.0052 - val_mae: 0.0494\n",
      "Epoch 31/50\n",
      "\u001b[1m121/121\u001b[0m \u001b[32m━━━━━━━━━━━━━━━━━━━━\u001b[0m\u001b[37m\u001b[0m \u001b[1m80s\u001b[0m 666ms/step - loss: 0.0035 - mae: 0.0349 - val_loss: 0.0034 - val_mae: 0.0299\n",
      "Epoch 32/50\n",
      "\u001b[1m121/121\u001b[0m \u001b[32m━━━━━━━━━━━━━━━━━━━━\u001b[0m\u001b[37m\u001b[0m \u001b[1m80s\u001b[0m 664ms/step - loss: 0.0029 - mae: 0.0331 - val_loss: 0.0057 - val_mae: 0.0534\n",
      "Epoch 33/50\n",
      "\u001b[1m121/121\u001b[0m \u001b[32m━━━━━━━━━━━━━━━━━━━━\u001b[0m\u001b[37m\u001b[0m \u001b[1m80s\u001b[0m 661ms/step - loss: 0.0035 - mae: 0.0350 - val_loss: 0.0036 - val_mae: 0.0300\n",
      "Epoch 34/50\n",
      "\u001b[1m121/121\u001b[0m \u001b[32m━━━━━━━━━━━━━━━━━━━━\u001b[0m\u001b[37m\u001b[0m \u001b[1m80s\u001b[0m 661ms/step - loss: 0.0029 - mae: 0.0331 - val_loss: 0.0040 - val_mae: 0.0370\n",
      "Epoch 35/50\n",
      "\u001b[1m121/121\u001b[0m \u001b[32m━━━━━━━━━━━━━━━━━━━━\u001b[0m\u001b[37m\u001b[0m \u001b[1m80s\u001b[0m 666ms/step - loss: 0.0034 - mae: 0.0356 - val_loss: 0.0033 - val_mae: 0.0295\n",
      "Epoch 36/50\n",
      "\u001b[1m121/121\u001b[0m \u001b[32m━━━━━━━━━━━━━━━━━━━━\u001b[0m\u001b[37m\u001b[0m \u001b[1m81s\u001b[0m 669ms/step - loss: 0.0032 - mae: 0.0333 - val_loss: 0.0049 - val_mae: 0.0449\n",
      "Epoch 37/50\n",
      "\u001b[1m121/121\u001b[0m \u001b[32m━━━━━━━━━━━━━━━━━━━━\u001b[0m\u001b[37m\u001b[0m \u001b[1m80s\u001b[0m 666ms/step - loss: 0.0033 - mae: 0.0346 - val_loss: 0.0047 - val_mae: 0.0460\n",
      "Epoch 38/50\n",
      "\u001b[1m121/121\u001b[0m \u001b[32m━━━━━━━━━━━━━━━━━━━━\u001b[0m\u001b[37m\u001b[0m \u001b[1m80s\u001b[0m 664ms/step - loss: 0.0027 - mae: 0.0324 - val_loss: 0.0044 - val_mae: 0.0414\n",
      "Epoch 39/50\n",
      "\u001b[1m121/121\u001b[0m \u001b[32m━━━━━━━━━━━━━━━━━━━━\u001b[0m\u001b[37m\u001b[0m \u001b[1m81s\u001b[0m 666ms/step - loss: 0.0031 - mae: 0.0327 - val_loss: 0.0039 - val_mae: 0.0345\n",
      "Epoch 40/50\n",
      "\u001b[1m121/121\u001b[0m \u001b[32m━━━━━━━━━━━━━━━━━━━━\u001b[0m\u001b[37m\u001b[0m \u001b[1m80s\u001b[0m 665ms/step - loss: 0.0029 - mae: 0.0327 - val_loss: 0.0055 - val_mae: 0.0517\n",
      "Epoch 41/50\n",
      "\u001b[1m121/121\u001b[0m \u001b[32m━━━━━━━━━━━━━━━━━━━━\u001b[0m\u001b[37m\u001b[0m \u001b[1m80s\u001b[0m 666ms/step - loss: 0.0028 - mae: 0.0324 - val_loss: 0.0036 - val_mae: 0.0340\n",
      "Epoch 42/50\n",
      "\u001b[1m121/121\u001b[0m \u001b[32m━━━━━━━━━━━━━━━━━━━━\u001b[0m\u001b[37m\u001b[0m \u001b[1m80s\u001b[0m 666ms/step - loss: 0.0033 - mae: 0.0339 - val_loss: 0.0034 - val_mae: 0.0326\n",
      "Epoch 43/50\n",
      "\u001b[1m121/121\u001b[0m \u001b[32m━━━━━━━━━━━━━━━━━━━━\u001b[0m\u001b[37m\u001b[0m \u001b[1m80s\u001b[0m 666ms/step - loss: 0.0032 - mae: 0.0352 - val_loss: 0.0028 - val_mae: 0.0254\n",
      "Epoch 44/50\n",
      "\u001b[1m121/121\u001b[0m \u001b[32m━━━━━━━━━━━━━━━━━━━━\u001b[0m\u001b[37m\u001b[0m \u001b[1m80s\u001b[0m 665ms/step - loss: 0.0035 - mae: 0.0380 - val_loss: 0.0031 - val_mae: 0.0282\n",
      "Epoch 45/50\n",
      "\u001b[1m121/121\u001b[0m \u001b[32m━━━━━━━━━━━━━━━━━━━━\u001b[0m\u001b[37m\u001b[0m \u001b[1m80s\u001b[0m 665ms/step - loss: 0.0033 - mae: 0.0340 - val_loss: 0.0036 - val_mae: 0.0369\n",
      "Epoch 46/50\n",
      "\u001b[1m121/121\u001b[0m \u001b[32m━━━━━━━━━━━━━━━━━━━━\u001b[0m\u001b[37m\u001b[0m \u001b[1m80s\u001b[0m 665ms/step - loss: 0.0028 - mae: 0.0320 - val_loss: 0.0049 - val_mae: 0.0506\n",
      "Epoch 47/50\n",
      "\u001b[1m121/121\u001b[0m \u001b[32m━━━━━━━━━━━━━━━━━━━━\u001b[0m\u001b[37m\u001b[0m \u001b[1m80s\u001b[0m 664ms/step - loss: 0.0033 - mae: 0.0346 - val_loss: 0.0038 - val_mae: 0.0380\n",
      "Epoch 48/50\n",
      "\u001b[1m121/121\u001b[0m \u001b[32m━━━━━━━━━━━━━━━━━━━━\u001b[0m\u001b[37m\u001b[0m \u001b[1m80s\u001b[0m 664ms/step - loss: 0.0032 - mae: 0.0334 - val_loss: 0.0031 - val_mae: 0.0304\n",
      "Epoch 49/50\n",
      "\u001b[1m121/121\u001b[0m \u001b[32m━━━━━━━━━━━━━━━━━━━━\u001b[0m\u001b[37m\u001b[0m \u001b[1m80s\u001b[0m 666ms/step - loss: 0.0030 - mae: 0.0331 - val_loss: 0.0025 - val_mae: 0.0227\n",
      "Epoch 50/50\n",
      "\u001b[1m121/121\u001b[0m \u001b[32m━━━━━━━━━━━━━━━━━━━━\u001b[0m\u001b[37m\u001b[0m \u001b[1m80s\u001b[0m 665ms/step - loss: 0.0030 - mae: 0.0326 - val_loss: 0.0030 - val_mae: 0.0311\n"
     ]
    },
    {
     "data": {
      "text/plain": [
       "<keras.src.callbacks.history.History at 0x7d52d8e13fb0>"
      ]
     },
     "execution_count": 9,
     "metadata": {},
     "output_type": "execute_result"
    }
   ],
   "source": [
    "\n",
    "\n",
    "# Submodelo para imágenes (CNN con VGG16 preentrenado)\n",
    "vgg16 = VGG16(include_top=False, input_shape=(64, 64, 3))\n",
    "for layer in vgg16.layers:\n",
    "    layer.trainable = False  # Congela las capas preentrenadas\n",
    "\n",
    "cnn_model = tf.keras.Sequential([\n",
    "    vgg16,\n",
    "    GlobalAveragePooling2D(),\n",
    "    Dense(128, activation='relu'),\n",
    "    Dropout(study.best_params['dropout_rate'])\n",
    "    ])\n",
    "\n",
    "image_input = Input(shape=(time_steps, 64, 64, 3))\n",
    "processed_images = TimeDistributed(cnn_model)(image_input)\n",
    "\n",
    "# Submodelo LSTM\n",
    "lstm_out = LSTM(study.best_params['lstm_units_cnn'], return_sequences=False)(processed_images)\n",
    "\n",
    "# Submodelo para características auxiliares\n",
    "aux_input = Input(shape=(time_steps, X_aux_features_train.shape[1]))\n",
    "lstm_aux_out = LSTM(study.best_params['lstm_units_aux'], return_sequences=False)(aux_input)\n",
    "\n",
    "# Combinar salidas de CNN-LSTM y LSTM auxiliar\n",
    "combined = Concatenate()([lstm_out, lstm_aux_out])\n",
    "\n",
    "# Capas densas finales\n",
    "dense_out = Dense(study.best_params['dense_units'], activation='relu')(combined)\n",
    "dense_out = Dropout(study.best_params['dropout_rate'])(dense_out)\n",
    "final_output = Dense(1, activation='linear')(dense_out)\n",
    "\n",
    "# Modelo completo\n",
    "model = Model(inputs=[image_input, aux_input], outputs=final_output)\n",
    "model.compile(optimizer='adam', loss='mse', metrics=['mae'])\n",
    "\n",
    "# Entrenar el modelo final\n",
    "model.fit([X_images_train_seq, X_aux_train_seq], y_train_seq, epochs=50, batch_size=32, validation_split=0.2)"
   ]
  },
  {
   "cell_type": "code",
   "execution_count": 15,
   "metadata": {},
   "outputs": [
    {
     "name": "stdout",
     "output_type": "stream",
     "text": [
      "Imagen no encontrada: None, usando la última imagen válida.\n"
     ]
    },
    {
     "name": "stderr",
     "output_type": "stream",
     "text": [
      "[ WARN:0@33607.117] global loadsave.cpp:241 findDecoder imread_(''): can't open/read file: check file path/integrity\n"
     ]
    },
    {
     "name": "stdout",
     "output_type": "stream",
     "text": [
      "doy_sin_train shape: (1227, 1)\n",
      "doy_cos_train shape: (1227, 1)\n",
      "hour_sin_train shape: (1227, 1)\n",
      "hour_cos_train shape: (1227, 1)\n",
      "fourier_features_train shape: 1227\n",
      "\u001b[1m38/38\u001b[0m \u001b[32m━━━━━━━━━━━━━━━━━━━━\u001b[0m\u001b[37m\u001b[0m \u001b[1m22s\u001b[0m 566ms/step\n",
      "MAE en el conjunto de prueba: 0.12720030670822285\n",
      "RMSE en el conjunto de prueba: 0.15836851784620726\n"
     ]
    },
    {
     "data": {
      "image/png": "[encoded data removed]",
      "text/plain": [
       "<Figure size 1000x600 with 1 Axes>"
      ]
     },
     "metadata": {},
     "output_type": "display_data"
    }
   ],
   "source": [
    "# Probar el modelo\n",
    "# Preparar el conjunto de prueba\n",
    "fecha_inicio_prueba = '2023-04-15 05:00:00'  # Fecha de inicio de prueba\n",
    "fecha_fin_prueba = '2023-04-29 18:00:00'  # Fecha de fin de prueba\n",
    "\n",
    "# Filtrar el DataFrame por el rango de prueba\n",
    "df_prueba = df[(df['Timestamp'] >= fecha_inicio_prueba) & (df['Timestamp'] <= fecha_fin_prueba)]\n",
    "\n",
    "# Cargar imágenes y valores GHI para el conjunto de prueba\n",
    "X_images_test, y_ghi_test, scaler_test, doy_sin_test, doy_cos_test, hour_sin_train,hour_cos_train, fourier_features_train = load_images_and_ghi(df_prueba, image_folder)\n",
    "\n",
    "# Concatenar DOY sin y cos con las imágenes de prueba\n",
    "X_aux_features_test = np.concatenate([doy_sin_test, doy_cos_test,hour_sin_train,hour_cos_train,fourier_features_train], axis=1)\n",
    "\n",
    "# Crear las secuencias de prueba con time_steps = 6\n",
    "X_images_test_seq, X_aux_test_seq, y_test_seq = create_sequences(X_images_test, X_aux_features_test, y_ghi_test, time_steps)\n",
    "\n",
    "# Hacer predicciones\n",
    "y_pred = model.predict([X_images_test_seq, X_aux_test_seq])\n",
    "\n",
    "# Invertir la normalización para GHI\n",
    "y_test_seq_inversed = scaler_test.inverse_transform(y_test_seq)\n",
    "y_pred_inversed = scaler_test.inverse_transform(y_pred)\n",
    "\n",
    "# Evaluar el modelo\n",
    "from sklearn.metrics import mean_absolute_error, mean_squared_error\n",
    "\n",
    "mae = mean_absolute_error(y_test_seq_inversed, y_pred_inversed)\n",
    "rmse = np.sqrt(mean_squared_error(y_test_seq_inversed, y_pred_inversed))\n",
    "\n",
    "print(f'MAE en el conjunto de prueba: {mae}')\n",
    "print(f'RMSE en el conjunto de prueba: {rmse}')\n",
    "\n",
    "# Visualizar algunas predicciones\n",
    "plt.figure(figsize=(10, 6))\n",
    "plt.plot(y_test_seq_inversed, label='Valores reales')\n",
    "plt.plot(y_pred_inversed, label='Predicciones', alpha=0.7)\n",
    "plt.xlabel('Tiempo')\n",
    "plt.ylabel('GHI')\n",
    "plt.legend()\n",
    "plt.show()"
   ]
  },
  {
   "cell_type": "code",
   "execution_count": 16,
   "metadata": {},
   "outputs": [
    {
     "data": {
      "application/vnd.plotly.v1+json": {
       "config": {
        "plotlyServerURL": "https://plot.ly"
       },
       "data": [
        {
         "mode": "markers",
         "name": "Objective Value",
         "type": "scatter",
         "x": [
          0,
          1,
          2,
          3,
          4,
          5,
          6,
          7,
          8,
          9,
          10,
          11,
          12,
          13,
          14,
          15,
          16,
          17,
          18,
          19,
          20,
          21,
          22,
          23,
          24,
          25,
          26,
          27,
          28,
          29,
          30,
          31,
          32
         ],
         "y": [
          0.008741602301597595,
          0.004021277651190758,
          0.004935587756335735,
          0.007467654999345541,
          0.0048756953328847885,
          0.0061447517946362495,
          0.004103752784430981,
          0.004996525123715401,
          0.00441867345944047,
          0.008737978525459766,
          0.005075215362012386,
          0.0050672078505158424,
          0.00546236103400588,
          0.004314641933888197,
          0.005920433439314365,
          0.005267915315926075,
          0.004506107419729233,
          0.004137727897614241,
          0.0054491059854626656,
          0.005793561227619648,
          0.0038060382939875126,
          0.008018573746085167,
          0.006557984743267298,
          0.004619700368493795,
          0.00414405670017004,
          0.004882161971181631,
          0.0041990806348621845,
          0.005613109562546015,
          0.0047499677166342735,
          0.006162660196423531,
          0.004252525977790356,
          0.0048086573369801044,
          0.00569969043135643
         ]
        },
        {
         "mode": "lines",
         "name": "Best Value",
         "type": "scatter",
         "x": [
          0,
          1,
          2,
          3,
          4,
          5,
          6,
          7,
          8,
          9,
          10,
          11,
          12,
          13,
          14,
          15,
          16,
          17,
          18,
          19,
          20,
          21,
          22,
          23,
          24,
          25,
          26,
          27,
          28,
          29,
          30,
          31,
          32,
          33
         ],
         "y": [
          0.008741602301597595,
          0.004021277651190758,
          0.004021277651190758,
          0.004021277651190758,
          0.004021277651190758,
          0.004021277651190758,
          0.004021277651190758,
          0.004021277651190758,
          0.004021277651190758,
          0.004021277651190758,
          0.004021277651190758,
          0.004021277651190758,
          0.004021277651190758,
          0.004021277651190758,
          0.004021277651190758,
          0.004021277651190758,
          0.004021277651190758,
          0.004021277651190758,
          0.004021277651190758,
          0.004021277651190758,
          0.0038060382939875126,
          0.0038060382939875126,
          0.0038060382939875126,
          0.0038060382939875126,
          0.0038060382939875126,
          0.0038060382939875126,
          0.0038060382939875126,
          0.0038060382939875126,
          0.0038060382939875126,
          0.0038060382939875126,
          0.0038060382939875126,
          0.0038060382939875126,
          0.0038060382939875126,
          0.0038060382939875126
         ]
        },
        {
         "marker": {
          "color": "#cccccc"
         },
         "mode": "markers",
         "name": "Infeasible Trial",
         "showlegend": false,
         "type": "scatter",
         "x": [],
         "y": []
        }
       ],
       "layout": {
        "template": {
         "data": {
          "bar": [
           {
            "error_x": {
             "color": "#2a3f5f"
            },
            "error_y": {
             "color": "#2a3f5f"
            },
            "marker": {
             "line": {
              "color": "#E5ECF6",
              "width": 0.5
             },
             "pattern": {
              "fillmode": "overlay",
              "size": 10,
              "solidity": 0.2
             }
            },
            "type": "bar"
           }
          ],
          "barpolar": [
           {
            "marker": {
             "line": {
              "color": "#E5ECF6",
              "width": 0.5
             },
             "pattern": {
              "fillmode": "overlay",
              "size": 10,
              "solidity": 0.2
             }
            },
            "type": "barpolar"
           }
          ],
          "carpet": [
           {
            "aaxis": {
             "endlinecolor": "#2a3f5f",
             "gridcolor": "white",
             "linecolor": "white",
             "minorgridcolor": "white",
             "startlinecolor": "#2a3f5f"
            },
            "baxis": {
             "endlinecolor": "#2a3f5f",
             "gridcolor": "white",
             "linecolor": "white",
             "minorgridcolor": "white",
             "startlinecolor": "#2a3f5f"
            },
            "type": "carpet"
           }
          ],
          "choropleth": [
           {
            "colorbar": {
             "outlinewidth": 0,
             "ticks": ""
            },
            "type": "choropleth"
           }
          ],
          "contour": [
           {
            "colorbar": {
             "outlinewidth": 0,
             "ticks": ""
            },
            "colorscale": [
             [
              0,
              "#0d0887"
             ],
             [
              0.1111111111111111,
              "#46039f"
             ],
             [
              0.2222222222222222,
              "#7201a8"
             ],
             [
              0.3333333333333333,
              "#9c179e"
             ],
             [
              0.4444444444444444,
              "#bd3786"
             ],
             [
              0.5555555555555556,
              "#d8576b"
             ],
             [
              0.6666666666666666,
              "#ed7953"
             ],
             [
              0.7777777777777778,
              "#fb9f3a"
             ],
             [
              0.8888888888888888,
              "#fdca26"
             ],
             [
              1,
              "#f0f921"
             ]
            ],
            "type": "contour"
           }
          ],
          "contourcarpet": [
           {
            "colorbar": {
             "outlinewidth": 0,
             "ticks": ""
            },
            "type": "contourcarpet"
           }
          ],
          "heatmap": [
           {
            "colorbar": {
             "outlinewidth": 0,
             "ticks": ""
            },
            "colorscale": [
             [
              0,
              "#0d0887"
             ],
             [
              0.1111111111111111,
              "#46039f"
             ],
             [
              0.2222222222222222,
              "#7201a8"
             ],
             [
              0.3333333333333333,
              "#9c179e"
             ],
             [
              0.4444444444444444,
              "#bd3786"
             ],
             [
              0.5555555555555556,
              "#d8576b"
             ],
             [
              0.6666666666666666,
              "#ed7953"
             ],
             [
              0.7777777777777778,
              "#fb9f3a"
             ],
             [
              0.8888888888888888,
              "#fdca26"
             ],
             [
              1,
              "#f0f921"
             ]
            ],
            "type": "heatmap"
           }
          ],
          "heatmapgl": [
           {
            "colorbar": {
             "outlinewidth": 0,
             "ticks": ""
            },
            "colorscale": [
             [
              0,
              "#0d0887"
             ],
             [
              0.1111111111111111,
              "#46039f"
             ],
             [
              0.2222222222222222,
              "#7201a8"
             ],
             [
              0.3333333333333333,
              "#9c179e"
             ],
             [
              0.4444444444444444,
              "#bd3786"
             ],
             [
              0.5555555555555556,
              "#d8576b"
             ],
             [
              0.6666666666666666,
              "#ed7953"
             ],
             [
              0.7777777777777778,
              "#fb9f3a"
             ],
             [
              0.8888888888888888,
              "#fdca26"
             ],
             [
              1,
              "#f0f921"
             ]
            ],
            "type": "heatmapgl"
           }
          ],
          "histogram": [
           {
            "marker": {
             "pattern": {
              "fillmode": "overlay",
              "size": 10,
              "solidity": 0.2
             }
            },
            "type": "histogram"
           }
          ],
          "histogram2d": [
           {
            "colorbar": {
             "outlinewidth": 0,
             "ticks": ""
            },
            "colorscale": [
             [
              0,
              "#0d0887"
             ],
             [
              0.1111111111111111,
              "#46039f"
             ],
             [
              0.2222222222222222,
              "#7201a8"
             ],
             [
              0.3333333333333333,
              "#9c179e"
             ],
             [
              0.4444444444444444,
              "#bd3786"
             ],
             [
              0.5555555555555556,
              "#d8576b"
             ],
             [
              0.6666666666666666,
              "#ed7953"
             ],
             [
              0.7777777777777778,
              "#fb9f3a"
             ],
             [
              0.8888888888888888,
              "#fdca26"
             ],
             [
              1,
              "#f0f921"
             ]
            ],
            "type": "histogram2d"
           }
          ],
          "histogram2dcontour": [
           {
            "colorbar": {
             "outlinewidth": 0,
             "ticks": ""
            },
            "colorscale": [
             [
              0,
              "#0d0887"
             ],
             [
              0.1111111111111111,
              "#46039f"
             ],
             [
              0.2222222222222222,
              "#7201a8"
             ],
             [
              0.3333333333333333,
              "#9c179e"
             ],
             [
              0.4444444444444444,
              "#bd3786"
             ],
             [
              0.5555555555555556,
              "#d8576b"
             ],
             [
              0.6666666666666666,
              "#ed7953"
             ],
             [
              0.7777777777777778,
              "#fb9f3a"
             ],
             [
              0.8888888888888888,
              "#fdca26"
             ],
             [
              1,
              "#f0f921"
             ]
            ],
            "type": "histogram2dcontour"
           }
          ],
          "mesh3d": [
           {
            "colorbar": {
             "outlinewidth": 0,
             "ticks": ""
            },
            "type": "mesh3d"
           }
          ],
          "parcoords": [
           {
            "line": {
             "colorbar": {
              "outlinewidth": 0,
              "ticks": ""
             }
            },
            "type": "parcoords"
           }
          ],
          "pie": [
           {
            "automargin": true,
            "type": "pie"
           }
          ],
          "scatter": [
           {
            "fillpattern": {
             "fillmode": "overlay",
             "size": 10,
             "solidity": 0.2
            },
            "type": "scatter"
           }
          ],
          "scatter3d": [
           {
            "line": {
             "colorbar": {
              "outlinewidth": 0,
              "ticks": ""
             }
            },
            "marker": {
             "colorbar": {
              "outlinewidth": 0,
              "ticks": ""
             }
            },
            "type": "scatter3d"
           }
          ],
          "scattercarpet": [
           {
            "marker": {
             "colorbar": {
              "outlinewidth": 0,
              "ticks": ""
             }
            },
            "type": "scattercarpet"
           }
          ],
          "scattergeo": [
           {
            "marker": {
             "colorbar": {
              "outlinewidth": 0,
              "ticks": ""
             }
            },
            "type": "scattergeo"
           }
          ],
          "scattergl": [
           {
            "marker": {
             "colorbar": {
              "outlinewidth": 0,
              "ticks": ""
             }
            },
            "type": "scattergl"
           }
          ],
          "scattermapbox": [
           {
            "marker": {
             "colorbar": {
              "outlinewidth": 0,
              "ticks": ""
             }
            },
            "type": "scattermapbox"
           }
          ],
          "scatterpolar": [
           {
            "marker": {
             "colorbar": {
              "outlinewidth": 0,
              "ticks": ""
             }
            },
            "type": "scatterpolar"
           }
          ],
          "scatterpolargl": [
           {
            "marker": {
             "colorbar": {
              "outlinewidth": 0,
              "ticks": ""
             }
            },
            "type": "scatterpolargl"
           }
          ],
          "scatterternary": [
           {
            "marker": {
             "colorbar": {
              "outlinewidth": 0,
              "ticks": ""
             }
            },
            "type": "scatterternary"
           }
          ],
          "surface": [
           {
            "colorbar": {
             "outlinewidth": 0,
             "ticks": ""
            },
            "colorscale": [
             [
              0,
              "#0d0887"
             ],
             [
              0.1111111111111111,
              "#46039f"
             ],
             [
              0.2222222222222222,
              "#7201a8"
             ],
             [
              0.3333333333333333,
              "#9c179e"
             ],
             [
              0.4444444444444444,
              "#bd3786"
             ],
             [
              0.5555555555555556,
              "#d8576b"
             ],
             [
              0.6666666666666666,
              "#ed7953"
             ],
             [
              0.7777777777777778,
              "#fb9f3a"
             ],
             [
              0.8888888888888888,
              "#fdca26"
             ],
             [
              1,
              "#f0f921"
             ]
            ],
            "type": "surface"
           }
          ],
          "table": [
           {
            "cells": {
             "fill": {
              "color": "#EBF0F8"
             },
             "line": {
              "color": "white"
             }
            },
            "header": {
             "fill": {
              "color": "#C8D4E3"
             },
             "line": {
              "color": "white"
             }
            },
            "type": "table"
           }
          ]
         },
         "layout": {
          "annotationdefaults": {
           "arrowcolor": "#2a3f5f",
           "arrowhead": 0,
           "arrowwidth": 1
          },
          "autotypenumbers": "strict",
          "coloraxis": {
           "colorbar": {
            "outlinewidth": 0,
            "ticks": ""
           }
          },
          "colorscale": {
           "diverging": [
            [
             0,
             "#8e0152"
            ],
            [
             0.1,
             "#c51b7d"
            ],
            [
             0.2,
             "#de77ae"
            ],
            [
             0.3,
             "#f1b6da"
            ],
            [
             0.4,
             "#fde0ef"
            ],
            [
             0.5,
             "#f7f7f7"
            ],
            [
             0.6,
             "#e6f5d0"
            ],
            [
             0.7,
             "#b8e186"
            ],
            [
             0.8,
             "#7fbc41"
            ],
            [
             0.9,
             "#4d9221"
            ],
            [
             1,
             "#276419"
            ]
           ],
           "sequential": [
            [
             0,
             "#0d0887"
            ],
            [
             0.1111111111111111,
             "#46039f"
            ],
            [
             0.2222222222222222,
             "#7201a8"
            ],
            [
             0.3333333333333333,
             "#9c179e"
            ],
            [
             0.4444444444444444,
             "#bd3786"
            ],
            [
             0.5555555555555556,
             "#d8576b"
            ],
            [
             0.6666666666666666,
             "#ed7953"
            ],
            [
             0.7777777777777778,
             "#fb9f3a"
            ],
            [
             0.8888888888888888,
             "#fdca26"
            ],
            [
             1,
             "#f0f921"
            ]
           ],
           "sequentialminus": [
            [
             0,
             "#0d0887"
            ],
            [
             0.1111111111111111,
             "#46039f"
            ],
            [
             0.2222222222222222,
             "#7201a8"
            ],
            [
             0.3333333333333333,
             "#9c179e"
            ],
            [
             0.4444444444444444,
             "#bd3786"
            ],
            [
             0.5555555555555556,
             "#d8576b"
            ],
            [
             0.6666666666666666,
             "#ed7953"
            ],
            [
             0.7777777777777778,
             "#fb9f3a"
            ],
            [
             0.8888888888888888,
             "#fdca26"
            ],
            [
             1,
             "#f0f921"
            ]
           ]
          },
          "colorway": [
           "#636efa",
           "#EF553B",
           "#00cc96",
           "#ab63fa",
           "#FFA15A",
           "#19d3f3",
           "#FF6692",
           "#B6E880",
           "#FF97FF",
           "#FECB52"
          ],
          "font": {
           "color": "#2a3f5f"
          },
          "geo": {
           "bgcolor": "white",
           "lakecolor": "white",
           "landcolor": "#E5ECF6",
           "showlakes": true,
           "showland": true,
           "subunitcolor": "white"
          },
          "hoverlabel": {
           "align": "left"
          },
          "hovermode": "closest",
          "mapbox": {
           "style": "light"
          },
          "paper_bgcolor": "white",
          "plot_bgcolor": "#E5ECF6",
          "polar": {
           "angularaxis": {
            "gridcolor": "white",
            "linecolor": "white",
            "ticks": ""
           },
           "bgcolor": "#E5ECF6",
           "radialaxis": {
            "gridcolor": "white",
            "linecolor": "white",
            "ticks": ""
           }
          },
          "scene": {
           "xaxis": {
            "backgroundcolor": "#E5ECF6",
            "gridcolor": "white",
            "gridwidth": 2,
            "linecolor": "white",
            "showbackground": true,
            "ticks": "",
            "zerolinecolor": "white"
           },
           "yaxis": {
            "backgroundcolor": "#E5ECF6",
            "gridcolor": "white",
            "gridwidth": 2,
            "linecolor": "white",
            "showbackground": true,
            "ticks": "",
            "zerolinecolor": "white"
           },
           "zaxis": {
            "backgroundcolor": "#E5ECF6",
            "gridcolor": "white",
            "gridwidth": 2,
            "linecolor": "white",
            "showbackground": true,
            "ticks": "",
            "zerolinecolor": "white"
           }
          },
          "shapedefaults": {
           "line": {
            "color": "#2a3f5f"
           }
          },
          "ternary": {
           "aaxis": {
            "gridcolor": "white",
            "linecolor": "white",
            "ticks": ""
           },
           "baxis": {
            "gridcolor": "white",
            "linecolor": "white",
            "ticks": ""
           },
           "bgcolor": "#E5ECF6",
           "caxis": {
            "gridcolor": "white",
            "linecolor": "white",
            "ticks": ""
           }
          },
          "title": {
           "x": 0.05
          },
          "xaxis": {
           "automargin": true,
           "gridcolor": "white",
           "linecolor": "white",
           "ticks": "",
           "title": {
            "standoff": 15
           },
           "zerolinecolor": "white",
           "zerolinewidth": 2
          },
          "yaxis": {
           "automargin": true,
           "gridcolor": "white",
           "linecolor": "white",
           "ticks": "",
           "title": {
            "standoff": 15
           },
           "zerolinecolor": "white",
           "zerolinewidth": 2
          }
         }
        },
        "title": {
         "text": "Optimization History Plot"
        },
        "xaxis": {
         "title": {
          "text": "Trial"
         }
        },
        "yaxis": {
         "title": {
          "text": "Objective Value"
         }
        }
       }
      }
     },
     "metadata": {},
     "output_type": "display_data"
    }
   ],
   "source": [
    "import optuna.visualization as vis\n",
    "\n",
    "# Graficar el historial de optimización\n",
    "fig_optimization_history = vis.plot_optimization_history(study)\n",
    "fig_optimization_history.show()"
   ]
  },
  {
   "cell_type": "code",
   "execution_count": 17,
   "metadata": {},
   "outputs": [
    {
     "data": {
      "application/vnd.plotly.v1+json": {
       "config": {
        "plotlyServerURL": "https://plot.ly"
       },
       "data": [
        {
         "cliponaxis": false,
         "hovertemplate": [
          "dropout_rate (FloatDistribution): 0.03900204530438241<extra></extra>",
          "lstm_units_cnn (IntDistribution): 0.19506290399063275<extra></extra>",
          "lstm_units_aux (IntDistribution): 0.33305711453720793<extra></extra>",
          "dense_units (IntDistribution): 0.4328779361677768<extra></extra>"
         ],
         "name": "Objective Value",
         "orientation": "h",
         "text": [
          "0.04",
          "0.20",
          "0.33",
          "0.43"
         ],
         "textposition": "outside",
         "type": "bar",
         "x": [
          0.03900204530438241,
          0.19506290399063275,
          0.33305711453720793,
          0.4328779361677768
         ],
         "y": [
          "dropout_rate",
          "lstm_units_cnn",
          "lstm_units_aux",
          "dense_units"
         ]
        }
       ],
       "layout": {
        "template": {
         "data": {
          "bar": [
           {
            "error_x": {
             "color": "#2a3f5f"
            },
            "error_y": {
             "color": "#2a3f5f"
            },
            "marker": {
             "line": {
              "color": "#E5ECF6",
              "width": 0.5
             },
             "pattern": {
              "fillmode": "overlay",
              "size": 10,
              "solidity": 0.2
             }
            },
            "type": "bar"
           }
          ],
          "barpolar": [
           {
            "marker": {
             "line": {
              "color": "#E5ECF6",
              "width": 0.5
             },
             "pattern": {
              "fillmode": "overlay",
              "size": 10,
              "solidity": 0.2
             }
            },
            "type": "barpolar"
           }
          ],
          "carpet": [
           {
            "aaxis": {
             "endlinecolor": "#2a3f5f",
             "gridcolor": "white",
             "linecolor": "white",
             "minorgridcolor": "white",
             "startlinecolor": "#2a3f5f"
            },
            "baxis": {
             "endlinecolor": "#2a3f5f",
             "gridcolor": "white",
             "linecolor": "white",
             "minorgridcolor": "white",
             "startlinecolor": "#2a3f5f"
            },
            "type": "carpet"
           }
          ],
          "choropleth": [
           {
            "colorbar": {
             "outlinewidth": 0,
             "ticks": ""
            },
            "type": "choropleth"
           }
          ],
          "contour": [
           {
            "colorbar": {
             "outlinewidth": 0,
             "ticks": ""
            },
            "colorscale": [
             [
              0,
              "#0d0887"
             ],
             [
              0.1111111111111111,
              "#46039f"
             ],
             [
              0.2222222222222222,
              "#7201a8"
             ],
             [
              0.3333333333333333,
              "#9c179e"
             ],
             [
              0.4444444444444444,
              "#bd3786"
             ],
             [
              0.5555555555555556,
              "#d8576b"
             ],
             [
              0.6666666666666666,
              "#ed7953"
             ],
             [
              0.7777777777777778,
              "#fb9f3a"
             ],
             [
              0.8888888888888888,
              "#fdca26"
             ],
             [
              1,
              "#f0f921"
             ]
            ],
            "type": "contour"
           }
          ],
          "contourcarpet": [
           {
            "colorbar": {
             "outlinewidth": 0,
             "ticks": ""
            },
            "type": "contourcarpet"
           }
          ],
          "heatmap": [
           {
            "colorbar": {
             "outlinewidth": 0,
             "ticks": ""
            },
            "colorscale": [
             [
              0,
              "#0d0887"
             ],
             [
              0.1111111111111111,
              "#46039f"
             ],
             [
              0.2222222222222222,
              "#7201a8"
             ],
             [
              0.3333333333333333,
              "#9c179e"
             ],
             [
              0.4444444444444444,
              "#bd3786"
             ],
             [
              0.5555555555555556,
              "#d8576b"
             ],
             [
              0.6666666666666666,
              "#ed7953"
             ],
             [
              0.7777777777777778,
              "#fb9f3a"
             ],
             [
              0.8888888888888888,
              "#fdca26"
             ],
             [
              1,
              "#f0f921"
             ]
            ],
            "type": "heatmap"
           }
          ],
          "heatmapgl": [
           {
            "colorbar": {
             "outlinewidth": 0,
             "ticks": ""
            },
            "colorscale": [
             [
              0,
              "#0d0887"
             ],
             [
              0.1111111111111111,
              "#46039f"
             ],
             [
              0.2222222222222222,
              "#7201a8"
             ],
             [
              0.3333333333333333,
              "#9c179e"
             ],
             [
              0.4444444444444444,
              "#bd3786"
             ],
             [
              0.5555555555555556,
              "#d8576b"
             ],
             [
              0.6666666666666666,
              "#ed7953"
             ],
             [
              0.7777777777777778,
              "#fb9f3a"
             ],
             [
              0.8888888888888888,
              "#fdca26"
             ],
             [
              1,
              "#f0f921"
             ]
            ],
            "type": "heatmapgl"
           }
          ],
          "histogram": [
           {
            "marker": {
             "pattern": {
              "fillmode": "overlay",
              "size": 10,
              "solidity": 0.2
             }
            },
            "type": "histogram"
           }
          ],
          "histogram2d": [
           {
            "colorbar": {
             "outlinewidth": 0,
             "ticks": ""
            },
            "colorscale": [
             [
              0,
              "#0d0887"
             ],
             [
              0.1111111111111111,
              "#46039f"
             ],
             [
              0.2222222222222222,
              "#7201a8"
             ],
             [
              0.3333333333333333,
              "#9c179e"
             ],
             [
              0.4444444444444444,
              "#bd3786"
             ],
             [
              0.5555555555555556,
              "#d8576b"
             ],
             [
              0.6666666666666666,
              "#ed7953"
             ],
             [
              0.7777777777777778,
              "#fb9f3a"
             ],
             [
              0.8888888888888888,
              "#fdca26"
             ],
             [
              1,
              "#f0f921"
             ]
            ],
            "type": "histogram2d"
           }
          ],
          "histogram2dcontour": [
           {
            "colorbar": {
             "outlinewidth": 0,
             "ticks": ""
            },
            "colorscale": [
             [
              0,
              "#0d0887"
             ],
             [
              0.1111111111111111,
              "#46039f"
             ],
             [
              0.2222222222222222,
              "#7201a8"
             ],
             [
              0.3333333333333333,
              "#9c179e"
             ],
             [
              0.4444444444444444,
              "#bd3786"
             ],
             [
              0.5555555555555556,
              "#d8576b"
             ],
             [
              0.6666666666666666,
              "#ed7953"
             ],
             [
              0.7777777777777778,
              "#fb9f3a"
             ],
             [
              0.8888888888888888,
              "#fdca26"
             ],
             [
              1,
              "#f0f921"
             ]
            ],
            "type": "histogram2dcontour"
           }
          ],
          "mesh3d": [
           {
            "colorbar": {
             "outlinewidth": 0,
             "ticks": ""
            },
            "type": "mesh3d"
           }
          ],
          "parcoords": [
           {
            "line": {
             "colorbar": {
              "outlinewidth": 0,
              "ticks": ""
             }
            },
            "type": "parcoords"
           }
          ],
          "pie": [
           {
            "automargin": true,
            "type": "pie"
           }
          ],
          "scatter": [
           {
            "fillpattern": {
             "fillmode": "overlay",
             "size": 10,
             "solidity": 0.2
            },
            "type": "scatter"
           }
          ],
          "scatter3d": [
           {
            "line": {
             "colorbar": {
              "outlinewidth": 0,
              "ticks": ""
             }
            },
            "marker": {
             "colorbar": {
              "outlinewidth": 0,
              "ticks": ""
             }
            },
            "type": "scatter3d"
           }
          ],
          "scattercarpet": [
           {
            "marker": {
             "colorbar": {
              "outlinewidth": 0,
              "ticks": ""
             }
            },
            "type": "scattercarpet"
           }
          ],
          "scattergeo": [
           {
            "marker": {
             "colorbar": {
              "outlinewidth": 0,
              "ticks": ""
             }
            },
            "type": "scattergeo"
           }
          ],
          "scattergl": [
           {
            "marker": {
             "colorbar": {
              "outlinewidth": 0,
              "ticks": ""
             }
            },
            "type": "scattergl"
           }
          ],
          "scattermapbox": [
           {
            "marker": {
             "colorbar": {
              "outlinewidth": 0,
              "ticks": ""
             }
            },
            "type": "scattermapbox"
           }
          ],
          "scatterpolar": [
           {
            "marker": {
             "colorbar": {
              "outlinewidth": 0,
              "ticks": ""
             }
            },
            "type": "scatterpolar"
           }
          ],
          "scatterpolargl": [
           {
            "marker": {
             "colorbar": {
              "outlinewidth": 0,
              "ticks": ""
             }
            },
            "type": "scatterpolargl"
           }
          ],
          "scatterternary": [
           {
            "marker": {
             "colorbar": {
              "outlinewidth": 0,
              "ticks": ""
             }
            },
            "type": "scatterternary"
           }
          ],
          "surface": [
           {
            "colorbar": {
             "outlinewidth": 0,
             "ticks": ""
            },
            "colorscale": [
             [
              0,
              "#0d0887"
             ],
             [
              0.1111111111111111,
              "#46039f"
             ],
             [
              0.2222222222222222,
              "#7201a8"
             ],
             [
              0.3333333333333333,
              "#9c179e"
             ],
             [
              0.4444444444444444,
              "#bd3786"
             ],
             [
              0.5555555555555556,
              "#d8576b"
             ],
             [
              0.6666666666666666,
              "#ed7953"
             ],
             [
              0.7777777777777778,
              "#fb9f3a"
             ],
             [
              0.8888888888888888,
              "#fdca26"
             ],
             [
              1,
              "#f0f921"
             ]
            ],
            "type": "surface"
           }
          ],
          "table": [
           {
            "cells": {
             "fill": {
              "color": "#EBF0F8"
             },
             "line": {
              "color": "white"
             }
            },
            "header": {
             "fill": {
              "color": "#C8D4E3"
             },
             "line": {
              "color": "white"
             }
            },
            "type": "table"
           }
          ]
         },
         "layout": {
          "annotationdefaults": {
           "arrowcolor": "#2a3f5f",
           "arrowhead": 0,
           "arrowwidth": 1
          },
          "autotypenumbers": "strict",
          "coloraxis": {
           "colorbar": {
            "outlinewidth": 0,
            "ticks": ""
           }
          },
          "colorscale": {
           "diverging": [
            [
             0,
             "#8e0152"
            ],
            [
             0.1,
             "#c51b7d"
            ],
            [
             0.2,
             "#de77ae"
            ],
            [
             0.3,
             "#f1b6da"
            ],
            [
             0.4,
             "#fde0ef"
            ],
            [
             0.5,
             "#f7f7f7"
            ],
            [
             0.6,
             "#e6f5d0"
            ],
            [
             0.7,
             "#b8e186"
            ],
            [
             0.8,
             "#7fbc41"
            ],
            [
             0.9,
             "#4d9221"
            ],
            [
             1,
             "#276419"
            ]
           ],
           "sequential": [
            [
             0,
             "#0d0887"
            ],
            [
             0.1111111111111111,
             "#46039f"
            ],
            [
             0.2222222222222222,
             "#7201a8"
            ],
            [
             0.3333333333333333,
             "#9c179e"
            ],
            [
             0.4444444444444444,
             "#bd3786"
            ],
            [
             0.5555555555555556,
             "#d8576b"
            ],
            [
             0.6666666666666666,
             "#ed7953"
            ],
            [
             0.7777777777777778,
             "#fb9f3a"
            ],
            [
             0.8888888888888888,
             "#fdca26"
            ],
            [
             1,
             "#f0f921"
            ]
           ],
           "sequentialminus": [
            [
             0,
             "#0d0887"
            ],
            [
             0.1111111111111111,
             "#46039f"
            ],
            [
             0.2222222222222222,
             "#7201a8"
            ],
            [
             0.3333333333333333,
             "#9c179e"
            ],
            [
             0.4444444444444444,
             "#bd3786"
            ],
            [
             0.5555555555555556,
             "#d8576b"
            ],
            [
             0.6666666666666666,
             "#ed7953"
            ],
            [
             0.7777777777777778,
             "#fb9f3a"
            ],
            [
             0.8888888888888888,
             "#fdca26"
            ],
            [
             1,
             "#f0f921"
            ]
           ]
          },
          "colorway": [
           "#636efa",
           "#EF553B",
           "#00cc96",
           "#ab63fa",
           "#FFA15A",
           "#19d3f3",
           "#FF6692",
           "#B6E880",
           "#FF97FF",
           "#FECB52"
          ],
          "font": {
           "color": "#2a3f5f"
          },
          "geo": {
           "bgcolor": "white",
           "lakecolor": "white",
           "landcolor": "#E5ECF6",
           "showlakes": true,
           "showland": true,
           "subunitcolor": "white"
          },
          "hoverlabel": {
           "align": "left"
          },
          "hovermode": "closest",
          "mapbox": {
           "style": "light"
          },
          "paper_bgcolor": "white",
          "plot_bgcolor": "#E5ECF6",
          "polar": {
           "angularaxis": {
            "gridcolor": "white",
            "linecolor": "white",
            "ticks": ""
           },
           "bgcolor": "#E5ECF6",
           "radialaxis": {
            "gridcolor": "white",
            "linecolor": "white",
            "ticks": ""
           }
          },
          "scene": {
           "xaxis": {
            "backgroundcolor": "#E5ECF6",
            "gridcolor": "white",
            "gridwidth": 2,
            "linecolor": "white",
            "showbackground": true,
            "ticks": "",
            "zerolinecolor": "white"
           },
           "yaxis": {
            "backgroundcolor": "#E5ECF6",
            "gridcolor": "white",
            "gridwidth": 2,
            "linecolor": "white",
            "showbackground": true,
            "ticks": "",
            "zerolinecolor": "white"
           },
           "zaxis": {
            "backgroundcolor": "#E5ECF6",
            "gridcolor": "white",
            "gridwidth": 2,
            "linecolor": "white",
            "showbackground": true,
            "ticks": "",
            "zerolinecolor": "white"
           }
          },
          "shapedefaults": {
           "line": {
            "color": "#2a3f5f"
           }
          },
          "ternary": {
           "aaxis": {
            "gridcolor": "white",
            "linecolor": "white",
            "ticks": ""
           },
           "baxis": {
            "gridcolor": "white",
            "linecolor": "white",
            "ticks": ""
           },
           "bgcolor": "#E5ECF6",
           "caxis": {
            "gridcolor": "white",
            "linecolor": "white",
            "ticks": ""
           }
          },
          "title": {
           "x": 0.05
          },
          "xaxis": {
           "automargin": true,
           "gridcolor": "white",
           "linecolor": "white",
           "ticks": "",
           "title": {
            "standoff": 15
           },
           "zerolinecolor": "white",
           "zerolinewidth": 2
          },
          "yaxis": {
           "automargin": true,
           "gridcolor": "white",
           "linecolor": "white",
           "ticks": "",
           "title": {
            "standoff": 15
           },
           "zerolinecolor": "white",
           "zerolinewidth": 2
          }
         }
        },
        "title": {
         "text": "Hyperparameter Importances"
        },
        "xaxis": {
         "title": {
          "text": "Hyperparameter Importance"
         }
        },
        "yaxis": {
         "title": {
          "text": "Hyperparameter"
         }
        }
       }
      }
     },
     "metadata": {},
     "output_type": "display_data"
    }
   ],
   "source": [
    "# Graficar la importancia de cada hiperparámetro\n",
    "fig_param_importances = vis.plot_param_importances(study)\n",
    "fig_param_importances.show()\n"
   ]
  },
  {
   "cell_type": "code",
   "execution_count": 18,
   "metadata": {},
   "outputs": [
    {
     "data": {
      "application/vnd.plotly.v1+json": {
       "config": {
        "plotlyServerURL": "https://plot.ly"
       },
       "data": [
        {
         "dimensions": [
          {
           "label": "Objective Value",
           "range": [
            0.0038060382939875126,
            0.008741602301597595
           ],
           "values": [
            0.008741602301597595,
            0.004021277651190758,
            0.004935587756335735,
            0.007467654999345541,
            0.0048756953328847885,
            0.0061447517946362495,
            0.004103752784430981,
            0.004996525123715401,
            0.00441867345944047,
            0.008737978525459766,
            0.005075215362012386,
            0.0050672078505158424,
            0.00546236103400588,
            0.004314641933888197,
            0.005920433439314365,
            0.005267915315926075,
            0.004506107419729233,
            0.004137727897614241,
            0.0054491059854626656,
            0.005793561227619648,
            0.0038060382939875126,
            0.008018573746085167,
            0.006557984743267298,
            0.004619700368493795,
            0.00414405670017004,
            0.004882161971181631,
            0.0041990806348621845,
            0.005613109562546015,
            0.0047499677166342735,
            0.006162660196423531,
            0.004252525977790356,
            0.0048086573369801044,
            0.00569969043135643
           ]
          },
          {
           "label": "dense_units",
           "range": [
            64,
            256
           ],
           "values": [
            192,
            256,
            192,
            64,
            256,
            256,
            192,
            256,
            256,
            64,
            128,
            192,
            128,
            192,
            128,
            256,
            192,
            256,
            192,
            128,
            256,
            256,
            256,
            192,
            256,
            192,
            256,
            256,
            192,
            192,
            128,
            256,
            256
           ]
          },
          {
           "label": "dropout_rate",
           "range": [
            0.2,
            0.5
           ],
           "values": [
            0.2,
            0.4,
            0.30000000000000004,
            0.2,
            0.2,
            0.30000000000000004,
            0.2,
            0.30000000000000004,
            0.2,
            0.4,
            0.5,
            0.4,
            0.5,
            0.4,
            0.4,
            0.30000000000000004,
            0.5,
            0.30000000000000004,
            0.4,
            0.5,
            0.2,
            0.2,
            0.2,
            0.30000000000000004,
            0.2,
            0.30000000000000004,
            0.4,
            0.2,
            0.30000000000000004,
            0.2,
            0.2,
            0.30000000000000004,
            0.30000000000000004
           ]
          },
          {
           "label": "lstm_units_aux",
           "range": [
            32,
            128
           ],
           "values": [
            128,
            64,
            64,
            128,
            32,
            64,
            64,
            96,
            32,
            64,
            96,
            64,
            32,
            96,
            64,
            96,
            32,
            64,
            96,
            32,
            64,
            64,
            64,
            64,
            96,
            64,
            32,
            64,
            96,
            128,
            32,
            64,
            64
           ]
          },
          {
           "label": "lstm_units_cnn",
           "range": [
            64,
            256
           ],
           "values": [
            192,
            64,
            256,
            256,
            256,
            128,
            64,
            128,
            128,
            256,
            64,
            64,
            64,
            64,
            192,
            128,
            64,
            64,
            192,
            128,
            64,
            64,
            64,
            128,
            64,
            64,
            128,
            64,
            128,
            192,
            64,
            64,
            64
           ]
          }
         ],
         "labelangle": 30,
         "labelside": "bottom",
         "line": {
          "color": [
           0.008741602301597595,
           0.004021277651190758,
           0.004935587756335735,
           0.007467654999345541,
           0.0048756953328847885,
           0.0061447517946362495,
           0.004103752784430981,
           0.004996525123715401,
           0.00441867345944047,
           0.008737978525459766,
           0.005075215362012386,
           0.0050672078505158424,
           0.00546236103400588,
           0.004314641933888197,
           0.005920433439314365,
           0.005267915315926075,
           0.004506107419729233,
           0.004137727897614241,
           0.0054491059854626656,
           0.005793561227619648,
           0.0038060382939875126,
           0.008018573746085167,
           0.006557984743267298,
           0.004619700368493795,
           0.00414405670017004,
           0.004882161971181631,
           0.0041990806348621845,
           0.005613109562546015,
           0.0047499677166342735,
           0.006162660196423531,
           0.004252525977790356,
           0.0048086573369801044,
           0.00569969043135643
          ],
          "colorbar": {
           "title": {
            "text": "Objective Value"
           }
          },
          "colorscale": [
           [
            0,
            "rgb(247,251,255)"
           ],
           [
            0.125,
            "rgb(222,235,247)"
           ],
           [
            0.25,
            "rgb(198,219,239)"
           ],
           [
            0.375,
            "rgb(158,202,225)"
           ],
           [
            0.5,
            "rgb(107,174,214)"
           ],
           [
            0.625,
            "rgb(66,146,198)"
           ],
           [
            0.75,
            "rgb(33,113,181)"
           ],
           [
            0.875,
            "rgb(8,81,156)"
           ],
           [
            1,
            "rgb(8,48,107)"
           ]
          ],
          "reversescale": true,
          "showscale": true
         },
         "type": "parcoords"
        }
       ],
       "layout": {
        "template": {
         "data": {
          "bar": [
           {
            "error_x": {
             "color": "#2a3f5f"
            },
            "error_y": {
             "color": "#2a3f5f"
            },
            "marker": {
             "line": {
              "color": "#E5ECF6",
              "width": 0.5
             },
             "pattern": {
              "fillmode": "overlay",
              "size": 10,
              "solidity": 0.2
             }
            },
            "type": "bar"
           }
          ],
          "barpolar": [
           {
            "marker": {
             "line": {
              "color": "#E5ECF6",
              "width": 0.5
             },
             "pattern": {
              "fillmode": "overlay",
              "size": 10,
              "solidity": 0.2
             }
            },
            "type": "barpolar"
           }
          ],
          "carpet": [
           {
            "aaxis": {
             "endlinecolor": "#2a3f5f",
             "gridcolor": "white",
             "linecolor": "white",
             "minorgridcolor": "white",
             "startlinecolor": "#2a3f5f"
            },
            "baxis": {
             "endlinecolor": "#2a3f5f",
             "gridcolor": "white",
             "linecolor": "white",
             "minorgridcolor": "white",
             "startlinecolor": "#2a3f5f"
            },
            "type": "carpet"
           }
          ],
          "choropleth": [
           {
            "colorbar": {
             "outlinewidth": 0,
             "ticks": ""
            },
            "type": "choropleth"
           }
          ],
          "contour": [
           {
            "colorbar": {
             "outlinewidth": 0,
             "ticks": ""
            },
            "colorscale": [
             [
              0,
              "#0d0887"
             ],
             [
              0.1111111111111111,
              "#46039f"
             ],
             [
              0.2222222222222222,
              "#7201a8"
             ],
             [
              0.3333333333333333,
              "#9c179e"
             ],
             [
              0.4444444444444444,
              "#bd3786"
             ],
             [
              0.5555555555555556,
              "#d8576b"
             ],
             [
              0.6666666666666666,
              "#ed7953"
             ],
             [
              0.7777777777777778,
              "#fb9f3a"
             ],
             [
              0.8888888888888888,
              "#fdca26"
             ],
             [
              1,
              "#f0f921"
             ]
            ],
            "type": "contour"
           }
          ],
          "contourcarpet": [
           {
            "colorbar": {
             "outlinewidth": 0,
             "ticks": ""
            },
            "type": "contourcarpet"
           }
          ],
          "heatmap": [
           {
            "colorbar": {
             "outlinewidth": 0,
             "ticks": ""
            },
            "colorscale": [
             [
              0,
              "#0d0887"
             ],
             [
              0.1111111111111111,
              "#46039f"
             ],
             [
              0.2222222222222222,
              "#7201a8"
             ],
             [
              0.3333333333333333,
              "#9c179e"
             ],
             [
              0.4444444444444444,
              "#bd3786"
             ],
             [
              0.5555555555555556,
              "#d8576b"
             ],
             [
              0.6666666666666666,
              "#ed7953"
             ],
             [
              0.7777777777777778,
              "#fb9f3a"
             ],
             [
              0.8888888888888888,
              "#fdca26"
             ],
             [
              1,
              "#f0f921"
             ]
            ],
            "type": "heatmap"
           }
          ],
          "heatmapgl": [
           {
            "colorbar": {
             "outlinewidth": 0,
             "ticks": ""
            },
            "colorscale": [
             [
              0,
              "#0d0887"
             ],
             [
              0.1111111111111111,
              "#46039f"
             ],
             [
              0.2222222222222222,
              "#7201a8"
             ],
             [
              0.3333333333333333,
              "#9c179e"
             ],
             [
              0.4444444444444444,
              "#bd3786"
             ],
             [
              0.5555555555555556,
              "#d8576b"
             ],
             [
              0.6666666666666666,
              "#ed7953"
             ],
             [
              0.7777777777777778,
              "#fb9f3a"
             ],
             [
              0.8888888888888888,
              "#fdca26"
             ],
             [
              1,
              "#f0f921"
             ]
            ],
            "type": "heatmapgl"
           }
          ],
          "histogram": [
           {
            "marker": {
             "pattern": {
              "fillmode": "overlay",
              "size": 10,
              "solidity": 0.2
             }
            },
            "type": "histogram"
           }
          ],
          "histogram2d": [
           {
            "colorbar": {
             "outlinewidth": 0,
             "ticks": ""
            },
            "colorscale": [
             [
              0,
              "#0d0887"
             ],
             [
              0.1111111111111111,
              "#46039f"
             ],
             [
              0.2222222222222222,
              "#7201a8"
             ],
             [
              0.3333333333333333,
              "#9c179e"
             ],
             [
              0.4444444444444444,
              "#bd3786"
             ],
             [
              0.5555555555555556,
              "#d8576b"
             ],
             [
              0.6666666666666666,
              "#ed7953"
             ],
             [
              0.7777777777777778,
              "#fb9f3a"
             ],
             [
              0.8888888888888888,
              "#fdca26"
             ],
             [
              1,
              "#f0f921"
             ]
            ],
            "type": "histogram2d"
           }
          ],
          "histogram2dcontour": [
           {
            "colorbar": {
             "outlinewidth": 0,
             "ticks": ""
            },
            "colorscale": [
             [
              0,
              "#0d0887"
             ],
             [
              0.1111111111111111,
              "#46039f"
             ],
             [
              0.2222222222222222,
              "#7201a8"
             ],
             [
              0.3333333333333333,
              "#9c179e"
             ],
             [
              0.4444444444444444,
              "#bd3786"
             ],
             [
              0.5555555555555556,
              "#d8576b"
             ],
             [
              0.6666666666666666,
              "#ed7953"
             ],
             [
              0.7777777777777778,
              "#fb9f3a"
             ],
             [
              0.8888888888888888,
              "#fdca26"
             ],
             [
              1,
              "#f0f921"
             ]
            ],
            "type": "histogram2dcontour"
           }
          ],
          "mesh3d": [
           {
            "colorbar": {
             "outlinewidth": 0,
             "ticks": ""
            },
            "type": "mesh3d"
           }
          ],
          "parcoords": [
           {
            "line": {
             "colorbar": {
              "outlinewidth": 0,
              "ticks": ""
             }
            },
            "type": "parcoords"
           }
          ],
          "pie": [
           {
            "automargin": true,
            "type": "pie"
           }
          ],
          "scatter": [
           {
            "fillpattern": {
             "fillmode": "overlay",
             "size": 10,
             "solidity": 0.2
            },
            "type": "scatter"
           }
          ],
          "scatter3d": [
           {
            "line": {
             "colorbar": {
              "outlinewidth": 0,
              "ticks": ""
             }
            },
            "marker": {
             "colorbar": {
              "outlinewidth": 0,
              "ticks": ""
             }
            },
            "type": "scatter3d"
           }
          ],
          "scattercarpet": [
           {
            "marker": {
             "colorbar": {
              "outlinewidth": 0,
              "ticks": ""
             }
            },
            "type": "scattercarpet"
           }
          ],
          "scattergeo": [
           {
            "marker": {
             "colorbar": {
              "outlinewidth": 0,
              "ticks": ""
             }
            },
            "type": "scattergeo"
           }
          ],
          "scattergl": [
           {
            "marker": {
             "colorbar": {
              "outlinewidth": 0,
              "ticks": ""
             }
            },
            "type": "scattergl"
           }
          ],
          "scattermapbox": [
           {
            "marker": {
             "colorbar": {
              "outlinewidth": 0,
              "ticks": ""
             }
            },
            "type": "scattermapbox"
           }
          ],
          "scatterpolar": [
           {
            "marker": {
             "colorbar": {
              "outlinewidth": 0,
              "ticks": ""
             }
            },
            "type": "scatterpolar"
           }
          ],
          "scatterpolargl": [
           {
            "marker": {
             "colorbar": {
              "outlinewidth": 0,
              "ticks": ""
             }
            },
            "type": "scatterpolargl"
           }
          ],
          "scatterternary": [
           {
            "marker": {
             "colorbar": {
              "outlinewidth": 0,
              "ticks": ""
             }
            },
            "type": "scatterternary"
           }
          ],
          "surface": [
           {
            "colorbar": {
             "outlinewidth": 0,
             "ticks": ""
            },
            "colorscale": [
             [
              0,
              "#0d0887"
             ],
             [
              0.1111111111111111,
              "#46039f"
             ],
             [
              0.2222222222222222,
              "#7201a8"
             ],
             [
              0.3333333333333333,
              "#9c179e"
             ],
             [
              0.4444444444444444,
              "#bd3786"
             ],
             [
              0.5555555555555556,
              "#d8576b"
             ],
             [
              0.6666666666666666,
              "#ed7953"
             ],
             [
              0.7777777777777778,
              "#fb9f3a"
             ],
             [
              0.8888888888888888,
              "#fdca26"
             ],
             [
              1,
              "#f0f921"
             ]
            ],
            "type": "surface"
           }
          ],
          "table": [
           {
            "cells": {
             "fill": {
              "color": "#EBF0F8"
             },
             "line": {
              "color": "white"
             }
            },
            "header": {
             "fill": {
              "color": "#C8D4E3"
             },
             "line": {
              "color": "white"
             }
            },
            "type": "table"
           }
          ]
         },
         "layout": {
          "annotationdefaults": {
           "arrowcolor": "#2a3f5f",
           "arrowhead": 0,
           "arrowwidth": 1
          },
          "autotypenumbers": "strict",
          "coloraxis": {
           "colorbar": {
            "outlinewidth": 0,
            "ticks": ""
           }
          },
          "colorscale": {
           "diverging": [
            [
             0,
             "#8e0152"
            ],
            [
             0.1,
             "#c51b7d"
            ],
            [
             0.2,
             "#de77ae"
            ],
            [
             0.3,
             "#f1b6da"
            ],
            [
             0.4,
             "#fde0ef"
            ],
            [
             0.5,
             "#f7f7f7"
            ],
            [
             0.6,
             "#e6f5d0"
            ],
            [
             0.7,
             "#b8e186"
            ],
            [
             0.8,
             "#7fbc41"
            ],
            [
             0.9,
             "#4d9221"
            ],
            [
             1,
             "#276419"
            ]
           ],
           "sequential": [
            [
             0,
             "#0d0887"
            ],
            [
             0.1111111111111111,
             "#46039f"
            ],
            [
             0.2222222222222222,
             "#7201a8"
            ],
            [
             0.3333333333333333,
             "#9c179e"
            ],
            [
             0.4444444444444444,
             "#bd3786"
            ],
            [
             0.5555555555555556,
             "#d8576b"
            ],
            [
             0.6666666666666666,
             "#ed7953"
            ],
            [
             0.7777777777777778,
             "#fb9f3a"
            ],
            [
             0.8888888888888888,
             "#fdca26"
            ],
            [
             1,
             "#f0f921"
            ]
           ],
           "sequentialminus": [
            [
             0,
             "#0d0887"
            ],
            [
             0.1111111111111111,
             "#46039f"
            ],
            [
             0.2222222222222222,
             "#7201a8"
            ],
            [
             0.3333333333333333,
             "#9c179e"
            ],
            [
             0.4444444444444444,
             "#bd3786"
            ],
            [
             0.5555555555555556,
             "#d8576b"
            ],
            [
             0.6666666666666666,
             "#ed7953"
            ],
            [
             0.7777777777777778,
             "#fb9f3a"
            ],
            [
             0.8888888888888888,
             "#fdca26"
            ],
            [
             1,
             "#f0f921"
            ]
           ]
          },
          "colorway": [
           "#636efa",
           "#EF553B",
           "#00cc96",
           "#ab63fa",
           "#FFA15A",
           "#19d3f3",
           "#FF6692",
           "#B6E880",
           "#FF97FF",
           "#FECB52"
          ],
          "font": {
           "color": "#2a3f5f"
          },
          "geo": {
           "bgcolor": "white",
           "lakecolor": "white",
           "landcolor": "#E5ECF6",
           "showlakes": true,
           "showland": true,
           "subunitcolor": "white"
          },
          "hoverlabel": {
           "align": "left"
          },
          "hovermode": "closest",
          "mapbox": {
           "style": "light"
          },
          "paper_bgcolor": "white",
          "plot_bgcolor": "#E5ECF6",
          "polar": {
           "angularaxis": {
            "gridcolor": "white",
            "linecolor": "white",
            "ticks": ""
           },
           "bgcolor": "#E5ECF6",
           "radialaxis": {
            "gridcolor": "white",
            "linecolor": "white",
            "ticks": ""
           }
          },
          "scene": {
           "xaxis": {
            "backgroundcolor": "#E5ECF6",
            "gridcolor": "white",
            "gridwidth": 2,
            "linecolor": "white",
            "showbackground": true,
            "ticks": "",
            "zerolinecolor": "white"
           },
           "yaxis": {
            "backgroundcolor": "#E5ECF6",
            "gridcolor": "white",
            "gridwidth": 2,
            "linecolor": "white",
            "showbackground": true,
            "ticks": "",
            "zerolinecolor": "white"
           },
           "zaxis": {
            "backgroundcolor": "#E5ECF6",
            "gridcolor": "white",
            "gridwidth": 2,
            "linecolor": "white",
            "showbackground": true,
            "ticks": "",
            "zerolinecolor": "white"
           }
          },
          "shapedefaults": {
           "line": {
            "color": "#2a3f5f"
           }
          },
          "ternary": {
           "aaxis": {
            "gridcolor": "white",
            "linecolor": "white",
            "ticks": ""
           },
           "baxis": {
            "gridcolor": "white",
            "linecolor": "white",
            "ticks": ""
           },
           "bgcolor": "#E5ECF6",
           "caxis": {
            "gridcolor": "white",
            "linecolor": "white",
            "ticks": ""
           }
          },
          "title": {
           "x": 0.05
          },
          "xaxis": {
           "automargin": true,
           "gridcolor": "white",
           "linecolor": "white",
           "ticks": "",
           "title": {
            "standoff": 15
           },
           "zerolinecolor": "white",
           "zerolinewidth": 2
          },
          "yaxis": {
           "automargin": true,
           "gridcolor": "white",
           "linecolor": "white",
           "ticks": "",
           "title": {
            "standoff": 15
           },
           "zerolinecolor": "white",
           "zerolinewidth": 2
          }
         }
        },
        "title": {
         "text": "Parallel Coordinate Plot"
        }
       }
      }
     },
     "metadata": {},
     "output_type": "display_data"
    }
   ],
   "source": [
    "# Graficar las coordenadas paralelas para ver las interacciones entre hiperparámetros\n",
    "fig_parallel_coordinate = vis.plot_parallel_coordinate(study)\n",
    "fig_parallel_coordinate.show()"
   ]
  }
 ],
 "metadata": {
  "kernelspec": {
   "display_name": "base",
   "language": "python",
   "name": "python3"
  },
  "language_info": {
   "codemirror_mode": {
    "name": "ipython",
    "version": 3
   },
   "file_extension": ".py",
   "mimetype": "text/x-python",
   "name": "python",
   "nbconvert_exporter": "python",
   "pygments_lexer": "ipython3",
   "version": "3.12.4"
  }
 },
 "nbformat": 4,
 "nbformat_minor": 2
}
